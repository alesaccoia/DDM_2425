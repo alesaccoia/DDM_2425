{
  "cells": [
    {
      "cell_type": "markdown",
      "metadata": {
        "id": "qhxgLs-yJfBc"
      },
      "source": [
        "[![Open In Colab](https://colab.research.google.com/assets/colab-badge.svg)](https://colab.research.google.com/github/alesaccoia/IULM_DDM2324_Notebooks/blob/main/12_clustering_carta_di_credito.ipynb)"
      ]
    },
    {
      "cell_type": "markdown",
      "metadata": {
        "id": "JpCay0tXJfBe"
      },
      "source": [
        "# Clustering gerarchico sul dataset\n",
        "\n",
        "Dataset tratto dal [link](https://www.kaggle.com/datasets/arjunbhasin2013/ccdata), primaditutto leggere al link la descrizione delle variabili.\n",
        "\n",
        "Questo caso richiede di sviluppare una segmentazione dei clienti per definire la strategia di marketing. Il set di dati di esempio riassume il comportamento d'uso di circa 9000 titolari di carte di credito attive durante gli ultimi 6 mesi. Il file è a livello di cliente con 18 variabili comportamentali.\n",
        "\n",
        "Iniziamo con il primo passo: carichiamo il dataset e diamo un'occhiata ai primi record e alle informazioni generali."
      ]
    },
    {
      "cell_type": "code",
      "execution_count": 1,
      "metadata": {
        "id": "a132M09ZJfBf",
        "outputId": "abf496bb-311e-499c-e59e-a0180287077d",
        "colab": {
          "base_uri": "https://localhost:8080/"
        }
      },
      "outputs": [
        {
          "output_type": "stream",
          "name": "stdout",
          "text": [
            "--2024-04-09 13:58:19--  https://github.com/Stefano0210/IULM_DDM2324_Notebooks/raw/main/data/CC%20GENERAL.csv\n",
            "Resolving github.com (github.com)... 140.82.113.4\n",
            "Connecting to github.com (github.com)|140.82.113.4|:443... connected.\n",
            "HTTP request sent, awaiting response... 302 Found\n",
            "Location: https://raw.githubusercontent.com/Stefano0210/IULM_DDM2324_Notebooks/main/data/CC%20GENERAL.csv [following]\n",
            "--2024-04-09 13:58:19--  https://raw.githubusercontent.com/Stefano0210/IULM_DDM2324_Notebooks/main/data/CC%20GENERAL.csv\n",
            "Resolving raw.githubusercontent.com (raw.githubusercontent.com)... 185.199.108.133, 185.199.109.133, 185.199.110.133, ...\n",
            "Connecting to raw.githubusercontent.com (raw.githubusercontent.com)|185.199.108.133|:443... connected.\n",
            "HTTP request sent, awaiting response... 200 OK\n",
            "Length: 902879 (882K) [text/plain]\n",
            "Saving to: ‘CC GENERAL.csv’\n",
            "\n",
            "CC GENERAL.csv      100%[===================>] 881.72K  --.-KB/s    in 0.05s   \n",
            "\n",
            "2024-04-09 13:58:19 (16.9 MB/s) - ‘CC GENERAL.csv’ saved [902879/902879]\n",
            "\n",
            "<class 'pandas.core.frame.DataFrame'>\n",
            "RangeIndex: 8950 entries, 0 to 8949\n",
            "Data columns (total 18 columns):\n",
            " #   Column                            Non-Null Count  Dtype  \n",
            "---  ------                            --------------  -----  \n",
            " 0   CUST_ID                           8950 non-null   object \n",
            " 1   BALANCE                           8950 non-null   float64\n",
            " 2   BALANCE_FREQUENCY                 8950 non-null   float64\n",
            " 3   PURCHASES                         8950 non-null   float64\n",
            " 4   ONEOFF_PURCHASES                  8950 non-null   float64\n",
            " 5   INSTALLMENTS_PURCHASES            8950 non-null   float64\n",
            " 6   CASH_ADVANCE                      8950 non-null   float64\n",
            " 7   PURCHASES_FREQUENCY               8950 non-null   float64\n",
            " 8   ONEOFF_PURCHASES_FREQUENCY        8950 non-null   float64\n",
            " 9   PURCHASES_INSTALLMENTS_FREQUENCY  8950 non-null   float64\n",
            " 10  CASH_ADVANCE_FREQUENCY            8950 non-null   float64\n",
            " 11  CASH_ADVANCE_TRX                  8950 non-null   int64  \n",
            " 12  PURCHASES_TRX                     8950 non-null   int64  \n",
            " 13  CREDIT_LIMIT                      8949 non-null   float64\n",
            " 14  PAYMENTS                          8950 non-null   float64\n",
            " 15  MINIMUM_PAYMENTS                  8637 non-null   float64\n",
            " 16  PRC_FULL_PAYMENT                  8950 non-null   float64\n",
            " 17  TENURE                            8950 non-null   int64  \n",
            "dtypes: float64(14), int64(3), object(1)\n",
            "memory usage: 1.2+ MB\n"
          ]
        },
        {
          "output_type": "execute_result",
          "data": {
            "text/plain": [
              "(None,\n",
              "   CUST_ID      BALANCE  BALANCE_FREQUENCY  PURCHASES  ONEOFF_PURCHASES  \\\n",
              " 0  C10001    40.900749           0.818182      95.40              0.00   \n",
              " 1  C10002  3202.467416           0.909091       0.00              0.00   \n",
              " 2  C10003  2495.148862           1.000000     773.17            773.17   \n",
              " 3  C10004  1666.670542           0.636364    1499.00           1499.00   \n",
              " 4  C10005   817.714335           1.000000      16.00             16.00   \n",
              " \n",
              "    INSTALLMENTS_PURCHASES  CASH_ADVANCE  PURCHASES_FREQUENCY  \\\n",
              " 0                    95.4      0.000000             0.166667   \n",
              " 1                     0.0   6442.945483             0.000000   \n",
              " 2                     0.0      0.000000             1.000000   \n",
              " 3                     0.0    205.788017             0.083333   \n",
              " 4                     0.0      0.000000             0.083333   \n",
              " \n",
              "    ONEOFF_PURCHASES_FREQUENCY  PURCHASES_INSTALLMENTS_FREQUENCY  \\\n",
              " 0                    0.000000                          0.083333   \n",
              " 1                    0.000000                          0.000000   \n",
              " 2                    1.000000                          0.000000   \n",
              " 3                    0.083333                          0.000000   \n",
              " 4                    0.083333                          0.000000   \n",
              " \n",
              "    CASH_ADVANCE_FREQUENCY  CASH_ADVANCE_TRX  PURCHASES_TRX  CREDIT_LIMIT  \\\n",
              " 0                0.000000                 0              2        1000.0   \n",
              " 1                0.250000                 4              0        7000.0   \n",
              " 2                0.000000                 0             12        7500.0   \n",
              " 3                0.083333                 1              1        7500.0   \n",
              " 4                0.000000                 0              1        1200.0   \n",
              " \n",
              "       PAYMENTS  MINIMUM_PAYMENTS  PRC_FULL_PAYMENT  TENURE  \n",
              " 0   201.802084        139.509787          0.000000      12  \n",
              " 1  4103.032597       1072.340217          0.222222      12  \n",
              " 2   622.066742        627.284787          0.000000      12  \n",
              " 3     0.000000               NaN          0.000000      12  \n",
              " 4   678.334763        244.791237          0.000000      12  )"
            ]
          },
          "metadata": {},
          "execution_count": 1
        }
      ],
      "source": [
        "import pandas as pd\n",
        "\n",
        "!wget \"https://github.com/Stefano0210/IULM_DDM2324_Notebooks/raw/main/data/CC%20GENERAL.csv\"\n",
        "# Load the dataset\n",
        "data = pd.read_csv('CC GENERAL.csv')\n",
        "\n",
        "# Display the first few rows of the dataset and its general info\n",
        "data_info = data.info()\n",
        "data_head = data.head()\n",
        "\n",
        "data_info, data_head\n"
      ]
    },
    {
      "cell_type": "markdown",
      "metadata": {
        "id": "XdxZiL5HJfBg"
      },
      "source": [
        "Ora, i prossimi step sono a cura del lettore:\n",
        "- controlla i valori nulli\n",
        "- imputali con la mediana\n",
        "- esegui un clustering gerarchico, trova un numero rilevante di cluster, descrivi i cluster\n",
        "- trova il cluster più interessante per la creazione di sottocluster, fai un altra clusterizzazione e descrivi i nuovi cluster\n",
        "\n",
        "Come utilizzeresti queste informazioni per migliorare il business?"
      ]
    }
  ],
  "metadata": {
    "kernelspec": {
      "display_name": "Python 3",
      "language": "python",
      "name": "python3"
    },
    "language_info": {
      "codemirror_mode": {
        "name": "ipython",
        "version": 3
      },
      "file_extension": ".py",
      "mimetype": "text/x-python",
      "name": "python",
      "nbconvert_exporter": "python",
      "pygments_lexer": "ipython3",
      "version": "3.9.17"
    },
    "colab": {
      "provenance": []
    }
  },
  "nbformat": 4,
  "nbformat_minor": 0
}