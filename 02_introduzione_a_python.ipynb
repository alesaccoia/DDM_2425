{
  "cells": [
    {
      "cell_type": "markdown",
      "metadata": {
        "id": "msDz-3FXGMWS"
      },
      "source": [
        "[![Open In Colab](https://colab.research.google.com/assets/colab-badge.svg)](https://colab.research.google.com/github/alesaccoia/IULM_DDM2324_Notebooks/blob/main/02_introduzione_a_python.ipynb)"
      ]
    },
    {
      "cell_type": "markdown",
      "metadata": {
        "id": "vaQe6wO5GMWU"
      },
      "source": [
        "# Introduzione a Python"
      ]
    },
    {
      "cell_type": "markdown",
      "metadata": {
        "id": "P0g42g5mGMWV"
      },
      "source": [
        "## Istruzioni di import\n",
        "Puoi importare un modulo o una libreria in Python usando l'istruzione 'import'"
      ]
    },
    {
      "cell_type": "code",
      "execution_count": 1,
      "metadata": {
        "id": "YOwCTHZCGMWV",
        "outputId": "68afbe0a-7d97-4c46-9cdc-5d94238591d9",
        "colab": {
          "base_uri": "https://localhost:8080/"
        }
      },
      "outputs": [
        {
          "output_type": "stream",
          "name": "stdout",
          "text": [
            "5.0\n"
          ]
        }
      ],
      "source": [
        "import math\n",
        "# Ad esempio, ora possiamo utilizzare funzioni dalla libreria math\n",
        "print(math.sqrt(25))"
      ]
    },
    {
      "cell_type": "code",
      "execution_count": 4,
      "metadata": {
        "id": "SdB7PXbTGMWW",
        "outputId": "ee93834b-a27c-436a-cac6-f32321ab70bc",
        "colab": {
          "base_uri": "https://localhost:8080/"
        }
      },
      "outputs": [
        {
          "output_type": "stream",
          "name": "stdout",
          "text": [
            "5.0\n"
          ]
        }
      ],
      "source": [
        "# Se desideri importare solo alcune funzioni o classi da un modulo, puoi utilizzare \"from ... import ...\"\n",
        "from math import sqrt\n",
        "\n",
        "# Ora puoi utilizzare direttamente la funzione sqrt() senza il prefisso math.\n",
        "print(sqrt(25))"
      ]
    },
    {
      "cell_type": "markdown",
      "metadata": {
        "id": "F31v4tiLGMWW"
      },
      "source": [
        "## Variabili e literals"
      ]
    },
    {
      "cell_type": "code",
      "execution_count": 5,
      "metadata": {
        "id": "G-xHFDuqGMWW",
        "outputId": "035af3f9-561c-467a-d62c-646fc5e523bf",
        "colab": {
          "base_uri": "https://localhost:8080/"
        }
      },
      "outputs": [
        {
          "output_type": "stream",
          "name": "stdout",
          "text": [
            "5\n",
            "Ciao, mondo!\n"
          ]
        }
      ],
      "source": [
        "numero = 5\n",
        "parola = \"Ciao, mondo!\"\n",
        "\n",
        "print(numero)\n",
        "print(parola)"
      ]
    },
    {
      "cell_type": "markdown",
      "metadata": {
        "id": "gmfeGkQRGMWW"
      },
      "source": [
        "## Tipi di dato elementari"
      ]
    },
    {
      "cell_type": "code",
      "execution_count": 7,
      "metadata": {
        "id": "_6bFHQ1sGMWX"
      },
      "outputs": [],
      "source": [
        "# Intero\n",
        "x = 5\n",
        "\n",
        "# Floating point (Decimale)\n",
        "y = 5.5\n",
        "\n",
        "# Stringa\n",
        "nome = \"Mario\"\n",
        "\n",
        "# Booleano\n",
        "is_true = True  # Oppure False"
      ]
    },
    {
      "cell_type": "markdown",
      "metadata": {
        "id": "VweQ_XyqGMWX"
      },
      "source": [
        "## Funzioni\n",
        "Una funzione è un blocco di codice che esegue una specifica operazione."
      ]
    },
    {
      "cell_type": "code",
      "execution_count": 8,
      "metadata": {
        "id": "g6kyNWkmGMWX",
        "outputId": "7f7f145f-67ea-408e-d843-99c29eb5865a",
        "colab": {
          "base_uri": "https://localhost:8080/"
        }
      },
      "outputs": [
        {
          "output_type": "stream",
          "name": "stdout",
          "text": [
            "Ciao, Luca!\n"
          ]
        }
      ],
      "source": [
        "def saluta(nome):\n",
        "    return \"Ciao, \" + nome + \"!\"\n",
        "\n",
        "print(saluta(\"Luca\"))"
      ]
    },
    {
      "cell_type": "markdown",
      "metadata": {
        "id": "vfe7HTOiGMWX"
      },
      "source": [
        "## Classi\n",
        "Una classe è un modello o un blueprint per creare oggetti."
      ]
    },
    {
      "cell_type": "code",
      "execution_count": 9,
      "metadata": {
        "id": "Oqo5mmSjGMWX",
        "outputId": "c361c028-bde1-4e6c-dcaa-1177e0f27a78",
        "colab": {
          "base_uri": "https://localhost:8080/"
        }
      },
      "outputs": [
        {
          "output_type": "stream",
          "name": "stdout",
          "text": [
            "Ciao, Luca!\n",
            "Ciao, Mario!\n"
          ]
        }
      ],
      "source": [
        "class Persona:\n",
        "    def __init__(self, nome):\n",
        "        self.nome = nome\n",
        "\n",
        "    def saluta(self):\n",
        "        return \"Ciao, \" + self.nome + \"!\"\n",
        "\n",
        "persona = Persona(\"Luca\")\n",
        "print(persona.saluta())\n",
        "\n",
        "persona = Persona(\"Mario\")\n",
        "print(persona.saluta())\n"
      ]
    },
    {
      "cell_type": "markdown",
      "metadata": {
        "id": "f74mmhJeGMWX"
      },
      "source": [
        "## Liste\n",
        "Una lista è una raccolta ordinata di elementi."
      ]
    },
    {
      "cell_type": "code",
      "execution_count": 13,
      "metadata": {
        "id": "aKEYdcW0GMWX",
        "outputId": "7316d5e4-c2d6-4737-9762-e35283be91ea",
        "colab": {
          "base_uri": "https://localhost:8080/"
        }
      },
      "outputs": [
        {
          "output_type": "stream",
          "name": "stdout",
          "text": [
            "3\n"
          ]
        }
      ],
      "source": [
        "nodi = [1, 2, 3, \"ciao\", [\"a\", {\"foo\": 5}]]\n",
        "print(nodi[2])  # Stampa il terzo elemento: 3"
      ]
    },
    {
      "cell_type": "markdown",
      "metadata": {
        "id": "Ul8QLZp1GMWY"
      },
      "source": [
        "## Dizionari\n",
        "Un dizionario è una raccolta non ordinata di dati in un formato chiave:valore."
      ]
    },
    {
      "cell_type": "code",
      "execution_count": 14,
      "metadata": {
        "id": "SMzeNF9vGMWY",
        "outputId": "ffe33b6c-7f36-4f21-9c49-b9f450f46b12",
        "colab": {
          "base_uri": "https://localhost:8080/"
        }
      },
      "outputs": [
        {
          "output_type": "stream",
          "name": "stdout",
          "text": [
            "Luca\n"
          ]
        }
      ],
      "source": [
        "studente = {\n",
        "    \"nome\": \"Luca\",\n",
        "    \"età\": 20,\n",
        "    \"corso\": \"Informatica\"\n",
        "}\n",
        "\n",
        "print(studente[\"nome\"])  # Stampa \"Luca\""
      ]
    },
    {
      "cell_type": "markdown",
      "metadata": {
        "id": "kVue3WfvGMWY"
      },
      "source": [
        "## Insiemi\n",
        "Un insieme (set) é un insieme non ordinato di elementi unici"
      ]
    },
    {
      "cell_type": "code",
      "execution_count": 15,
      "metadata": {
        "id": "Kd77s4i3GMWY",
        "outputId": "d6118701-bf70-4597-d717-d095e86dcea0",
        "colab": {
          "base_uri": "https://localhost:8080/"
        }
      },
      "outputs": [
        {
          "output_type": "stream",
          "name": "stdout",
          "text": [
            "{'marco', 'giovanni', 'alessandro'}\n",
            "{'caterina', 'giulia', 'laura'}\n"
          ]
        }
      ],
      "source": [
        "insieme_maschi = set([\"marco\", \"giovanni\", \"alessandro\"])\n",
        "insieme_femmine = set([\"laura\", \"giulia\", \"caterina\"])\n",
        "\n",
        "print(insieme_maschi)\n",
        "print(insieme_femmine)"
      ]
    },
    {
      "cell_type": "code",
      "execution_count": 16,
      "metadata": {
        "id": "C1hoP9AxGMWY",
        "outputId": "2d18ed60-0a89-4f65-bac8-2258900afd7a",
        "colab": {
          "base_uri": "https://localhost:8080/"
        }
      },
      "outputs": [
        {
          "output_type": "stream",
          "name": "stdout",
          "text": [
            "{'marco', 'giovanni', 'alessandro'}\n"
          ]
        }
      ],
      "source": [
        "insieme_maschi.add(\"alessandro\") # aggiungendo un elemento giá esistente, il contenuto non cambia\n",
        "print(insieme_maschi)"
      ]
    },
    {
      "cell_type": "code",
      "execution_count": 17,
      "metadata": {
        "id": "Omo4r41cGMWY",
        "outputId": "75ec22c3-b3dd-432f-9258-d3abed55f90c",
        "colab": {
          "base_uri": "https://localhost:8080/"
        }
      },
      "outputs": [
        {
          "output_type": "stream",
          "name": "stdout",
          "text": [
            "{'alessandro', 'giovanni', 'giulia', 'laura', 'marco', 'caterina'}\n",
            "set()\n"
          ]
        }
      ],
      "source": [
        "print(insieme_maschi.union(insieme_femmine)) # stampa l'unione dei due insiemi\n",
        "print(insieme_maschi.intersection(insieme_femmine)) # stampa l'intersezione dei due insiemi, vuota in quanto disgiunti"
      ]
    },
    {
      "cell_type": "markdown",
      "metadata": {
        "id": "7E5zugO8GMWY"
      },
      "source": [
        "## Cicli (loop)\n",
        "I cicli servono per iterare su valori o variabili"
      ]
    },
    {
      "cell_type": "code",
      "execution_count": 18,
      "metadata": {
        "id": "HF-SApnRGMWY",
        "outputId": "a9feaa43-28e9-4667-dff5-ec61a1f99af1",
        "colab": {
          "base_uri": "https://localhost:8080/"
        }
      },
      "outputs": [
        {
          "output_type": "stream",
          "name": "stdout",
          "text": [
            "0\n",
            "1\n",
            "2\n",
            "3\n",
            "4\n",
            "2\n",
            "3\n",
            "4\n",
            "0\n",
            "1\n",
            "2\n",
            "3\n",
            "4\n",
            "0 a\n",
            "1 b\n",
            "2 c\n"
          ]
        }
      ],
      "source": [
        "# For loop\n",
        "for i in range(5):  # Stampa i numeri da 0 a 4\n",
        "    print(i)\n",
        "\n",
        "# For loop\n",
        "for i in range(2, 5):  # Stampa i numeri da 2 a 4\n",
        "    print(i)\n",
        "\n",
        "# While loop\n",
        "count = 0\n",
        "while count < 5:\n",
        "    print(count)\n",
        "    count += 1\n",
        "\n",
        "# Enumerate\n",
        "nodi = [\"a\", \"b\", \"c\"]\n",
        "for index, nodo in enumerate(nodi):\n",
        "    print(index, nodo)"
      ]
    },
    {
      "cell_type": "markdown",
      "metadata": {
        "id": "nCcp2utrGMWY"
      },
      "source": [
        "## Espressioni condizionali\n",
        "In Python, i condizionali permettono di eseguire determinati blocchi di codice in base alla veridicità di una condizione.\n",
        "\n",
        "L'operatore \"==\" confronta se due valori sono uguali, mentre \"!=\" controlla se sono diversi."
      ]
    },
    {
      "cell_type": "code",
      "execution_count": 19,
      "metadata": {
        "id": "g14-R0ZXGMWY",
        "outputId": "1beac26b-b58e-411e-e5ff-eacc8b67b45f",
        "colab": {
          "base_uri": "https://localhost:8080/"
        }
      },
      "outputs": [
        {
          "output_type": "stream",
          "name": "stdout",
          "text": [
            "x è uguale a 10\n",
            "y non è uguale a 10\n"
          ]
        }
      ],
      "source": [
        "x = 10\n",
        "y = 5\n",
        "\n",
        "if x == 10:\n",
        "    print(\"x è uguale a 10\")\n",
        "\n",
        "if y != 10:\n",
        "    print(\"y non è uguale a 10\")"
      ]
    },
    {
      "cell_type": "markdown",
      "metadata": {
        "id": "fSlrK82iGMWY"
      },
      "source": [
        "Oltre a \"==\"\" e \"!=\", ci sono altri operatori di confronto:"
      ]
    },
    {
      "cell_type": "code",
      "execution_count": 23,
      "metadata": {
        "id": "238DyaQNGMWY",
        "outputId": "65ac808b-40af-481d-81b7-80b6eba41145",
        "colab": {
          "base_uri": "https://localhost:8080/"
        }
      },
      "outputs": [
        {
          "output_type": "stream",
          "name": "stdout",
          "text": [
            "x è maggiore di y\n"
          ]
        }
      ],
      "source": [
        "# >: maggiore di\n",
        "# <: minore di\n",
        "# >=: maggiore o uguale a\n",
        "# <=: minore o uguale a\n",
        "\n",
        "if x > y:\n",
        "    print(\"x è maggiore di y\")"
      ]
    },
    {
      "cell_type": "markdown",
      "metadata": {
        "id": "0K370rBLGMWY"
      },
      "source": [
        "Possiamo combinare più condizioni usando gli operatori logici \"and\" e \"or\"."
      ]
    },
    {
      "cell_type": "code",
      "execution_count": 24,
      "metadata": {
        "id": "cU44_EGOGMWY",
        "outputId": "24ee28f7-217a-4eb1-df67-df33dcf5f4b9",
        "colab": {
          "base_uri": "https://localhost:8080/"
        }
      },
      "outputs": [
        {
          "output_type": "stream",
          "name": "stdout",
          "text": [
            "Sia x che z sono maggiori di y\n",
            "O x è minore di y o z è maggiore di y, o entrambe le cose\n"
          ]
        }
      ],
      "source": [
        "z = 15\n",
        "\n",
        "if x > y and z > y:\n",
        "    print(\"Sia x che z sono maggiori di y\")\n",
        "\n",
        "if x < y or z > y:\n",
        "    print(\"O x è minore di y o z è maggiore di y, o entrambe le cose\")"
      ]
    },
    {
      "cell_type": "markdown",
      "metadata": {
        "id": "5TlEMPfhGMWY"
      },
      "source": [
        "\"elif\" e \"else\" permettono di gestire condizioni multiple e un caso di default:"
      ]
    },
    {
      "cell_type": "code",
      "execution_count": 25,
      "metadata": {
        "id": "58K1pm00GMWY",
        "outputId": "acd28c8f-827f-400e-c904-be6c0f426e71",
        "colab": {
          "base_uri": "https://localhost:8080/"
        }
      },
      "outputs": [
        {
          "output_type": "stream",
          "name": "stdout",
          "text": [
            "x è uguale a 10\n"
          ]
        }
      ],
      "source": [
        "if x > 10:\n",
        "    print(\"x è maggiore di 10\")\n",
        "elif x < 10:\n",
        "    print(\"x è minore di 10\")\n",
        "else:\n",
        "    print(\"x è uguale a 10\")"
      ]
    },
    {
      "cell_type": "markdown",
      "metadata": {
        "id": "6KWLZmjGGMWY"
      },
      "source": [
        "Un altro operatore logico utilizzato in Python è \"not\", che inverte il valore booleano di una condizione:"
      ]
    },
    {
      "cell_type": "code",
      "execution_count": 26,
      "metadata": {
        "id": "FAdSHbyNGMWY",
        "outputId": "021d3890-3ce3-497f-d078-92702e71036b",
        "colab": {
          "base_uri": "https://localhost:8080/"
        }
      },
      "outputs": [
        {
          "output_type": "stream",
          "name": "stdout",
          "text": [
            "x è uguale a 10\n"
          ]
        }
      ],
      "source": [
        "if not x == 10:\n",
        "    print(\"x non è uguale a 10\")\n",
        "else:\n",
        "    print(\"x è uguale a 10\")"
      ]
    },
    {
      "cell_type": "markdown",
      "metadata": {
        "id": "Gu59JfSDGMWZ"
      },
      "source": [
        "## Valori Nulli (None) in Python\n",
        "In Python, il termine \"nullo\" è rappresentato dal valore speciale None. Esso indica l'assenza di valore o la mancanza di definizione. None è spesso usato per dichiarare una variabile che potrebbe ricevere un valore in futuro ma che inizialmente non ha alcun valore assegnato."
      ]
    },
    {
      "cell_type": "code",
      "execution_count": 30,
      "metadata": {
        "id": "6ZdJLgL9GMWZ",
        "outputId": "53c43a41-9094-4bbd-a306-5483fd25fee8",
        "colab": {
          "base_uri": "https://localhost:8080/"
        }
      },
      "outputs": [
        {
          "output_type": "stream",
          "name": "stdout",
          "text": [
            "La variabile è nulla.\n"
          ]
        }
      ],
      "source": [
        "variabile_nulla = None\n",
        "\n",
        "# Verifica se una variabile è nulla\n",
        "if variabile_nulla is None:\n",
        "    print(\"La variabile è nulla.\")\n",
        "else:\n",
        "    print(\"La variabile ha un valore.\")"
      ]
    },
    {
      "cell_type": "markdown",
      "metadata": {
        "id": "QLXYQsNuGMWZ"
      },
      "source": [
        "È importante notare che None è un tipo di dato a sé stante, diverso da, per esempio, zero (0) o una stringa vuota (\"\")."
      ]
    },
    {
      "cell_type": "markdown",
      "metadata": {
        "id": "aUyJ57gNGMWZ"
      },
      "source": [
        "## Scope delle Variabili in Python\n",
        "Lo \"scope\" di una variabile si riferisce al contesto in cui una variabile è definita e può essere utilizzata. In Python, le variabili possono avere uno scope locale o globale."
      ]
    },
    {
      "cell_type": "markdown",
      "metadata": {
        "id": "2SQ9UfqXGMWZ"
      },
      "source": [
        "### Variabile Locale\n",
        "Una variabile dichiarata all'interno di una funzione ha uno scope locale. Questo significa che può essere utilizzata solo all'interno di quella funzione e non è accessibile al di fuori di essa."
      ]
    },
    {
      "cell_type": "code",
      "execution_count": 31,
      "metadata": {
        "id": "5Fq5XmHqGMWZ",
        "outputId": "a778db8c-78a7-424a-9057-5c4ce2e6499b",
        "colab": {
          "base_uri": "https://localhost:8080/"
        }
      },
      "outputs": [
        {
          "output_type": "stream",
          "name": "stdout",
          "text": [
            "Sono locale\n"
          ]
        }
      ],
      "source": [
        "def mia_funzione():\n",
        "    variabile_locale = \"Sono locale\"\n",
        "    print(variabile_locale)\n",
        "\n",
        "mia_funzione()"
      ]
    },
    {
      "cell_type": "code",
      "execution_count": null,
      "metadata": {
        "id": "VGfUuf0SGMWc"
      },
      "outputs": [],
      "source": [
        "print(variabile_locale) # Questo causerà un errore perché la variabile_locale non è definita al di fuori della funzione\n"
      ]
    },
    {
      "cell_type": "markdown",
      "metadata": {
        "id": "Og3s2eVJGMWd"
      },
      "source": [
        "### Variabile Globale\n",
        "Una variabile dichiarata al di fuori di una funzione ha uno scope globale, il che significa che può essere utilizzata sia all'interno che all'esterno delle funzioni."
      ]
    },
    {
      "cell_type": "code",
      "execution_count": 32,
      "metadata": {
        "id": "sLoF0upkGMWd",
        "outputId": "556b60c6-2633-47da-c2e3-571f919fc2f1",
        "colab": {
          "base_uri": "https://localhost:8080/"
        }
      },
      "outputs": [
        {
          "output_type": "stream",
          "name": "stdout",
          "text": [
            "Sono globale\n",
            "Sono globale\n"
          ]
        }
      ],
      "source": [
        "variabile_globale = \"Sono globale\"\n",
        "\n",
        "def mia_funzione():\n",
        "    print(variabile_globale) # Questo è permesso\n",
        "\n",
        "mia_funzione()\n",
        "print(variabile_globale) # Anche questo è permesso\n"
      ]
    },
    {
      "cell_type": "markdown",
      "metadata": {
        "id": "08aXztRKGMWd"
      },
      "source": [
        "# Passaggio degli argomenti\n",
        "In Python, tutto è un oggetto e gli argomenti vengono passati per riferimento. Questo significa che quando passi un oggetto come argomento a una funzione, in realtà stai passando un riferimento a quell'oggetto, non una sua copia. Vediamo un esempio semplice utilizzando una lista:"
      ]
    },
    {
      "cell_type": "code",
      "execution_count": 33,
      "metadata": {
        "id": "c1CPykbVGMWd",
        "outputId": "08426925-63f9-417f-88ad-ce5c879f864d",
        "colab": {
          "base_uri": "https://localhost:8080/"
        }
      },
      "outputs": [
        {
          "output_type": "stream",
          "name": "stdout",
          "text": [
            "Lista prima della chiamata: [1, 2, 3]\n",
            "Lista dopo la chiamata: [1, 2, 3, 4]\n"
          ]
        }
      ],
      "source": [
        "def modify_list(lst):\n",
        "    lst.append(4)\n",
        "\n",
        "my_list = [1, 2, 3]\n",
        "\n",
        "print(\"Lista prima della chiamata:\", my_list)\n",
        "\n",
        "modify_list(my_list)\n",
        "\n",
        "print(\"Lista dopo la chiamata:\", my_list)\n"
      ]
    },
    {
      "cell_type": "markdown",
      "metadata": {
        "id": "1mW8TrPyGMWd"
      },
      "source": [
        "Come puoi vedere, la lista originale my_list è stata modificata dalla funzione, anche se non abbiamo esplicitamente restituito e riassegnato la lista.\n",
        "\n",
        "Ma attenzione! Non confondere il concetto di \"passaggio per riferimento\" con il comportamento di alcune tipologie di oggetti, come gli oggetti immutabili (es. tuple, stringhe). Quando si tenta di modificare un oggetto immutabile passato come argomento, la funzione lavorerà su una nuova copia di quell'oggetto, lasciando l'originale inalterato.\n",
        "\n",
        "Ecco un esempio con una stringa:"
      ]
    },
    {
      "cell_type": "code",
      "execution_count": 34,
      "metadata": {
        "id": "XC8eeFsCGMWe",
        "outputId": "2cc6f131-e7fd-4181-bb18-4798cb109a38",
        "colab": {
          "base_uri": "https://localhost:8080/"
        }
      },
      "outputs": [
        {
          "output_type": "stream",
          "name": "stdout",
          "text": [
            "Stringa prima della chiamata: hello\n",
            "Stringa dopo la chiamata: hello\n"
          ]
        }
      ],
      "source": [
        "def modify_string(s):\n",
        "    s = \"world\"\n",
        "\n",
        "my_string = \"hello\"\n",
        "\n",
        "print(\"Stringa prima della chiamata:\", my_string)\n",
        "\n",
        "modify_string(my_string)\n",
        "\n",
        "print(\"Stringa dopo la chiamata:\", my_string)\n"
      ]
    },
    {
      "cell_type": "markdown",
      "metadata": {
        "id": "usIdMa3WGMWe"
      },
      "source": [
        "Anche se abbiamo tentato di modificare la stringa all'interno della funzione, la stringa originale è rimasta inalterata poiché le stringhe sono immutabili.\n",
        "\n",
        "### Tipi immutabili\n",
        "\n",
        "Questi sono i tipi che, una volta creati, non possono essere modificati. Se provi a modificarli all'interno di una funzione, il riferimento all'oggetto originale viene perso e il riferimento viene puntato a un nuovo oggetto.\n",
        "\n",
        "Esempi di tipi immutabili:\n",
        "\n",
        "- int\n",
        "- float\n",
        "- bool\n",
        "- str\n",
        "- tuple\n",
        "- frozenset\n",
        "\n",
        "Tipi mutabili: Questi sono gli oggetti che possono essere modificati. Quando li passi come argomenti a una funzione, puoi modificarli direttamente e le modifiche saranno riflettute sull'oggetto originale.\n",
        "\n",
        "Esempi di tipi mutabili:\n",
        "\n",
        "- list\n",
        "- dict\n",
        "- set\n",
        "\n",
        "La maggior parte degli oggetti definiti dalle classi (a meno che non siano specificamente progettati per essere immutabili)."
      ]
    }
  ],
  "metadata": {
    "kernelspec": {
      "display_name": "Python 3",
      "language": "python",
      "name": "python3"
    },
    "language_info": {
      "codemirror_mode": {
        "name": "ipython",
        "version": 3
      },
      "file_extension": ".py",
      "mimetype": "text/x-python",
      "name": "python",
      "nbconvert_exporter": "python",
      "pygments_lexer": "ipython3",
      "version": "3.9.17"
    },
    "orig_nbformat": 4,
    "colab": {
      "provenance": []
    }
  },
  "nbformat": 4,
  "nbformat_minor": 0
}