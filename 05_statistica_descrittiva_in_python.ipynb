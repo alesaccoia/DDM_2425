{
  "cells": [
    {
      "cell_type": "markdown",
      "metadata": {
        "id": "46GOUbQuf6cv"
      },
      "source": [
        "[![Open In Colab](https://colab.research.google.com/assets/colab-badge.svg)](https://colab.research.google.com/github/alesaccoia/IULM_DDM2324_Notebooks/blob/main/05_statistica_descrittiva_in_python.ipynb)"
      ]
    },
    {
      "cell_type": "markdown",
      "metadata": {
        "id": "cHSTSIRlf6cz"
      },
      "source": [
        "# Statistica descrittiva in Python\n",
        "\n",
        "Iniziamo con l'installazione e l'importazione delle librerie necessarie"
      ]
    },
    {
      "cell_type": "code",
      "execution_count": 2,
      "metadata": {
        "id": "xTiB3EmTf6c0",
        "outputId": "fff4aa2e-d7fb-44f1-aed1-1116a051bbb3",
        "colab": {
          "base_uri": "https://localhost:8080/"
        }
      },
      "outputs": [
        {
          "output_type": "stream",
          "name": "stdout",
          "text": [
            "Requirement already satisfied: numpy in /usr/local/lib/python3.10/dist-packages (1.25.2)\n",
            "Requirement already satisfied: pandas in /usr/local/lib/python3.10/dist-packages (2.0.3)\n",
            "Requirement already satisfied: matplotlib in /usr/local/lib/python3.10/dist-packages (3.7.1)\n",
            "Requirement already satisfied: python-dateutil>=2.8.2 in /usr/local/lib/python3.10/dist-packages (from pandas) (2.8.2)\n",
            "Requirement already satisfied: pytz>=2020.1 in /usr/local/lib/python3.10/dist-packages (from pandas) (2023.4)\n",
            "Requirement already satisfied: tzdata>=2022.1 in /usr/local/lib/python3.10/dist-packages (from pandas) (2024.1)\n",
            "Requirement already satisfied: contourpy>=1.0.1 in /usr/local/lib/python3.10/dist-packages (from matplotlib) (1.2.1)\n",
            "Requirement already satisfied: cycler>=0.10 in /usr/local/lib/python3.10/dist-packages (from matplotlib) (0.12.1)\n",
            "Requirement already satisfied: fonttools>=4.22.0 in /usr/local/lib/python3.10/dist-packages (from matplotlib) (4.50.0)\n",
            "Requirement already satisfied: kiwisolver>=1.0.1 in /usr/local/lib/python3.10/dist-packages (from matplotlib) (1.4.5)\n",
            "Requirement already satisfied: packaging>=20.0 in /usr/local/lib/python3.10/dist-packages (from matplotlib) (24.0)\n",
            "Requirement already satisfied: pillow>=6.2.0 in /usr/local/lib/python3.10/dist-packages (from matplotlib) (9.4.0)\n",
            "Requirement already satisfied: pyparsing>=2.3.1 in /usr/local/lib/python3.10/dist-packages (from matplotlib) (3.1.2)\n",
            "Requirement already satisfied: six>=1.5 in /usr/local/lib/python3.10/dist-packages (from python-dateutil>=2.8.2->pandas) (1.16.0)\n"
          ]
        }
      ],
      "source": [
        "!pip install numpy pandas matplotlib\n",
        "\n",
        "import numpy as np\n",
        "import pandas as pd\n",
        "import matplotlib.pyplot as plt\n"
      ]
    },
    {
      "cell_type": "markdown",
      "metadata": {
        "id": "QVaJEmdef6c2"
      },
      "source": [
        "# Campionamento e Misurazione\n",
        "Per iniziare, supponiamo di avere dati sulla popolazione italiana relativa agli stipendi (espressi in migliaia di euro). Creeremo un set di dati simulato con 50.000 persone."
      ]
    },
    {
      "cell_type": "code",
      "execution_count": 3,
      "metadata": {
        "id": "k6DYrTXgf6c2"
      },
      "outputs": [],
      "source": [
        "# Creazione del dataset della popolazione\n",
        "np.random.seed(42)  # per riproducibilità\n",
        "popolazione = pd.DataFrame({\n",
        "    \"Stipendio\": np.random.normal(30, 5, 50000)  # media €30k, deviazione standard €5k\n",
        "})\n"
      ]
    },
    {
      "cell_type": "markdown",
      "metadata": {
        "id": "inqTGLd4f6c3"
      },
      "source": [
        "Estraiamo un campione casuale di 1000 persone da questa popolazione."
      ]
    },
    {
      "cell_type": "code",
      "execution_count": 4,
      "metadata": {
        "id": "kx8xTjX5f6c3"
      },
      "outputs": [],
      "source": [
        "campione = popolazione.sample(1000)\n"
      ]
    },
    {
      "cell_type": "markdown",
      "metadata": {
        "id": "3XljoHlff6c4"
      },
      "source": [
        "## Funzioni utili\n",
        "La funzione \"describe\" ci permette di ottenere informazioni (momenti statistici) circa le variabili numeriche del dataframe"
      ]
    },
    {
      "cell_type": "code",
      "execution_count": 5,
      "metadata": {
        "id": "LNJ_9yURf6c5",
        "outputId": "cb749339-c68e-4e0e-ed8b-f3c8bcf6eafe",
        "colab": {
          "base_uri": "https://localhost:8080/",
          "height": 300
        }
      },
      "outputs": [
        {
          "output_type": "execute_result",
          "data": {
            "text/plain": [
              "         Stipendio\n",
              "count  1000.000000\n",
              "mean     30.193723\n",
              "std       4.931277\n",
              "min      14.776717\n",
              "25%      26.945501\n",
              "50%      30.247371\n",
              "75%      33.466671\n",
              "max      45.662173"
            ],
            "text/html": [
              "\n",
              "  <div id=\"df-2fceac88-788b-4076-9c3c-800a5be2eb84\" class=\"colab-df-container\">\n",
              "    <div>\n",
              "<style scoped>\n",
              "    .dataframe tbody tr th:only-of-type {\n",
              "        vertical-align: middle;\n",
              "    }\n",
              "\n",
              "    .dataframe tbody tr th {\n",
              "        vertical-align: top;\n",
              "    }\n",
              "\n",
              "    .dataframe thead th {\n",
              "        text-align: right;\n",
              "    }\n",
              "</style>\n",
              "<table border=\"1\" class=\"dataframe\">\n",
              "  <thead>\n",
              "    <tr style=\"text-align: right;\">\n",
              "      <th></th>\n",
              "      <th>Stipendio</th>\n",
              "    </tr>\n",
              "  </thead>\n",
              "  <tbody>\n",
              "    <tr>\n",
              "      <th>count</th>\n",
              "      <td>1000.000000</td>\n",
              "    </tr>\n",
              "    <tr>\n",
              "      <th>mean</th>\n",
              "      <td>30.193723</td>\n",
              "    </tr>\n",
              "    <tr>\n",
              "      <th>std</th>\n",
              "      <td>4.931277</td>\n",
              "    </tr>\n",
              "    <tr>\n",
              "      <th>min</th>\n",
              "      <td>14.776717</td>\n",
              "    </tr>\n",
              "    <tr>\n",
              "      <th>25%</th>\n",
              "      <td>26.945501</td>\n",
              "    </tr>\n",
              "    <tr>\n",
              "      <th>50%</th>\n",
              "      <td>30.247371</td>\n",
              "    </tr>\n",
              "    <tr>\n",
              "      <th>75%</th>\n",
              "      <td>33.466671</td>\n",
              "    </tr>\n",
              "    <tr>\n",
              "      <th>max</th>\n",
              "      <td>45.662173</td>\n",
              "    </tr>\n",
              "  </tbody>\n",
              "</table>\n",
              "</div>\n",
              "    <div class=\"colab-df-buttons\">\n",
              "\n",
              "  <div class=\"colab-df-container\">\n",
              "    <button class=\"colab-df-convert\" onclick=\"convertToInteractive('df-2fceac88-788b-4076-9c3c-800a5be2eb84')\"\n",
              "            title=\"Convert this dataframe to an interactive table.\"\n",
              "            style=\"display:none;\">\n",
              "\n",
              "  <svg xmlns=\"http://www.w3.org/2000/svg\" height=\"24px\" viewBox=\"0 -960 960 960\">\n",
              "    <path d=\"M120-120v-720h720v720H120Zm60-500h600v-160H180v160Zm220 220h160v-160H400v160Zm0 220h160v-160H400v160ZM180-400h160v-160H180v160Zm440 0h160v-160H620v160ZM180-180h160v-160H180v160Zm440 0h160v-160H620v160Z\"/>\n",
              "  </svg>\n",
              "    </button>\n",
              "\n",
              "  <style>\n",
              "    .colab-df-container {\n",
              "      display:flex;\n",
              "      gap: 12px;\n",
              "    }\n",
              "\n",
              "    .colab-df-convert {\n",
              "      background-color: #E8F0FE;\n",
              "      border: none;\n",
              "      border-radius: 50%;\n",
              "      cursor: pointer;\n",
              "      display: none;\n",
              "      fill: #1967D2;\n",
              "      height: 32px;\n",
              "      padding: 0 0 0 0;\n",
              "      width: 32px;\n",
              "    }\n",
              "\n",
              "    .colab-df-convert:hover {\n",
              "      background-color: #E2EBFA;\n",
              "      box-shadow: 0px 1px 2px rgba(60, 64, 67, 0.3), 0px 1px 3px 1px rgba(60, 64, 67, 0.15);\n",
              "      fill: #174EA6;\n",
              "    }\n",
              "\n",
              "    .colab-df-buttons div {\n",
              "      margin-bottom: 4px;\n",
              "    }\n",
              "\n",
              "    [theme=dark] .colab-df-convert {\n",
              "      background-color: #3B4455;\n",
              "      fill: #D2E3FC;\n",
              "    }\n",
              "\n",
              "    [theme=dark] .colab-df-convert:hover {\n",
              "      background-color: #434B5C;\n",
              "      box-shadow: 0px 1px 3px 1px rgba(0, 0, 0, 0.15);\n",
              "      filter: drop-shadow(0px 1px 2px rgba(0, 0, 0, 0.3));\n",
              "      fill: #FFFFFF;\n",
              "    }\n",
              "  </style>\n",
              "\n",
              "    <script>\n",
              "      const buttonEl =\n",
              "        document.querySelector('#df-2fceac88-788b-4076-9c3c-800a5be2eb84 button.colab-df-convert');\n",
              "      buttonEl.style.display =\n",
              "        google.colab.kernel.accessAllowed ? 'block' : 'none';\n",
              "\n",
              "      async function convertToInteractive(key) {\n",
              "        const element = document.querySelector('#df-2fceac88-788b-4076-9c3c-800a5be2eb84');\n",
              "        const dataTable =\n",
              "          await google.colab.kernel.invokeFunction('convertToInteractive',\n",
              "                                                    [key], {});\n",
              "        if (!dataTable) return;\n",
              "\n",
              "        const docLinkHtml = 'Like what you see? Visit the ' +\n",
              "          '<a target=\"_blank\" href=https://colab.research.google.com/notebooks/data_table.ipynb>data table notebook</a>'\n",
              "          + ' to learn more about interactive tables.';\n",
              "        element.innerHTML = '';\n",
              "        dataTable['output_type'] = 'display_data';\n",
              "        await google.colab.output.renderOutput(dataTable, element);\n",
              "        const docLink = document.createElement('div');\n",
              "        docLink.innerHTML = docLinkHtml;\n",
              "        element.appendChild(docLink);\n",
              "      }\n",
              "    </script>\n",
              "  </div>\n",
              "\n",
              "\n",
              "<div id=\"df-960d19a1-0240-47d8-87c0-2382c25a70ae\">\n",
              "  <button class=\"colab-df-quickchart\" onclick=\"quickchart('df-960d19a1-0240-47d8-87c0-2382c25a70ae')\"\n",
              "            title=\"Suggest charts\"\n",
              "            style=\"display:none;\">\n",
              "\n",
              "<svg xmlns=\"http://www.w3.org/2000/svg\" height=\"24px\"viewBox=\"0 0 24 24\"\n",
              "     width=\"24px\">\n",
              "    <g>\n",
              "        <path d=\"M19 3H5c-1.1 0-2 .9-2 2v14c0 1.1.9 2 2 2h14c1.1 0 2-.9 2-2V5c0-1.1-.9-2-2-2zM9 17H7v-7h2v7zm4 0h-2V7h2v10zm4 0h-2v-4h2v4z\"/>\n",
              "    </g>\n",
              "</svg>\n",
              "  </button>\n",
              "\n",
              "<style>\n",
              "  .colab-df-quickchart {\n",
              "      --bg-color: #E8F0FE;\n",
              "      --fill-color: #1967D2;\n",
              "      --hover-bg-color: #E2EBFA;\n",
              "      --hover-fill-color: #174EA6;\n",
              "      --disabled-fill-color: #AAA;\n",
              "      --disabled-bg-color: #DDD;\n",
              "  }\n",
              "\n",
              "  [theme=dark] .colab-df-quickchart {\n",
              "      --bg-color: #3B4455;\n",
              "      --fill-color: #D2E3FC;\n",
              "      --hover-bg-color: #434B5C;\n",
              "      --hover-fill-color: #FFFFFF;\n",
              "      --disabled-bg-color: #3B4455;\n",
              "      --disabled-fill-color: #666;\n",
              "  }\n",
              "\n",
              "  .colab-df-quickchart {\n",
              "    background-color: var(--bg-color);\n",
              "    border: none;\n",
              "    border-radius: 50%;\n",
              "    cursor: pointer;\n",
              "    display: none;\n",
              "    fill: var(--fill-color);\n",
              "    height: 32px;\n",
              "    padding: 0;\n",
              "    width: 32px;\n",
              "  }\n",
              "\n",
              "  .colab-df-quickchart:hover {\n",
              "    background-color: var(--hover-bg-color);\n",
              "    box-shadow: 0 1px 2px rgba(60, 64, 67, 0.3), 0 1px 3px 1px rgba(60, 64, 67, 0.15);\n",
              "    fill: var(--button-hover-fill-color);\n",
              "  }\n",
              "\n",
              "  .colab-df-quickchart-complete:disabled,\n",
              "  .colab-df-quickchart-complete:disabled:hover {\n",
              "    background-color: var(--disabled-bg-color);\n",
              "    fill: var(--disabled-fill-color);\n",
              "    box-shadow: none;\n",
              "  }\n",
              "\n",
              "  .colab-df-spinner {\n",
              "    border: 2px solid var(--fill-color);\n",
              "    border-color: transparent;\n",
              "    border-bottom-color: var(--fill-color);\n",
              "    animation:\n",
              "      spin 1s steps(1) infinite;\n",
              "  }\n",
              "\n",
              "  @keyframes spin {\n",
              "    0% {\n",
              "      border-color: transparent;\n",
              "      border-bottom-color: var(--fill-color);\n",
              "      border-left-color: var(--fill-color);\n",
              "    }\n",
              "    20% {\n",
              "      border-color: transparent;\n",
              "      border-left-color: var(--fill-color);\n",
              "      border-top-color: var(--fill-color);\n",
              "    }\n",
              "    30% {\n",
              "      border-color: transparent;\n",
              "      border-left-color: var(--fill-color);\n",
              "      border-top-color: var(--fill-color);\n",
              "      border-right-color: var(--fill-color);\n",
              "    }\n",
              "    40% {\n",
              "      border-color: transparent;\n",
              "      border-right-color: var(--fill-color);\n",
              "      border-top-color: var(--fill-color);\n",
              "    }\n",
              "    60% {\n",
              "      border-color: transparent;\n",
              "      border-right-color: var(--fill-color);\n",
              "    }\n",
              "    80% {\n",
              "      border-color: transparent;\n",
              "      border-right-color: var(--fill-color);\n",
              "      border-bottom-color: var(--fill-color);\n",
              "    }\n",
              "    90% {\n",
              "      border-color: transparent;\n",
              "      border-bottom-color: var(--fill-color);\n",
              "    }\n",
              "  }\n",
              "</style>\n",
              "\n",
              "  <script>\n",
              "    async function quickchart(key) {\n",
              "      const quickchartButtonEl =\n",
              "        document.querySelector('#' + key + ' button');\n",
              "      quickchartButtonEl.disabled = true;  // To prevent multiple clicks.\n",
              "      quickchartButtonEl.classList.add('colab-df-spinner');\n",
              "      try {\n",
              "        const charts = await google.colab.kernel.invokeFunction(\n",
              "            'suggestCharts', [key], {});\n",
              "      } catch (error) {\n",
              "        console.error('Error during call to suggestCharts:', error);\n",
              "      }\n",
              "      quickchartButtonEl.classList.remove('colab-df-spinner');\n",
              "      quickchartButtonEl.classList.add('colab-df-quickchart-complete');\n",
              "    }\n",
              "    (() => {\n",
              "      let quickchartButtonEl =\n",
              "        document.querySelector('#df-960d19a1-0240-47d8-87c0-2382c25a70ae button');\n",
              "      quickchartButtonEl.style.display =\n",
              "        google.colab.kernel.accessAllowed ? 'block' : 'none';\n",
              "    })();\n",
              "  </script>\n",
              "</div>\n",
              "    </div>\n",
              "  </div>\n"
            ],
            "application/vnd.google.colaboratory.intrinsic+json": {
              "type": "dataframe",
              "summary": "{\n  \"name\": \"campione\",\n  \"rows\": 8,\n  \"fields\": [\n    {\n      \"column\": \"Stipendio\",\n      \"properties\": {\n        \"dtype\": \"number\",\n        \"std\": 344.3647549589743,\n        \"min\": 4.931276594330271,\n        \"max\": 1000.0,\n        \"num_unique_values\": 8,\n        \"samples\": [\n          30.19372300985312,\n          30.247370980210675,\n          1000.0\n        ],\n        \"semantic_type\": \"\",\n        \"description\": \"\"\n      }\n    }\n  ]\n}"
            }
          },
          "metadata": {},
          "execution_count": 5
        }
      ],
      "source": [
        "campione.describe()"
      ]
    },
    {
      "cell_type": "markdown",
      "metadata": {
        "id": "isP89zKXf6c5"
      },
      "source": [
        "La funzione info invece ci dice informazioni sulla struttura del dataframe in sé"
      ]
    },
    {
      "cell_type": "code",
      "execution_count": 6,
      "metadata": {
        "id": "i3kbzsp5f6c5",
        "outputId": "2bb1e678-1ac1-43ec-d16a-daa179620200",
        "colab": {
          "base_uri": "https://localhost:8080/"
        }
      },
      "outputs": [
        {
          "output_type": "stream",
          "name": "stdout",
          "text": [
            "<class 'pandas.core.frame.DataFrame'>\n",
            "Index: 1000 entries, 32308 to 46615\n",
            "Data columns (total 1 columns):\n",
            " #   Column     Non-Null Count  Dtype  \n",
            "---  ------     --------------  -----  \n",
            " 0   Stipendio  1000 non-null   float64\n",
            "dtypes: float64(1)\n",
            "memory usage: 15.6 KB\n"
          ]
        }
      ],
      "source": [
        "campione.info()"
      ]
    },
    {
      "cell_type": "markdown",
      "metadata": {
        "id": "D5FhFpAwf6c6"
      },
      "source": [
        "## Variabili, Parametri e Statistiche\n",
        "Calcoliamo media e deviazione standard per la popolazione e per il campione."
      ]
    },
    {
      "cell_type": "code",
      "execution_count": 7,
      "metadata": {
        "id": "CN406OXof6c6"
      },
      "outputs": [],
      "source": [
        "media_popolazione = popolazione['Stipendio'].mean()\n",
        "std_popolazione = popolazione['Stipendio'].std()\n",
        "\n",
        "media_campione = campione['Stipendio'].mean()\n",
        "std_campione = campione['Stipendio'].std()\n"
      ]
    },
    {
      "cell_type": "markdown",
      "metadata": {
        "id": "eQoBcx8Uf6c6"
      },
      "source": [
        "## Distribuzione di Frequenze\n",
        "\n",
        "### Variabili Categoriche\n",
        "Supponiamo che la popolazione abbia anche una variabile categorica: \"Stato Civile\". Generiamo dei dati simulati."
      ]
    },
    {
      "cell_type": "code",
      "execution_count": 8,
      "metadata": {
        "id": "sjOySJRif6c7"
      },
      "outputs": [],
      "source": [
        "stati_civili = [\"Single\", \"Sposato/a\", \"Divorziato/a\", \"Vedovo/a\"]\n",
        "popolazione[\"Stato Civile\"] = np.random.choice(stati_civili, size=50000, p=[0.4, 0.4, 0.1, 0.1])\n",
        "\n",
        "# Estraiamo lo stato civile per il nostro campione\n",
        "campione = popolazione.sample(1000)\n",
        "\n",
        "# Calcoliamo la distribuzione di frequenza per il campione\n",
        "frequenza_stato_civile = campione[\"Stato Civile\"].value_counts()\n",
        "percentuale_stato_civile = campione[\"Stato Civile\"].value_counts(normalize=True) * 100\n"
      ]
    },
    {
      "cell_type": "markdown",
      "metadata": {
        "id": "8UZ4MJmef6c7"
      },
      "source": [
        "### Variabili Numeriche\n",
        "Creiamo un istogramma per gli stipendi del nostro campione."
      ]
    },
    {
      "cell_type": "code",
      "execution_count": 9,
      "metadata": {
        "id": "G9jm0Hbqf6c7",
        "outputId": "059aefb0-a482-456c-a90b-ad9e8d904c86",
        "colab": {
          "base_uri": "https://localhost:8080/",
          "height": 472
        }
      },
      "outputs": [
        {
          "output_type": "display_data",
          "data": {
            "text/plain": [
              "<Figure size 640x480 with 1 Axes>"
            ],
            "image/png": "[encoded data removed]"
          },
          "metadata": {}
        }
      ],
      "source": [
        "campione[\"Stipendio\"].hist(bins=50, edgecolor=\"k\")\n",
        "plt.xlabel(\"Stipendio (in migliaia di euro)\")\n",
        "plt.ylabel(\"Numero di Persone\")\n",
        "plt.title(\"Distribuzione degli Stipendi nel Campione\")\n",
        "plt.grid(False)\n",
        "plt.show()\n"
      ]
    },
    {
      "cell_type": "markdown",
      "metadata": {
        "id": "6X_ktARcf6c7"
      },
      "source": [
        "# Misure di Tendenza Centrale e Dispersione\n",
        "\n",
        "Calcoliamo media, mediana, moda, gamma, varianza e deviazione standard per gli stipendi nel nostro campione."
      ]
    },
    {
      "cell_type": "code",
      "execution_count": 10,
      "metadata": {
        "id": "qP6_OkJif6c7"
      },
      "outputs": [],
      "source": [
        "media = campione[\"Stipendio\"].mean()\n",
        "mediana = campione[\"Stipendio\"].median()\n",
        "moda = campione[\"Stipendio\"].mode()[0]  # prendiamo il primo valore in caso ci siano più mode\n",
        "gamma = campione[\"Stipendio\"].max() - campione[\"Stipendio\"].min()\n",
        "varianza = campione[\"Stipendio\"].var()\n",
        "dev_standard = campione[\"Stipendio\"].std()"
      ]
    },
    {
      "cell_type": "markdown",
      "metadata": {
        "id": "qf4hkAI6f6c8"
      },
      "source": [
        "# Regola Empirica\n",
        "\n",
        "Utilizzando la regola empirica per una distribuzione normale:"
      ]
    },
    {
      "cell_type": "code",
      "execution_count": 11,
      "metadata": {
        "id": "NnfWTDKgf6c8"
      },
      "outputs": [],
      "source": [
        "# Calcolo degli intervalli\n",
        "one_std_right = media + (1 * dev_standard)\n",
        "one_std_left = media - (1 * dev_standard)\n",
        "two_std_right = media + (2 * dev_standard)\n",
        "two_std_left = media - (2 * dev_standard)\n",
        "three_std_right = media + (3 * dev_standard)\n",
        "three_std_left = media - (3 * dev_standard)\n",
        "\n",
        "# Calcolo delle percentuali di dati entro ciascun intervallo\n",
        "within_one_std = campione[\"Stipendio\"].apply(lambda x: one_std_left < x < one_std_right).mean()\n",
        "within_two_std = campione[\"Stipendio\"].apply(lambda x: two_std_left < x < two_std_right).mean()\n",
        "within_three_std = campione[\"Stipendio\"].apply(lambda x: three_std_left < x < three_std_right).mean()\n"
      ]
    }
  ],
  "metadata": {
    "kernelspec": {
      "display_name": "Python 3",
      "language": "python",
      "name": "python3"
    },
    "language_info": {
      "codemirror_mode": {
        "name": "ipython",
        "version": 3
      },
      "file_extension": ".py",
      "mimetype": "text/x-python",
      "name": "python",
      "nbconvert_exporter": "python",
      "pygments_lexer": "ipython3",
      "version": "3.9.17"
    },
    "orig_nbformat": 4,
    "colab": {
      "provenance": []
    }
  },
  "nbformat": 4,
  "nbformat_minor": 0
}