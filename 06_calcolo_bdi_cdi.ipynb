{
  "cells": [
    {
      "cell_type": "markdown",
      "metadata": {
        "id": "dCl792zP3B9M"
      },
      "source": [
        "[![Open In Colab](https://colab.research.google.com/assets/colab-badge.svg)](https://colab.research.google.com/github/alesaccoia/IULM_DDM2324_Notebooks/blob/main/06_calcolo_bdi_cdi.ipynb)"
      ]
    },
    {
      "cell_type": "markdown",
      "metadata": {
        "id": "SL-90msS3B9Q"
      },
      "source": [
        "# Esercizio calcolo BDI/CDI (sezione 3.2.2 del libro)\n",
        "\n",
        "Si comincia importando il dataset"
      ]
    },
    {
      "cell_type": "code",
      "execution_count": 7,
      "metadata": {
        "id": "lPtlNxzg3B9R",
        "outputId": "a1d5a7d7-effc-4181-dd53-56d05496cdb8",
        "colab": {
          "base_uri": "https://localhost:8080/"
        }
      },
      "outputs": [
        {
          "output_type": "stream",
          "name": "stdout",
          "text": [
            "--2024-04-09 12:50:11--  https://github.com/LeoLin72/IULM_DDM2324_Notebooks/raw/main/data/calcolo_bdi_cdi.xlsx\n",
            "Resolving github.com (github.com)... 140.82.113.3\n",
            "Connecting to github.com (github.com)|140.82.113.3|:443... connected.\n",
            "HTTP request sent, awaiting response... 302 Found\n",
            "Location: https://raw.githubusercontent.com/LeoLin72/IULM_DDM2324_Notebooks/main/data/calcolo_bdi_cdi.xlsx [following]\n",
            "--2024-04-09 12:50:11--  https://raw.githubusercontent.com/LeoLin72/IULM_DDM2324_Notebooks/main/data/calcolo_bdi_cdi.xlsx\n",
            "Resolving raw.githubusercontent.com (raw.githubusercontent.com)... 185.199.108.133, 185.199.109.133, 185.199.110.133, ...\n",
            "Connecting to raw.githubusercontent.com (raw.githubusercontent.com)|185.199.108.133|:443... connected.\n",
            "HTTP request sent, awaiting response... 200 OK\n",
            "Length: 130914 (128K) [application/octet-stream]\n",
            "Saving to: ‘calcolo_bdi_cdi.xlsx’\n",
            "\n",
            "\rcalcolo_bdi_cdi.xls   0%[                    ]       0  --.-KB/s               \rcalcolo_bdi_cdi.xls 100%[===================>] 127.85K  --.-KB/s    in 0.004s  \n",
            "\n",
            "2024-04-09 12:50:11 (32.6 MB/s) - ‘calcolo_bdi_cdi.xlsx’ saved [130914/130914]\n",
            "\n",
            "      Customer #id          Segmento         Brand\n",
            "0                0             Other  OceanDelight\n",
            "1                1             Other        SeaYum\n",
            "2                2             Other           NaN\n",
            "3                3             Other  OceanDelight\n",
            "4                4  Health-Conscious           NaN\n",
            "...            ...               ...           ...\n",
            "4995          4995             Other           NaN\n",
            "4996          4996       Adventurous           NaN\n",
            "4997          4997             Other           NaN\n",
            "4998          4998             Other  OceanDelight\n",
            "4999          4999             Other      BlueFish\n",
            "\n",
            "[5000 rows x 3 columns]\n"
          ]
        }
      ],
      "source": [
        "import pandas as pd\n",
        "import numpy as np\n",
        "import seaborn as sns\n",
        "import matplotlib.pyplot as plt\n",
        "\n",
        "!wget \"https://github.com/LeoLin72/IULM_DDM2324_Notebooks/raw/main/data/calcolo_bdi_cdi.xlsx\"\n",
        "\n",
        "df = pd.read_excel('calcolo_bdi_cdi.xlsx')\n",
        "print(df)"
      ]
    },
    {
      "cell_type": "markdown",
      "metadata": {
        "id": "2bGwejIy3B9S"
      },
      "source": [
        "Vediamo per prima cosa la dimensione del dataset"
      ]
    },
    {
      "cell_type": "code",
      "execution_count": 8,
      "metadata": {
        "id": "uWKLNZQ-3B9S",
        "outputId": "ad119e4d-d932-485b-a4fe-b27fc4174608",
        "colab": {
          "base_uri": "https://localhost:8080/"
        }
      },
      "outputs": [
        {
          "output_type": "execute_result",
          "data": {
            "text/plain": [
              "5000"
            ]
          },
          "metadata": {},
          "execution_count": 8
        }
      ],
      "source": [
        "totale_campione = len(df)\n",
        "totale_campione"
      ]
    },
    {
      "cell_type": "markdown",
      "metadata": {
        "id": "fr2p6I0w3B9S"
      },
      "source": [
        "Stampiamo a schermo i brand unici all'interno del dataset"
      ]
    },
    {
      "cell_type": "code",
      "execution_count": 9,
      "metadata": {
        "id": "3EQgeLep3B9T",
        "outputId": "db06aa20-08ab-4e47-8f34-ac79c434eee9",
        "colab": {
          "base_uri": "https://localhost:8080/"
        }
      },
      "outputs": [
        {
          "output_type": "execute_result",
          "data": {
            "text/plain": [
              "array(['OceanDelight', 'SeaYum', nan, 'TunaKing', 'BlueFish'],\n",
              "      dtype=object)"
            ]
          },
          "metadata": {},
          "execution_count": 9
        }
      ],
      "source": [
        "target_brands = df['Brand'].unique()\n",
        "target_brands"
      ]
    },
    {
      "cell_type": "markdown",
      "metadata": {
        "id": "deAzzQTM3B9T"
      },
      "source": [
        "Ripuliamo la lista dal brand \"nan\", valore che indica che il consumatore non acquista nessun brand.\n",
        "\n",
        "Utilizza il caratteristico costrutto chiamato [list comprehension](https://www.w3schools.com/python/python_lists_comprehension.asp)"
      ]
    },
    {
      "cell_type": "code",
      "execution_count": 10,
      "metadata": {
        "id": "RKNhti6X3B9T",
        "outputId": "4973c41c-d3e3-4369-b942-def497e8d9e9",
        "colab": {
          "base_uri": "https://localhost:8080/"
        }
      },
      "outputs": [
        {
          "output_type": "execute_result",
          "data": {
            "text/plain": [
              "['OceanDelight', 'SeaYum', 'TunaKing', 'BlueFish']"
            ]
          },
          "metadata": {},
          "execution_count": 10
        }
      ],
      "source": [
        "target_brands = [b for b in target_brands if b is not np.nan]\n",
        "target_brands"
      ]
    },
    {
      "cell_type": "markdown",
      "metadata": {
        "id": "cxZ_dRnZ3B9U"
      },
      "source": [
        "Calcoliamo il totale di rispondenti che acquista un brand della categoria merceologica, di qualsiasi brand"
      ]
    },
    {
      "cell_type": "code",
      "execution_count": 11,
      "metadata": {
        "id": "6pddUYRO3B9U",
        "outputId": "65a5c28e-19d2-42c3-cd65-53152e340ddb",
        "colab": {
          "base_uri": "https://localhost:8080/"
        }
      },
      "outputs": [
        {
          "output_type": "execute_result",
          "data": {
            "text/plain": [
              "3438"
            ]
          },
          "metadata": {},
          "execution_count": 11
        }
      ],
      "source": [
        "totale_consumatori_categoria = len(df[df['Brand'].notnull()])\n",
        "totale_consumatori_categoria"
      ]
    },
    {
      "cell_type": "markdown",
      "metadata": {
        "id": "AukHl4eD3B9U"
      },
      "source": [
        "La penetrazione della categoria sulla popolazione é il rapporto tra il numero di consumatori che consuma e il totale di consumatori nel campione"
      ]
    },
    {
      "cell_type": "code",
      "execution_count": 12,
      "metadata": {
        "id": "00MgW3v03B9U",
        "outputId": "f84dae0a-08f9-4eb7-802d-e605d942f638",
        "colab": {
          "base_uri": "https://localhost:8080/"
        }
      },
      "outputs": [
        {
          "output_type": "execute_result",
          "data": {
            "text/plain": [
              "0.6876"
            ]
          },
          "metadata": {},
          "execution_count": 12
        }
      ],
      "source": [
        "penetrazione_categoria = totale_consumatori_categoria / totale_campione\n",
        "penetrazione_categoria"
      ]
    },
    {
      "cell_type": "markdown",
      "metadata": {
        "id": "RU74ykip3B9U"
      },
      "source": [
        "Possiamo calcolare le proporzioni di persone del campione che acquistano ogni brand nell'analisi nel seguente modo"
      ]
    },
    {
      "cell_type": "code",
      "execution_count": 13,
      "metadata": {
        "id": "ddgu8hgs3B9V",
        "outputId": "0dfe3780-455d-4d98-b7ea-d03c14e75483",
        "colab": {
          "base_uri": "https://localhost:8080/"
        }
      },
      "outputs": [
        {
          "output_type": "execute_result",
          "data": {
            "text/plain": [
              "Brand\n",
              "SeaYum          0.2392\n",
              "TunaKing        0.1714\n",
              "OceanDelight    0.1510\n",
              "BlueFish        0.1260\n",
              "Name: count, dtype: float64"
            ]
          },
          "metadata": {},
          "execution_count": 13
        }
      ],
      "source": [
        "penetrazione_brand = df['Brand'].value_counts()\n",
        "penetrazione_brand / totale_campione"
      ]
    },
    {
      "cell_type": "markdown",
      "metadata": {
        "id": "eBFEqQAP3B9V"
      },
      "source": [
        "## Calcolo del CDI\n",
        "\n",
        "Il CDI é calcolato il tasso di penetrazione della categoria merceologica su ognuna delle dimensioni in esame, indicizzato a 100.\n",
        "\n",
        "Risponde alla domanda \"Quante persone appartenenti a ognuno dei segmenti target consumano abitualmente tonno in scatola?\""
      ]
    },
    {
      "cell_type": "markdown",
      "metadata": {
        "id": "YriDLZhu3B9V"
      },
      "source": [
        "Vediamo i segmenti unici presenti dentro il nostro dataset"
      ]
    },
    {
      "cell_type": "code",
      "execution_count": 14,
      "metadata": {
        "id": "tAQN6njO3B9V",
        "outputId": "39e6f800-274f-4d48-dcc5-19c022384175",
        "colab": {
          "base_uri": "https://localhost:8080/"
        }
      },
      "outputs": [
        {
          "output_type": "execute_result",
          "data": {
            "text/plain": [
              "['Other', 'Health-Conscious', 'Adventurous', 'Budget-Friendly']"
            ]
          },
          "metadata": {},
          "execution_count": 14
        }
      ],
      "source": [
        "\n",
        "segmenti_target = df['Segmento'].unique().tolist()\n",
        "segmenti_target"
      ]
    },
    {
      "cell_type": "markdown",
      "metadata": {
        "id": "sy7E46nw3B9V"
      },
      "source": [
        "Vediamo il numero di persone appartenenti a ogni segmento"
      ]
    },
    {
      "cell_type": "code",
      "execution_count": 15,
      "metadata": {
        "id": "IgAKq8df3B9V",
        "outputId": "f03ca7c3-9d82-407c-8dac-fc89ad063e92",
        "colab": {
          "base_uri": "https://localhost:8080/"
        }
      },
      "outputs": [
        {
          "output_type": "execute_result",
          "data": {
            "text/plain": [
              "Segmento\n",
              "Other               3469\n",
              "Budget-Friendly      644\n",
              "Adventurous          628\n",
              "Health-Conscious     259\n",
              "Name: count, dtype: int64"
            ]
          },
          "metadata": {},
          "execution_count": 15
        }
      ],
      "source": [
        "\n",
        "rispondenti_per_segmento = df['Segmento'].value_counts()\n",
        "rispondenti_per_segmento"
      ]
    },
    {
      "cell_type": "markdown",
      "metadata": {
        "id": "LWdfjMA73B9V"
      },
      "source": [
        "Vediamoli in un grafico"
      ]
    },
    {
      "cell_type": "code",
      "execution_count": 16,
      "metadata": {
        "id": "xoPmlcUI3B9V",
        "outputId": "55d52044-e068-4135-d1f1-7e26fc10ec21",
        "colab": {
          "base_uri": "https://localhost:8080/",
          "height": 447
        }
      },
      "outputs": [
        {
          "output_type": "execute_result",
          "data": {
            "text/plain": [
              "[]"
            ]
          },
          "metadata": {},
          "execution_count": 16
        },
        {
          "output_type": "display_data",
          "data": {
            "text/plain": [
              "<Figure size 640x480 with 1 Axes>"
            ],
            "image/png": "[encoded data removed]"
          },
          "metadata": {}
        }
      ],
      "source": [
        "plt.hist(df['Segmento'])\n",
        "plt.plot()"
      ]
    },
    {
      "cell_type": "markdown",
      "metadata": {
        "id": "LBNgY5gQ3B9W"
      },
      "source": [
        "Ora dediamo il numero di persone appartenenti a ogni segmento __che acquista tonno in scatola__"
      ]
    },
    {
      "cell_type": "code",
      "execution_count": 17,
      "metadata": {
        "id": "HHL83fcQ3B9W",
        "outputId": "8a018e02-0ca6-4558-d2b8-3a3bf2ce7eb1",
        "colab": {
          "base_uri": "https://localhost:8080/"
        }
      },
      "outputs": [
        {
          "output_type": "execute_result",
          "data": {
            "text/plain": [
              "Segmento\n",
              "Other               2390\n",
              "Adventurous          443\n",
              "Budget-Friendly      433\n",
              "Health-Conscious     172\n",
              "Name: count, dtype: int64"
            ]
          },
          "metadata": {},
          "execution_count": 17
        }
      ],
      "source": [
        "consumatori_per_segmento = df[df['Brand'].notnull()]['Segmento'].value_counts()\n",
        "consumatori_per_segmento"
      ]
    },
    {
      "cell_type": "markdown",
      "metadata": {
        "id": "xiFy05Rz3B9W"
      },
      "source": [
        "Salviamo in una variabile la diffusione del tonno in scatola in ogni segmento"
      ]
    },
    {
      "cell_type": "code",
      "execution_count": 18,
      "metadata": {
        "id": "ZCCp1hA63B9W",
        "outputId": "97f9a163-93f0-4cca-ca2e-d9954611d2a3",
        "colab": {
          "base_uri": "https://localhost:8080/"
        }
      },
      "outputs": [
        {
          "output_type": "execute_result",
          "data": {
            "text/plain": [
              "Other               0.688959\n",
              "Health-Conscious    0.664093\n",
              "Adventurous         0.705414\n",
              "Budget-Friendly     0.672360\n",
              "dtype: float64"
            ]
          },
          "metadata": {},
          "execution_count": 18
        }
      ],
      "source": [
        "diffusione_per_segmento = pd.Series()\n",
        "for seg in segmenti_target:\n",
        "    diffusione_per_segmento[seg] = consumatori_per_segmento[seg] / rispondenti_per_segmento[seg]\n",
        "\n",
        "diffusione_per_segmento"
      ]
    },
    {
      "cell_type": "markdown",
      "metadata": {
        "id": "0kmfji3A3B9W"
      },
      "source": [
        "Per indicizzare un indicatore a 100 si divide ogni numero per la media sulla popolazione (o campione)"
      ]
    },
    {
      "cell_type": "code",
      "execution_count": 19,
      "metadata": {
        "id": "HI-sCw0I3B9W",
        "outputId": "53736dd7-7db7-4f45-efaa-a8dc44f08686",
        "colab": {
          "base_uri": "https://localhost:8080/"
        }
      },
      "outputs": [
        {
          "output_type": "execute_result",
          "data": {
            "text/plain": [
              "Other               100.197696\n",
              "Health-Conscious     96.581248\n",
              "Adventurous         102.590752\n",
              "Budget-Friendly      97.783631\n",
              "dtype: float64"
            ]
          },
          "metadata": {},
          "execution_count": 19
        }
      ],
      "source": [
        "cdi = 100.0 * diffusione_per_segmento / penetrazione_categoria\n",
        "cdi"
      ]
    },
    {
      "cell_type": "markdown",
      "metadata": {
        "id": "U5TqQMCA3B9W"
      },
      "source": [
        "# Calcolo del BDI\n",
        "\n",
        "Il Brand Development Index indica quanto ogni marca sia diffusa in una determinata dimensione di analisi (un segmento nel nostro caso) rispetto alla penetrazione del brand nell'intera popolazione. Cominciamo salvando la diffusione del brand nella popolazione con la seguente istruzione:"
      ]
    },
    {
      "cell_type": "code",
      "execution_count": 20,
      "metadata": {
        "id": "he3HC2qn3B9W",
        "outputId": "b7fc9796-ca0c-47b6-adca-d7569c930e07",
        "colab": {
          "base_uri": "https://localhost:8080/"
        }
      },
      "outputs": [
        {
          "output_type": "execute_result",
          "data": {
            "text/plain": [
              "Brand\n",
              "SeaYum          0.2392\n",
              "TunaKing        0.1714\n",
              "OceanDelight    0.1510\n",
              "BlueFish        0.1260\n",
              "Name: count, dtype: float64"
            ]
          },
          "metadata": {},
          "execution_count": 20
        }
      ],
      "source": [
        "diffusione_brand_popolazione = df['Brand'].value_counts()\n",
        "diffusione_brand_popolazione = diffusione_brand_popolazione / len(df)\n",
        "diffusione_brand_popolazione"
      ]
    },
    {
      "cell_type": "markdown",
      "metadata": {
        "id": "QeF0q-3r3B9W"
      },
      "source": [
        "il seguente codice itera su tutte le permutazioni di brand/segmento, calcolando il BDI (che é la diffusione di un brand in un determinato segmento, indicizzata sulla diffusione del brand nell'intero campione)"
      ]
    },
    {
      "cell_type": "code",
      "execution_count": 21,
      "metadata": {
        "id": "RoiC6Aod3B9W",
        "outputId": "6eee573a-24c8-4dd8-b5a4-5995a60bdd13",
        "colab": {
          "base_uri": "https://localhost:8080/",
          "height": 551
        }
      },
      "outputs": [
        {
          "output_type": "execute_result",
          "data": {
            "text/plain": [
              "           brand          segmento consumatori_per_brand_e_segmento  \\\n",
              "0   OceanDelight             Other                              543   \n",
              "1   OceanDelight  Health-Conscious                               35   \n",
              "2   OceanDelight       Adventurous                               87   \n",
              "3   OceanDelight   Budget-Friendly                               90   \n",
              "4         SeaYum             Other                              821   \n",
              "5         SeaYum  Health-Conscious                               61   \n",
              "6         SeaYum       Adventurous                              150   \n",
              "7         SeaYum   Budget-Friendly                              164   \n",
              "8       TunaKing             Other                              594   \n",
              "9       TunaKing  Health-Conscious                               40   \n",
              "10      TunaKing       Adventurous                              114   \n",
              "11      TunaKing   Budget-Friendly                              109   \n",
              "12      BlueFish             Other                              432   \n",
              "13      BlueFish  Health-Conscious                               36   \n",
              "14      BlueFish       Adventurous                               92   \n",
              "15      BlueFish   Budget-Friendly                               70   \n",
              "\n",
              "   consumatori_per_segmento  diffusione_brand_nel_segmento  \\\n",
              "0                      2390                       0.156529   \n",
              "1                       172                       0.135135   \n",
              "2                       443                       0.138535   \n",
              "3                       433                       0.139752   \n",
              "4                      2390                       0.236668   \n",
              "5                       172                       0.235521   \n",
              "6                       443                       0.238854   \n",
              "7                       433                       0.254658   \n",
              "8                      2390                       0.171231   \n",
              "9                       172                       0.154440   \n",
              "10                      443                       0.181529   \n",
              "11                      433                       0.169255   \n",
              "12                     2390                       0.124532   \n",
              "13                      172                       0.138996   \n",
              "14                      443                       0.146497   \n",
              "15                      433                       0.108696   \n",
              "\n",
              "    diffusione_brand_popolazione         BDI         CDI  \n",
              "0                         0.1510  103.661761  100.197696  \n",
              "1                         0.1510   89.493467   96.581248  \n",
              "2                         0.1510   91.745054  102.590752  \n",
              "3                         0.1510   92.550697   97.783631  \n",
              "4                         0.2392   98.941316  100.197696  \n",
              "5                         0.2392   98.462055   96.581248  \n",
              "6                         0.2392   99.855143  102.590752  \n",
              "7                         0.2392  106.462536   97.783631  \n",
              "8                         0.1714   99.901343  100.197696  \n",
              "9                         0.1714   90.105108   96.581248  \n",
              "10                        0.1714  105.909371  102.590752  \n",
              "11                        0.1714   98.748342   97.783631  \n",
              "12                        0.1260   98.834576  100.197696  \n",
              "13                        0.1260  110.314396   96.581248  \n",
              "14                        0.1260  116.267314  102.590752  \n",
              "15                        0.1260   86.266391   97.783631  "
            ],
            "text/html": [
              "\n",
              "  <div id=\"df-5ce9a52c-c591-434a-9224-b4b62a035f3b\" class=\"colab-df-container\">\n",
              "    <div>\n",
              "<style scoped>\n",
              "    .dataframe tbody tr th:only-of-type {\n",
              "        vertical-align: middle;\n",
              "    }\n",
              "\n",
              "    .dataframe tbody tr th {\n",
              "        vertical-align: top;\n",
              "    }\n",
              "\n",
              "    .dataframe thead th {\n",
              "        text-align: right;\n",
              "    }\n",
              "</style>\n",
              "<table border=\"1\" class=\"dataframe\">\n",
              "  <thead>\n",
              "    <tr style=\"text-align: right;\">\n",
              "      <th></th>\n",
              "      <th>brand</th>\n",
              "      <th>segmento</th>\n",
              "      <th>consumatori_per_brand_e_segmento</th>\n",
              "      <th>consumatori_per_segmento</th>\n",
              "      <th>diffusione_brand_nel_segmento</th>\n",
              "      <th>diffusione_brand_popolazione</th>\n",
              "      <th>BDI</th>\n",
              "      <th>CDI</th>\n",
              "    </tr>\n",
              "  </thead>\n",
              "  <tbody>\n",
              "    <tr>\n",
              "      <th>0</th>\n",
              "      <td>OceanDelight</td>\n",
              "      <td>Other</td>\n",
              "      <td>543</td>\n",
              "      <td>2390</td>\n",
              "      <td>0.156529</td>\n",
              "      <td>0.1510</td>\n",
              "      <td>103.661761</td>\n",
              "      <td>100.197696</td>\n",
              "    </tr>\n",
              "    <tr>\n",
              "      <th>1</th>\n",
              "      <td>OceanDelight</td>\n",
              "      <td>Health-Conscious</td>\n",
              "      <td>35</td>\n",
              "      <td>172</td>\n",
              "      <td>0.135135</td>\n",
              "      <td>0.1510</td>\n",
              "      <td>89.493467</td>\n",
              "      <td>96.581248</td>\n",
              "    </tr>\n",
              "    <tr>\n",
              "      <th>2</th>\n",
              "      <td>OceanDelight</td>\n",
              "      <td>Adventurous</td>\n",
              "      <td>87</td>\n",
              "      <td>443</td>\n",
              "      <td>0.138535</td>\n",
              "      <td>0.1510</td>\n",
              "      <td>91.745054</td>\n",
              "      <td>102.590752</td>\n",
              "    </tr>\n",
              "    <tr>\n",
              "      <th>3</th>\n",
              "      <td>OceanDelight</td>\n",
              "      <td>Budget-Friendly</td>\n",
              "      <td>90</td>\n",
              "      <td>433</td>\n",
              "      <td>0.139752</td>\n",
              "      <td>0.1510</td>\n",
              "      <td>92.550697</td>\n",
              "      <td>97.783631</td>\n",
              "    </tr>\n",
              "    <tr>\n",
              "      <th>4</th>\n",
              "      <td>SeaYum</td>\n",
              "      <td>Other</td>\n",
              "      <td>821</td>\n",
              "      <td>2390</td>\n",
              "      <td>0.236668</td>\n",
              "      <td>0.2392</td>\n",
              "      <td>98.941316</td>\n",
              "      <td>100.197696</td>\n",
              "    </tr>\n",
              "    <tr>\n",
              "      <th>5</th>\n",
              "      <td>SeaYum</td>\n",
              "      <td>Health-Conscious</td>\n",
              "      <td>61</td>\n",
              "      <td>172</td>\n",
              "      <td>0.235521</td>\n",
              "      <td>0.2392</td>\n",
              "      <td>98.462055</td>\n",
              "      <td>96.581248</td>\n",
              "    </tr>\n",
              "    <tr>\n",
              "      <th>6</th>\n",
              "      <td>SeaYum</td>\n",
              "      <td>Adventurous</td>\n",
              "      <td>150</td>\n",
              "      <td>443</td>\n",
              "      <td>0.238854</td>\n",
              "      <td>0.2392</td>\n",
              "      <td>99.855143</td>\n",
              "      <td>102.590752</td>\n",
              "    </tr>\n",
              "    <tr>\n",
              "      <th>7</th>\n",
              "      <td>SeaYum</td>\n",
              "      <td>Budget-Friendly</td>\n",
              "      <td>164</td>\n",
              "      <td>433</td>\n",
              "      <td>0.254658</td>\n",
              "      <td>0.2392</td>\n",
              "      <td>106.462536</td>\n",
              "      <td>97.783631</td>\n",
              "    </tr>\n",
              "    <tr>\n",
              "      <th>8</th>\n",
              "      <td>TunaKing</td>\n",
              "      <td>Other</td>\n",
              "      <td>594</td>\n",
              "      <td>2390</td>\n",
              "      <td>0.171231</td>\n",
              "      <td>0.1714</td>\n",
              "      <td>99.901343</td>\n",
              "      <td>100.197696</td>\n",
              "    </tr>\n",
              "    <tr>\n",
              "      <th>9</th>\n",
              "      <td>TunaKing</td>\n",
              "      <td>Health-Conscious</td>\n",
              "      <td>40</td>\n",
              "      <td>172</td>\n",
              "      <td>0.154440</td>\n",
              "      <td>0.1714</td>\n",
              "      <td>90.105108</td>\n",
              "      <td>96.581248</td>\n",
              "    </tr>\n",
              "    <tr>\n",
              "      <th>10</th>\n",
              "      <td>TunaKing</td>\n",
              "      <td>Adventurous</td>\n",
              "      <td>114</td>\n",
              "      <td>443</td>\n",
              "      <td>0.181529</td>\n",
              "      <td>0.1714</td>\n",
              "      <td>105.909371</td>\n",
              "      <td>102.590752</td>\n",
              "    </tr>\n",
              "    <tr>\n",
              "      <th>11</th>\n",
              "      <td>TunaKing</td>\n",
              "      <td>Budget-Friendly</td>\n",
              "      <td>109</td>\n",
              "      <td>433</td>\n",
              "      <td>0.169255</td>\n",
              "      <td>0.1714</td>\n",
              "      <td>98.748342</td>\n",
              "      <td>97.783631</td>\n",
              "    </tr>\n",
              "    <tr>\n",
              "      <th>12</th>\n",
              "      <td>BlueFish</td>\n",
              "      <td>Other</td>\n",
              "      <td>432</td>\n",
              "      <td>2390</td>\n",
              "      <td>0.124532</td>\n",
              "      <td>0.1260</td>\n",
              "      <td>98.834576</td>\n",
              "      <td>100.197696</td>\n",
              "    </tr>\n",
              "    <tr>\n",
              "      <th>13</th>\n",
              "      <td>BlueFish</td>\n",
              "      <td>Health-Conscious</td>\n",
              "      <td>36</td>\n",
              "      <td>172</td>\n",
              "      <td>0.138996</td>\n",
              "      <td>0.1260</td>\n",
              "      <td>110.314396</td>\n",
              "      <td>96.581248</td>\n",
              "    </tr>\n",
              "    <tr>\n",
              "      <th>14</th>\n",
              "      <td>BlueFish</td>\n",
              "      <td>Adventurous</td>\n",
              "      <td>92</td>\n",
              "      <td>443</td>\n",
              "      <td>0.146497</td>\n",
              "      <td>0.1260</td>\n",
              "      <td>116.267314</td>\n",
              "      <td>102.590752</td>\n",
              "    </tr>\n",
              "    <tr>\n",
              "      <th>15</th>\n",
              "      <td>BlueFish</td>\n",
              "      <td>Budget-Friendly</td>\n",
              "      <td>70</td>\n",
              "      <td>433</td>\n",
              "      <td>0.108696</td>\n",
              "      <td>0.1260</td>\n",
              "      <td>86.266391</td>\n",
              "      <td>97.783631</td>\n",
              "    </tr>\n",
              "  </tbody>\n",
              "</table>\n",
              "</div>\n",
              "    <div class=\"colab-df-buttons\">\n",
              "\n",
              "  <div class=\"colab-df-container\">\n",
              "    <button class=\"colab-df-convert\" onclick=\"convertToInteractive('df-5ce9a52c-c591-434a-9224-b4b62a035f3b')\"\n",
              "            title=\"Convert this dataframe to an interactive table.\"\n",
              "            style=\"display:none;\">\n",
              "\n",
              "  <svg xmlns=\"http://www.w3.org/2000/svg\" height=\"24px\" viewBox=\"0 -960 960 960\">\n",
              "    <path d=\"M120-120v-720h720v720H120Zm60-500h600v-160H180v160Zm220 220h160v-160H400v160Zm0 220h160v-160H400v160ZM180-400h160v-160H180v160Zm440 0h160v-160H620v160ZM180-180h160v-160H180v160Zm440 0h160v-160H620v160Z\"/>\n",
              "  </svg>\n",
              "    </button>\n",
              "\n",
              "  <style>\n",
              "    .colab-df-container {\n",
              "      display:flex;\n",
              "      gap: 12px;\n",
              "    }\n",
              "\n",
              "    .colab-df-convert {\n",
              "      background-color: #E8F0FE;\n",
              "      border: none;\n",
              "      border-radius: 50%;\n",
              "      cursor: pointer;\n",
              "      display: none;\n",
              "      fill: #1967D2;\n",
              "      height: 32px;\n",
              "      padding: 0 0 0 0;\n",
              "      width: 32px;\n",
              "    }\n",
              "\n",
              "    .colab-df-convert:hover {\n",
              "      background-color: #E2EBFA;\n",
              "      box-shadow: 0px 1px 2px rgba(60, 64, 67, 0.3), 0px 1px 3px 1px rgba(60, 64, 67, 0.15);\n",
              "      fill: #174EA6;\n",
              "    }\n",
              "\n",
              "    .colab-df-buttons div {\n",
              "      margin-bottom: 4px;\n",
              "    }\n",
              "\n",
              "    [theme=dark] .colab-df-convert {\n",
              "      background-color: #3B4455;\n",
              "      fill: #D2E3FC;\n",
              "    }\n",
              "\n",
              "    [theme=dark] .colab-df-convert:hover {\n",
              "      background-color: #434B5C;\n",
              "      box-shadow: 0px 1px 3px 1px rgba(0, 0, 0, 0.15);\n",
              "      filter: drop-shadow(0px 1px 2px rgba(0, 0, 0, 0.3));\n",
              "      fill: #FFFFFF;\n",
              "    }\n",
              "  </style>\n",
              "\n",
              "    <script>\n",
              "      const buttonEl =\n",
              "        document.querySelector('#df-5ce9a52c-c591-434a-9224-b4b62a035f3b button.colab-df-convert');\n",
              "      buttonEl.style.display =\n",
              "        google.colab.kernel.accessAllowed ? 'block' : 'none';\n",
              "\n",
              "      async function convertToInteractive(key) {\n",
              "        const element = document.querySelector('#df-5ce9a52c-c591-434a-9224-b4b62a035f3b');\n",
              "        const dataTable =\n",
              "          await google.colab.kernel.invokeFunction('convertToInteractive',\n",
              "                                                    [key], {});\n",
              "        if (!dataTable) return;\n",
              "\n",
              "        const docLinkHtml = 'Like what you see? Visit the ' +\n",
              "          '<a target=\"_blank\" href=https://colab.research.google.com/notebooks/data_table.ipynb>data table notebook</a>'\n",
              "          + ' to learn more about interactive tables.';\n",
              "        element.innerHTML = '';\n",
              "        dataTable['output_type'] = 'display_data';\n",
              "        await google.colab.output.renderOutput(dataTable, element);\n",
              "        const docLink = document.createElement('div');\n",
              "        docLink.innerHTML = docLinkHtml;\n",
              "        element.appendChild(docLink);\n",
              "      }\n",
              "    </script>\n",
              "  </div>\n",
              "\n",
              "\n",
              "<div id=\"df-c7e4b566-2775-48dd-b8cf-26eebad3f774\">\n",
              "  <button class=\"colab-df-quickchart\" onclick=\"quickchart('df-c7e4b566-2775-48dd-b8cf-26eebad3f774')\"\n",
              "            title=\"Suggest charts\"\n",
              "            style=\"display:none;\">\n",
              "\n",
              "<svg xmlns=\"http://www.w3.org/2000/svg\" height=\"24px\"viewBox=\"0 0 24 24\"\n",
              "     width=\"24px\">\n",
              "    <g>\n",
              "        <path d=\"M19 3H5c-1.1 0-2 .9-2 2v14c0 1.1.9 2 2 2h14c1.1 0 2-.9 2-2V5c0-1.1-.9-2-2-2zM9 17H7v-7h2v7zm4 0h-2V7h2v10zm4 0h-2v-4h2v4z\"/>\n",
              "    </g>\n",
              "</svg>\n",
              "  </button>\n",
              "\n",
              "<style>\n",
              "  .colab-df-quickchart {\n",
              "      --bg-color: #E8F0FE;\n",
              "      --fill-color: #1967D2;\n",
              "      --hover-bg-color: #E2EBFA;\n",
              "      --hover-fill-color: #174EA6;\n",
              "      --disabled-fill-color: #AAA;\n",
              "      --disabled-bg-color: #DDD;\n",
              "  }\n",
              "\n",
              "  [theme=dark] .colab-df-quickchart {\n",
              "      --bg-color: #3B4455;\n",
              "      --fill-color: #D2E3FC;\n",
              "      --hover-bg-color: #434B5C;\n",
              "      --hover-fill-color: #FFFFFF;\n",
              "      --disabled-bg-color: #3B4455;\n",
              "      --disabled-fill-color: #666;\n",
              "  }\n",
              "\n",
              "  .colab-df-quickchart {\n",
              "    background-color: var(--bg-color);\n",
              "    border: none;\n",
              "    border-radius: 50%;\n",
              "    cursor: pointer;\n",
              "    display: none;\n",
              "    fill: var(--fill-color);\n",
              "    height: 32px;\n",
              "    padding: 0;\n",
              "    width: 32px;\n",
              "  }\n",
              "\n",
              "  .colab-df-quickchart:hover {\n",
              "    background-color: var(--hover-bg-color);\n",
              "    box-shadow: 0 1px 2px rgba(60, 64, 67, 0.3), 0 1px 3px 1px rgba(60, 64, 67, 0.15);\n",
              "    fill: var(--button-hover-fill-color);\n",
              "  }\n",
              "\n",
              "  .colab-df-quickchart-complete:disabled,\n",
              "  .colab-df-quickchart-complete:disabled:hover {\n",
              "    background-color: var(--disabled-bg-color);\n",
              "    fill: var(--disabled-fill-color);\n",
              "    box-shadow: none;\n",
              "  }\n",
              "\n",
              "  .colab-df-spinner {\n",
              "    border: 2px solid var(--fill-color);\n",
              "    border-color: transparent;\n",
              "    border-bottom-color: var(--fill-color);\n",
              "    animation:\n",
              "      spin 1s steps(1) infinite;\n",
              "  }\n",
              "\n",
              "  @keyframes spin {\n",
              "    0% {\n",
              "      border-color: transparent;\n",
              "      border-bottom-color: var(--fill-color);\n",
              "      border-left-color: var(--fill-color);\n",
              "    }\n",
              "    20% {\n",
              "      border-color: transparent;\n",
              "      border-left-color: var(--fill-color);\n",
              "      border-top-color: var(--fill-color);\n",
              "    }\n",
              "    30% {\n",
              "      border-color: transparent;\n",
              "      border-left-color: var(--fill-color);\n",
              "      border-top-color: var(--fill-color);\n",
              "      border-right-color: var(--fill-color);\n",
              "    }\n",
              "    40% {\n",
              "      border-color: transparent;\n",
              "      border-right-color: var(--fill-color);\n",
              "      border-top-color: var(--fill-color);\n",
              "    }\n",
              "    60% {\n",
              "      border-color: transparent;\n",
              "      border-right-color: var(--fill-color);\n",
              "    }\n",
              "    80% {\n",
              "      border-color: transparent;\n",
              "      border-right-color: var(--fill-color);\n",
              "      border-bottom-color: var(--fill-color);\n",
              "    }\n",
              "    90% {\n",
              "      border-color: transparent;\n",
              "      border-bottom-color: var(--fill-color);\n",
              "    }\n",
              "  }\n",
              "</style>\n",
              "\n",
              "  <script>\n",
              "    async function quickchart(key) {\n",
              "      const quickchartButtonEl =\n",
              "        document.querySelector('#' + key + ' button');\n",
              "      quickchartButtonEl.disabled = true;  // To prevent multiple clicks.\n",
              "      quickchartButtonEl.classList.add('colab-df-spinner');\n",
              "      try {\n",
              "        const charts = await google.colab.kernel.invokeFunction(\n",
              "            'suggestCharts', [key], {});\n",
              "      } catch (error) {\n",
              "        console.error('Error during call to suggestCharts:', error);\n",
              "      }\n",
              "      quickchartButtonEl.classList.remove('colab-df-spinner');\n",
              "      quickchartButtonEl.classList.add('colab-df-quickchart-complete');\n",
              "    }\n",
              "    (() => {\n",
              "      let quickchartButtonEl =\n",
              "        document.querySelector('#df-c7e4b566-2775-48dd-b8cf-26eebad3f774 button');\n",
              "      quickchartButtonEl.style.display =\n",
              "        google.colab.kernel.accessAllowed ? 'block' : 'none';\n",
              "    })();\n",
              "  </script>\n",
              "</div>\n",
              "    </div>\n",
              "  </div>\n"
            ],
            "application/vnd.google.colaboratory.intrinsic+json": {
              "type": "dataframe",
              "variable_name": "results_df",
              "summary": "{\n  \"name\": \"results_df\",\n  \"rows\": 16,\n  \"fields\": [\n    {\n      \"column\": \"brand\",\n      \"properties\": {\n        \"dtype\": \"category\",\n        \"num_unique_values\": 4,\n        \"samples\": [\n          \"SeaYum\",\n          \"BlueFish\",\n          \"OceanDelight\"\n        ],\n        \"semantic_type\": \"\",\n        \"description\": \"\"\n      }\n    },\n    {\n      \"column\": \"segmento\",\n      \"properties\": {\n        \"dtype\": \"category\",\n        \"num_unique_values\": 4,\n        \"samples\": [\n          \"Health-Conscious\",\n          \"Budget-Friendly\",\n          \"Other\"\n        ],\n        \"semantic_type\": \"\",\n        \"description\": \"\"\n      }\n    },\n    {\n      \"column\": \"consumatori_per_brand_e_segmento\",\n      \"properties\": {\n        \"dtype\": \"date\",\n        \"min\": 35,\n        \"max\": 821,\n        \"num_unique_values\": 16,\n        \"samples\": [\n          543,\n          35,\n          61\n        ],\n        \"semantic_type\": \"\",\n        \"description\": \"\"\n      }\n    },\n    {\n      \"column\": \"consumatori_per_segmento\",\n      \"properties\": {\n        \"dtype\": \"date\",\n        \"min\": 172,\n        \"max\": 2390,\n        \"num_unique_values\": 4,\n        \"samples\": [\n          172,\n          433,\n          2390\n        ],\n        \"semantic_type\": \"\",\n        \"description\": \"\"\n      }\n    },\n    {\n      \"column\": \"diffusione_brand_nel_segmento\",\n      \"properties\": {\n        \"dtype\": \"number\",\n        \"std\": 0.045939444973458775,\n        \"min\": 0.10869565217391304,\n        \"max\": 0.2546583850931677,\n        \"num_unique_values\": 16,\n        \"samples\": [\n          0.15652925915249352,\n          0.13513513513513514,\n          0.23552123552123552\n        ],\n        \"semantic_type\": \"\",\n        \"description\": \"\"\n      }\n    },\n    {\n      \"column\": \"diffusione_brand_popolazione\",\n      \"properties\": {\n        \"dtype\": \"number\",\n        \"std\": 0.043430127791660944,\n        \"min\": 0.126,\n        \"max\": 0.2392,\n        \"num_unique_values\": 4,\n        \"samples\": [\n          0.2392,\n          0.126,\n          0.151\n        ],\n        \"semantic_type\": \"\",\n        \"description\": \"\"\n      }\n    },\n    {\n      \"column\": \"BDI\",\n      \"properties\": {\n        \"dtype\": \"number\",\n        \"std\": 8.076119910222378,\n        \"min\": 86.2663906142167,\n        \"max\": 116.26731371954301,\n        \"num_unique_values\": 16,\n        \"samples\": [\n          103.6617610281414,\n          89.4934669769107,\n          98.46205498379412\n        ],\n        \"semantic_type\": \"\",\n        \"description\": \"\"\n      }\n    },\n    {\n      \"column\": \"CDI\",\n      \"properties\": {\n        \"dtype\": \"number\",\n        \"std\": 2.3846927208587196,\n        \"min\": 96.58124841370915,\n        \"max\": 102.59075228895485,\n        \"num_unique_values\": 4,\n        \"samples\": [\n          96.58124841370915,\n          97.78363124595768,\n          100.1976955033119\n        ],\n        \"semantic_type\": \"\",\n        \"description\": \"\"\n      }\n    }\n  ]\n}"
            }
          },
          "metadata": {},
          "execution_count": 21
        }
      ],
      "source": [
        "# Create a DataFrame for the results\n",
        "results_df = pd.DataFrame(columns=['brand', 'segmento', 'consumatori_per_brand_e_segmento', 'consumatori_per_segmento', 'diffusione_brand_nel_segmento', 'diffusione_brand_popolazione', 'BDI', 'CDI'])\n",
        "\n",
        "rows_list = []\n",
        "\n",
        "for brand in target_brands:\n",
        "    for segmento in segmenti_target:\n",
        "        # qui prendiamo il numero di consumatori del nostro segmento che acquistano regolarmente il brand\n",
        "        consumatori_per_brand_e_segmento = len(df[(df['Brand'] == brand) & (df['Segmento'] == segmento)])\n",
        "        # il numero di consumatori totali di questo segmento é giá in \"rispondenti_per_segmento\", da qui possiamo sapere la diffusione del brand nel segmento\n",
        "        diffusione_brand_nel_segmento = consumatori_per_brand_e_segmento / rispondenti_per_segmento[segmento]\n",
        "        # la diffusione del brand nell'intera popolazione é in diffusione_brand_popolazione, quindi possiamo calcolare il bdi\n",
        "\n",
        "        bdi = 100.0 * diffusione_brand_nel_segmento / diffusione_brand_popolazione[brand]\n",
        "\n",
        "        row = {\n",
        "            'brand': brand,\n",
        "            'segmento': segmento,\n",
        "            'consumatori_per_brand_e_segmento': consumatori_per_brand_e_segmento,\n",
        "            'consumatori_per_segmento': consumatori_per_segmento[segmento],\n",
        "            'diffusione_brand_nel_segmento': diffusione_brand_nel_segmento,\n",
        "            'diffusione_brand_popolazione': diffusione_brand_popolazione[brand],\n",
        "            'BDI': bdi,\n",
        "            'CDI': cdi[segmento],\n",
        "        }\n",
        "        rows_list.append(row)\n",
        "\n",
        "results_df = pd.concat([results_df, pd.DataFrame(rows_list)], ignore_index=True)\n",
        "results_df"
      ]
    },
    {
      "cell_type": "code",
      "execution_count": 22,
      "metadata": {
        "id": "3iR7P1ui3B9W"
      },
      "outputs": [],
      "source": [
        "results_df['BDI_CDI'] = results_df.BDI / results_df.CDI"
      ]
    },
    {
      "cell_type": "markdown",
      "metadata": {
        "id": "QkbWeX313B9X"
      },
      "source": [
        "Come ultima cosa, per esportare in excel, \"pivottiamo\" mantenendo sulle righe i segmenti target e sulle colonne i brand"
      ]
    },
    {
      "cell_type": "code",
      "execution_count": 23,
      "metadata": {
        "id": "IiMHm-g33B9X",
        "outputId": "b2b60838-6faa-4c3b-fe58-0155002c266d",
        "colab": {
          "base_uri": "https://localhost:8080/",
          "height": 238
        }
      },
      "outputs": [
        {
          "output_type": "execute_result",
          "data": {
            "text/plain": [
              "                         BDI                                        BDI_CDI  \\\n",
              "brand               BlueFish OceanDelight      SeaYum    TunaKing  BlueFish   \n",
              "segmento                                                                      \n",
              "Adventurous       116.267314    91.745054   99.855143  105.909371  1.133312   \n",
              "Budget-Friendly    86.266391    92.550697  106.462536   98.748342  0.882217   \n",
              "Health-Conscious  110.314396    89.493467   98.462055   90.105108  1.142193   \n",
              "Other              98.834576   103.661761   98.941316   99.901343  0.986396   \n",
              "\n",
              "                                                          CDI               \\\n",
              "brand            OceanDelight    SeaYum  TunaKing    BlueFish OceanDelight   \n",
              "segmento                                                                     \n",
              "Adventurous          0.894282  0.973335  1.032348  102.590752   102.590752   \n",
              "Budget-Friendly      0.946485  1.088756  1.009866   97.783631    97.783631   \n",
              "Health-Conscious     0.926613  1.019474  0.932946   96.581248    96.581248   \n",
              "Other                1.034572  0.987461  0.997042  100.197696   100.197696   \n",
              "\n",
              "                                          \n",
              "brand                 SeaYum    TunaKing  \n",
              "segmento                                  \n",
              "Adventurous       102.590752  102.590752  \n",
              "Budget-Friendly    97.783631   97.783631  \n",
              "Health-Conscious   96.581248   96.581248  \n",
              "Other             100.197696  100.197696  "
            ],
            "text/html": [
              "\n",
              "  <div id=\"df-fc60c95e-9a3e-4038-b39a-443eeb79ccb1\" class=\"colab-df-container\">\n",
              "    <div>\n",
              "<style scoped>\n",
              "    .dataframe tbody tr th:only-of-type {\n",
              "        vertical-align: middle;\n",
              "    }\n",
              "\n",
              "    .dataframe tbody tr th {\n",
              "        vertical-align: top;\n",
              "    }\n",
              "\n",
              "    .dataframe thead tr th {\n",
              "        text-align: left;\n",
              "    }\n",
              "\n",
              "    .dataframe thead tr:last-of-type th {\n",
              "        text-align: right;\n",
              "    }\n",
              "</style>\n",
              "<table border=\"1\" class=\"dataframe\">\n",
              "  <thead>\n",
              "    <tr>\n",
              "      <th></th>\n",
              "      <th colspan=\"4\" halign=\"left\">BDI</th>\n",
              "      <th colspan=\"4\" halign=\"left\">BDI_CDI</th>\n",
              "      <th colspan=\"4\" halign=\"left\">CDI</th>\n",
              "    </tr>\n",
              "    <tr>\n",
              "      <th>brand</th>\n",
              "      <th>BlueFish</th>\n",
              "      <th>OceanDelight</th>\n",
              "      <th>SeaYum</th>\n",
              "      <th>TunaKing</th>\n",
              "      <th>BlueFish</th>\n",
              "      <th>OceanDelight</th>\n",
              "      <th>SeaYum</th>\n",
              "      <th>TunaKing</th>\n",
              "      <th>BlueFish</th>\n",
              "      <th>OceanDelight</th>\n",
              "      <th>SeaYum</th>\n",
              "      <th>TunaKing</th>\n",
              "    </tr>\n",
              "    <tr>\n",
              "      <th>segmento</th>\n",
              "      <th></th>\n",
              "      <th></th>\n",
              "      <th></th>\n",
              "      <th></th>\n",
              "      <th></th>\n",
              "      <th></th>\n",
              "      <th></th>\n",
              "      <th></th>\n",
              "      <th></th>\n",
              "      <th></th>\n",
              "      <th></th>\n",
              "      <th></th>\n",
              "    </tr>\n",
              "  </thead>\n",
              "  <tbody>\n",
              "    <tr>\n",
              "      <th>Adventurous</th>\n",
              "      <td>116.267314</td>\n",
              "      <td>91.745054</td>\n",
              "      <td>99.855143</td>\n",
              "      <td>105.909371</td>\n",
              "      <td>1.133312</td>\n",
              "      <td>0.894282</td>\n",
              "      <td>0.973335</td>\n",
              "      <td>1.032348</td>\n",
              "      <td>102.590752</td>\n",
              "      <td>102.590752</td>\n",
              "      <td>102.590752</td>\n",
              "      <td>102.590752</td>\n",
              "    </tr>\n",
              "    <tr>\n",
              "      <th>Budget-Friendly</th>\n",
              "      <td>86.266391</td>\n",
              "      <td>92.550697</td>\n",
              "      <td>106.462536</td>\n",
              "      <td>98.748342</td>\n",
              "      <td>0.882217</td>\n",
              "      <td>0.946485</td>\n",
              "      <td>1.088756</td>\n",
              "      <td>1.009866</td>\n",
              "      <td>97.783631</td>\n",
              "      <td>97.783631</td>\n",
              "      <td>97.783631</td>\n",
              "      <td>97.783631</td>\n",
              "    </tr>\n",
              "    <tr>\n",
              "      <th>Health-Conscious</th>\n",
              "      <td>110.314396</td>\n",
              "      <td>89.493467</td>\n",
              "      <td>98.462055</td>\n",
              "      <td>90.105108</td>\n",
              "      <td>1.142193</td>\n",
              "      <td>0.926613</td>\n",
              "      <td>1.019474</td>\n",
              "      <td>0.932946</td>\n",
              "      <td>96.581248</td>\n",
              "      <td>96.581248</td>\n",
              "      <td>96.581248</td>\n",
              "      <td>96.581248</td>\n",
              "    </tr>\n",
              "    <tr>\n",
              "      <th>Other</th>\n",
              "      <td>98.834576</td>\n",
              "      <td>103.661761</td>\n",
              "      <td>98.941316</td>\n",
              "      <td>99.901343</td>\n",
              "      <td>0.986396</td>\n",
              "      <td>1.034572</td>\n",
              "      <td>0.987461</td>\n",
              "      <td>0.997042</td>\n",
              "      <td>100.197696</td>\n",
              "      <td>100.197696</td>\n",
              "      <td>100.197696</td>\n",
              "      <td>100.197696</td>\n",
              "    </tr>\n",
              "  </tbody>\n",
              "</table>\n",
              "</div>\n",
              "    <div class=\"colab-df-buttons\">\n",
              "\n",
              "  <div class=\"colab-df-container\">\n",
              "    <button class=\"colab-df-convert\" onclick=\"convertToInteractive('df-fc60c95e-9a3e-4038-b39a-443eeb79ccb1')\"\n",
              "            title=\"Convert this dataframe to an interactive table.\"\n",
              "            style=\"display:none;\">\n",
              "\n",
              "  <svg xmlns=\"http://www.w3.org/2000/svg\" height=\"24px\" viewBox=\"0 -960 960 960\">\n",
              "    <path d=\"M120-120v-720h720v720H120Zm60-500h600v-160H180v160Zm220 220h160v-160H400v160Zm0 220h160v-160H400v160ZM180-400h160v-160H180v160Zm440 0h160v-160H620v160ZM180-180h160v-160H180v160Zm440 0h160v-160H620v160Z\"/>\n",
              "  </svg>\n",
              "    </button>\n",
              "\n",
              "  <style>\n",
              "    .colab-df-container {\n",
              "      display:flex;\n",
              "      gap: 12px;\n",
              "    }\n",
              "\n",
              "    .colab-df-convert {\n",
              "      background-color: #E8F0FE;\n",
              "      border: none;\n",
              "      border-radius: 50%;\n",
              "      cursor: pointer;\n",
              "      display: none;\n",
              "      fill: #1967D2;\n",
              "      height: 32px;\n",
              "      padding: 0 0 0 0;\n",
              "      width: 32px;\n",
              "    }\n",
              "\n",
              "    .colab-df-convert:hover {\n",
              "      background-color: #E2EBFA;\n",
              "      box-shadow: 0px 1px 2px rgba(60, 64, 67, 0.3), 0px 1px 3px 1px rgba(60, 64, 67, 0.15);\n",
              "      fill: #174EA6;\n",
              "    }\n",
              "\n",
              "    .colab-df-buttons div {\n",
              "      margin-bottom: 4px;\n",
              "    }\n",
              "\n",
              "    [theme=dark] .colab-df-convert {\n",
              "      background-color: #3B4455;\n",
              "      fill: #D2E3FC;\n",
              "    }\n",
              "\n",
              "    [theme=dark] .colab-df-convert:hover {\n",
              "      background-color: #434B5C;\n",
              "      box-shadow: 0px 1px 3px 1px rgba(0, 0, 0, 0.15);\n",
              "      filter: drop-shadow(0px 1px 2px rgba(0, 0, 0, 0.3));\n",
              "      fill: #FFFFFF;\n",
              "    }\n",
              "  </style>\n",
              "\n",
              "    <script>\n",
              "      const buttonEl =\n",
              "        document.querySelector('#df-fc60c95e-9a3e-4038-b39a-443eeb79ccb1 button.colab-df-convert');\n",
              "      buttonEl.style.display =\n",
              "        google.colab.kernel.accessAllowed ? 'block' : 'none';\n",
              "\n",
              "      async function convertToInteractive(key) {\n",
              "        const element = document.querySelector('#df-fc60c95e-9a3e-4038-b39a-443eeb79ccb1');\n",
              "        const dataTable =\n",
              "          await google.colab.kernel.invokeFunction('convertToInteractive',\n",
              "                                                    [key], {});\n",
              "        if (!dataTable) return;\n",
              "\n",
              "        const docLinkHtml = 'Like what you see? Visit the ' +\n",
              "          '<a target=\"_blank\" href=https://colab.research.google.com/notebooks/data_table.ipynb>data table notebook</a>'\n",
              "          + ' to learn more about interactive tables.';\n",
              "        element.innerHTML = '';\n",
              "        dataTable['output_type'] = 'display_data';\n",
              "        await google.colab.output.renderOutput(dataTable, element);\n",
              "        const docLink = document.createElement('div');\n",
              "        docLink.innerHTML = docLinkHtml;\n",
              "        element.appendChild(docLink);\n",
              "      }\n",
              "    </script>\n",
              "  </div>\n",
              "\n",
              "\n",
              "<div id=\"df-462b4d92-7869-43e7-8741-eb01ec74f231\">\n",
              "  <button class=\"colab-df-quickchart\" onclick=\"quickchart('df-462b4d92-7869-43e7-8741-eb01ec74f231')\"\n",
              "            title=\"Suggest charts\"\n",
              "            style=\"display:none;\">\n",
              "\n",
              "<svg xmlns=\"http://www.w3.org/2000/svg\" height=\"24px\"viewBox=\"0 0 24 24\"\n",
              "     width=\"24px\">\n",
              "    <g>\n",
              "        <path d=\"M19 3H5c-1.1 0-2 .9-2 2v14c0 1.1.9 2 2 2h14c1.1 0 2-.9 2-2V5c0-1.1-.9-2-2-2zM9 17H7v-7h2v7zm4 0h-2V7h2v10zm4 0h-2v-4h2v4z\"/>\n",
              "    </g>\n",
              "</svg>\n",
              "  </button>\n",
              "\n",
              "<style>\n",
              "  .colab-df-quickchart {\n",
              "      --bg-color: #E8F0FE;\n",
              "      --fill-color: #1967D2;\n",
              "      --hover-bg-color: #E2EBFA;\n",
              "      --hover-fill-color: #174EA6;\n",
              "      --disabled-fill-color: #AAA;\n",
              "      --disabled-bg-color: #DDD;\n",
              "  }\n",
              "\n",
              "  [theme=dark] .colab-df-quickchart {\n",
              "      --bg-color: #3B4455;\n",
              "      --fill-color: #D2E3FC;\n",
              "      --hover-bg-color: #434B5C;\n",
              "      --hover-fill-color: #FFFFFF;\n",
              "      --disabled-bg-color: #3B4455;\n",
              "      --disabled-fill-color: #666;\n",
              "  }\n",
              "\n",
              "  .colab-df-quickchart {\n",
              "    background-color: var(--bg-color);\n",
              "    border: none;\n",
              "    border-radius: 50%;\n",
              "    cursor: pointer;\n",
              "    display: none;\n",
              "    fill: var(--fill-color);\n",
              "    height: 32px;\n",
              "    padding: 0;\n",
              "    width: 32px;\n",
              "  }\n",
              "\n",
              "  .colab-df-quickchart:hover {\n",
              "    background-color: var(--hover-bg-color);\n",
              "    box-shadow: 0 1px 2px rgba(60, 64, 67, 0.3), 0 1px 3px 1px rgba(60, 64, 67, 0.15);\n",
              "    fill: var(--button-hover-fill-color);\n",
              "  }\n",
              "\n",
              "  .colab-df-quickchart-complete:disabled,\n",
              "  .colab-df-quickchart-complete:disabled:hover {\n",
              "    background-color: var(--disabled-bg-color);\n",
              "    fill: var(--disabled-fill-color);\n",
              "    box-shadow: none;\n",
              "  }\n",
              "\n",
              "  .colab-df-spinner {\n",
              "    border: 2px solid var(--fill-color);\n",
              "    border-color: transparent;\n",
              "    border-bottom-color: var(--fill-color);\n",
              "    animation:\n",
              "      spin 1s steps(1) infinite;\n",
              "  }\n",
              "\n",
              "  @keyframes spin {\n",
              "    0% {\n",
              "      border-color: transparent;\n",
              "      border-bottom-color: var(--fill-color);\n",
              "      border-left-color: var(--fill-color);\n",
              "    }\n",
              "    20% {\n",
              "      border-color: transparent;\n",
              "      border-left-color: var(--fill-color);\n",
              "      border-top-color: var(--fill-color);\n",
              "    }\n",
              "    30% {\n",
              "      border-color: transparent;\n",
              "      border-left-color: var(--fill-color);\n",
              "      border-top-color: var(--fill-color);\n",
              "      border-right-color: var(--fill-color);\n",
              "    }\n",
              "    40% {\n",
              "      border-color: transparent;\n",
              "      border-right-color: var(--fill-color);\n",
              "      border-top-color: var(--fill-color);\n",
              "    }\n",
              "    60% {\n",
              "      border-color: transparent;\n",
              "      border-right-color: var(--fill-color);\n",
              "    }\n",
              "    80% {\n",
              "      border-color: transparent;\n",
              "      border-right-color: var(--fill-color);\n",
              "      border-bottom-color: var(--fill-color);\n",
              "    }\n",
              "    90% {\n",
              "      border-color: transparent;\n",
              "      border-bottom-color: var(--fill-color);\n",
              "    }\n",
              "  }\n",
              "</style>\n",
              "\n",
              "  <script>\n",
              "    async function quickchart(key) {\n",
              "      const quickchartButtonEl =\n",
              "        document.querySelector('#' + key + ' button');\n",
              "      quickchartButtonEl.disabled = true;  // To prevent multiple clicks.\n",
              "      quickchartButtonEl.classList.add('colab-df-spinner');\n",
              "      try {\n",
              "        const charts = await google.colab.kernel.invokeFunction(\n",
              "            'suggestCharts', [key], {});\n",
              "      } catch (error) {\n",
              "        console.error('Error during call to suggestCharts:', error);\n",
              "      }\n",
              "      quickchartButtonEl.classList.remove('colab-df-spinner');\n",
              "      quickchartButtonEl.classList.add('colab-df-quickchart-complete');\n",
              "    }\n",
              "    (() => {\n",
              "      let quickchartButtonEl =\n",
              "        document.querySelector('#df-462b4d92-7869-43e7-8741-eb01ec74f231 button');\n",
              "      quickchartButtonEl.style.display =\n",
              "        google.colab.kernel.accessAllowed ? 'block' : 'none';\n",
              "    })();\n",
              "  </script>\n",
              "</div>\n",
              "    </div>\n",
              "  </div>\n"
            ],
            "application/vnd.google.colaboratory.intrinsic+json": {
              "type": "dataframe",
              "variable_name": "pivoted_df",
              "summary": "{\n  \"name\": \"pivoted_df\",\n  \"rows\": 4,\n  \"fields\": [\n    {\n      \"column\": [\n        \"segmento\",\n        \"\"\n      ],\n      \"properties\": {\n        \"dtype\": \"string\",\n        \"num_unique_values\": 4,\n        \"samples\": [\n          \"Budget-Friendly\",\n          \"Other\",\n          \"Adventurous\"\n        ],\n        \"semantic_type\": \"\",\n        \"description\": \"\"\n      }\n    },\n    {\n      \"column\": [\n        \"BDI\",\n        \"BlueFish\"\n      ],\n      \"properties\": {\n        \"dtype\": \"number\",\n        \"std\": 13.252185633971589,\n        \"min\": 86.2663906142167,\n        \"max\": 116.26731371954301,\n        \"num_unique_values\": 4,\n        \"samples\": [\n          86.2663906142167,\n          98.8345756290409,\n          116.26731371954301\n        ],\n        \"semantic_type\": \"\",\n        \"description\": \"\"\n      }\n    },\n    {\n      \"column\": [\n        \"BDI\",\n        \"OceanDelight\"\n      ],\n      \"properties\": {\n        \"dtype\": \"number\",\n        \"std\": 6.332913753783618,\n        \"min\": 89.4934669769107,\n        \"max\": 103.6617610281414,\n        \"num_unique_values\": 4,\n        \"samples\": [\n          92.55069721525234,\n          103.6617610281414,\n          91.74505420339983\n        ],\n        \"semantic_type\": \"\",\n        \"description\": \"\"\n      }\n    },\n    {\n      \"column\": [\n        \"BDI\",\n        \"SeaYum\"\n      ],\n      \"properties\": {\n        \"dtype\": \"number\",\n        \"std\": 3.7331793123809724,\n        \"min\": 98.46205498379412,\n        \"max\": 106.46253557406676,\n        \"num_unique_values\": 4,\n        \"samples\": [\n          106.46253557406676,\n          98.94131586888552,\n          99.85514347187015\n        ],\n        \"semantic_type\": \"\",\n        \"description\": \"\"\n      }\n    },\n    {\n      \"column\": [\n        \"BDI\",\n        \"TunaKing\"\n      ],\n      \"properties\": {\n        \"dtype\": \"number\",\n        \"std\": 6.513784346174835,\n        \"min\": 90.10510760802475,\n        \"max\": 105.90937130710743,\n        \"num_unique_values\": 4,\n        \"samples\": [\n          98.74834211499017,\n          99.90134321896929,\n          105.90937130710743\n        ],\n        \"semantic_type\": \"\",\n        \"description\": \"\"\n      }\n    },\n    {\n      \"column\": [\n        \"BDI_CDI\",\n        \"BlueFish\"\n      ],\n      \"properties\": {\n        \"dtype\": \"number\",\n        \"std\": 0.1249749944650862,\n        \"min\": 0.8822170900692841,\n        \"max\": 1.1421926910299003,\n        \"num_unique_values\": 4,\n        \"samples\": [\n          0.8822170900692841,\n          0.9863956963538553,\n          1.1333118348919702\n        ],\n        \"semantic_type\": \"\",\n        \"description\": \"\"\n      }\n    },\n    {\n      \"column\": [\n        \"BDI_CDI\",\n        \"OceanDelight\"\n      ],\n      \"properties\": {\n        \"dtype\": \"number\",\n        \"std\": 0.06004255422421655,\n        \"min\": 0.8942819129056852,\n        \"max\": 1.0345723073512703,\n        \"num_unique_values\": 4,\n        \"samples\": [\n          0.9464845602067814,\n          1.0345723073512703,\n          0.8942819129056852\n        ],\n        \"semantic_type\": \"\",\n        \"description\": \"\"\n      }\n    },\n    {\n      \"column\": [\n        \"BDI_CDI\",\n        \"SeaYum\"\n      ],\n      \"properties\": {\n        \"dtype\": \"number\",\n        \"std\": 0.05142638050094261,\n        \"min\": 0.9733347425957104,\n        \"max\": 1.088756208145705,\n        \"num_unique_values\": 4,\n        \"samples\": [\n          1.088756208145705,\n          0.9874609927093099,\n          0.9733347425957104\n        ],\n        \"semantic_type\": \"\",\n        \"description\": \"\"\n      }\n    },\n    {\n      \"column\": [\n        \"BDI_CDI\",\n        \"TunaKing\"\n      ],\n      \"properties\": {\n        \"dtype\": \"number\",\n        \"std\": 0.04264395215048394,\n        \"min\": 0.9329461887058695,\n        \"max\": 1.0323481302564723,\n        \"num_unique_values\": 4,\n        \"samples\": [\n          1.0098657705460532,\n          0.9970423243483397,\n          1.0323481302564723\n        ],\n        \"semantic_type\": \"\",\n        \"description\": \"\"\n      }\n    },\n    {\n      \"column\": [\n        \"CDI\",\n        \"BlueFish\"\n      ],\n      \"properties\": {\n        \"dtype\": \"number\",\n        \"std\": 2.666167514644514,\n        \"min\": 96.58124841370915,\n        \"max\": 102.59075228895485,\n        \"num_unique_values\": 4,\n        \"samples\": [\n          97.78363124595768,\n          100.1976955033119,\n          102.59075228895485\n        ],\n        \"semantic_type\": \"\",\n        \"description\": \"\"\n      }\n    },\n    {\n      \"column\": [\n        \"CDI\",\n        \"OceanDelight\"\n      ],\n      \"properties\": {\n        \"dtype\": \"number\",\n        \"std\": 2.666167514644514,\n        \"min\": 96.58124841370915,\n        \"max\": 102.59075228895485,\n        \"num_unique_values\": 4,\n        \"samples\": [\n          97.78363124595768,\n          100.1976955033119,\n          102.59075228895485\n        ],\n        \"semantic_type\": \"\",\n        \"description\": \"\"\n      }\n    },\n    {\n      \"column\": [\n        \"CDI\",\n        \"SeaYum\"\n      ],\n      \"properties\": {\n        \"dtype\": \"number\",\n        \"std\": 2.666167514644514,\n        \"min\": 96.58124841370915,\n        \"max\": 102.59075228895485,\n        \"num_unique_values\": 4,\n        \"samples\": [\n          97.78363124595768,\n          100.1976955033119,\n          102.59075228895485\n        ],\n        \"semantic_type\": \"\",\n        \"description\": \"\"\n      }\n    },\n    {\n      \"column\": [\n        \"CDI\",\n        \"TunaKing\"\n      ],\n      \"properties\": {\n        \"dtype\": \"number\",\n        \"std\": 2.666167514644514,\n        \"min\": 96.58124841370915,\n        \"max\": 102.59075228895485,\n        \"num_unique_values\": 4,\n        \"samples\": [\n          97.78363124595768,\n          100.1976955033119,\n          102.59075228895485\n        ],\n        \"semantic_type\": \"\",\n        \"description\": \"\"\n      }\n    }\n  ]\n}"
            }
          },
          "metadata": {},
          "execution_count": 23
        }
      ],
      "source": [
        "pivoted_df = results_df.pivot_table(index='segmento',\n",
        "                                   columns='brand',\n",
        "                                   values=['BDI', 'CDI', 'BDI_CDI'],\n",
        "                                   aggfunc='first')\n",
        "\n",
        "pivoted_df"
      ]
    },
    {
      "cell_type": "code",
      "execution_count": 24,
      "metadata": {
        "id": "ZAndRw-Z3B9X"
      },
      "outputs": [],
      "source": [
        "pivoted_df.to_excel('pivoted_df.xlsx')"
      ]
    }
  ],
  "metadata": {
    "kernelspec": {
      "display_name": "Python 3",
      "language": "python",
      "name": "python3"
    },
    "language_info": {
      "codemirror_mode": {
        "name": "ipython",
        "version": 3
      },
      "file_extension": ".py",
      "mimetype": "text/x-python",
      "name": "python",
      "nbconvert_exporter": "python",
      "pygments_lexer": "ipython3",
      "version": "3.9.17"
    },
    "orig_nbformat": 4,
    "colab": {
      "provenance": []
    }
  },
  "nbformat": 4,
  "nbformat_minor": 0
}