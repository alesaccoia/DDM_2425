{
  "nbformat": 4,
  "nbformat_minor": 0,
  "metadata": {
    "colab": {
      "provenance": []
    },
    "kernelspec": {
      "name": "python3",
      "display_name": "Python 3"
    },
    "language_info": {
      "name": "python"
    }
  },
  "cells": [
    {
      "cell_type": "markdown",
      "source": [
        "# Pasticceria / Metodo Monte Carlo\n",
        "Risoluzione dell'esercizio\n"
      ],
      "metadata": {
        "id": "vgjq6MAlvW2O"
      }
    },
    {
      "cell_type": "code",
      "execution_count": 31,
      "metadata": {
        "id": "9LYK-E1ivG4v"
      },
      "outputs": [],
      "source": [
        "import numpy as np\n",
        "import random\n",
        "\n",
        "random.seed(42)\n",
        "\n",
        "def simulate(livello_produzione):\n",
        "  livello_domanda = np.random.normal(100,25) # 50\n",
        "  livello_domanda = max(0, livello_domanda) # 50\n",
        "  quantita_venduti = min(livello_produzione, livello_domanda)\n",
        "  quantita_tgtg = livello_produzione - quantita_venduti\n",
        "  ricavo_venduti = (2.60 - 1) * quantita_venduti\n",
        "  ricavo_tgtg = (0.40 - 1) * quantita_tgtg\n",
        "  utile = ricavo_venduti + ricavo_tgtg\n",
        "  return utile\n"
      ]
    },
    {
      "cell_type": "code",
      "source": [
        "numero_simulazioni = 10000\n",
        "risultati = []\n",
        "for i in range(0,numero_simulazioni):\n",
        "  risultato = simulate(140)\n",
        "  risultati.append(risultato)"
      ],
      "metadata": {
        "id": "UOeCaLv0wf9-"
      },
      "execution_count": 38,
      "outputs": []
    },
    {
      "cell_type": "code",
      "source": [
        "np.mean(risultati)"
      ],
      "metadata": {
        "colab": {
          "base_uri": "https://localhost:8080/"
        },
        "id": "C7mkZ6uI0sOg",
        "outputId": "7676e393-0f17-4940-80ae-00e254ed44db"
      },
      "execution_count": 39,
      "outputs": [
        {
          "output_type": "execute_result",
          "data": {
            "text/plain": [
              "134.73581597613875"
            ]
          },
          "metadata": {},
          "execution_count": 39
        }
      ]
    },
    {
      "cell_type": "code",
      "source": [
        "risultati = [] # questa lista mantiene i quattro risultati per ogni livello di produzione\n",
        "numero_simulazioni = 10000\n",
        "livelli_produzione = [80,90,100,120,140,180,200]\n",
        "for livello_produzione in livelli_produzione:\n",
        "  risultati_simulazione = [] # questa lista viene riempita dal loop for piu interno!\n",
        "  for i in range(0,numero_simulazioni):\n",
        "    risultato_simulazione_corrente = simulate(livello_produzione)\n",
        "    risultati_simulazione.append(risultato_simulazione_corrente)\n",
        "\n",
        "  risultato_livello_corrente = {\n",
        "      \"livello\": livello_produzione,\n",
        "      \"media_utile\": np.mean(risultati_simulazione)\n",
        "  }\n",
        "  risultati.append(risultato_livello_corrente)\n",
        "\n"
      ],
      "metadata": {
        "id": "3pdhcIzMwlLu"
      },
      "execution_count": 52,
      "outputs": []
    },
    {
      "cell_type": "code",
      "source": [
        "risultati"
      ],
      "metadata": {
        "colab": {
          "base_uri": "https://localhost:8080/"
        },
        "id": "B2fq6Qpy5Zsv",
        "outputId": "72aa3974-f8a6-4443-94b1-12d3496a3f9f"
      },
      "execution_count": 51,
      "outputs": [
        {
          "output_type": "execute_result",
          "data": {
            "text/plain": [
              "[{'livello': 80, 'media_utile': 121.40634992682065},\n",
              " {'livello': 100, 'media_utile': 137.71548032691695},\n",
              " {'livello': 120, 'media_utile': 141.0826351393782},\n",
              " {'livello': 140, 'media_utile': 135.04307740350475}]"
            ]
          },
          "metadata": {},
          "execution_count": 51
        }
      ]
    },
    {
      "cell_type": "code",
      "source": [
        "for r in risultati:\n",
        "  print(f\"Al livello di produzione {r['livello']} la media dell'utile è stata {r['media_utile']}\")"
      ],
      "metadata": {
        "colab": {
          "base_uri": "https://localhost:8080/"
        },
        "id": "ay1j74453IjL",
        "outputId": "fd814663-613c-4101-c3d5-569fd593cf67"
      },
      "execution_count": 48,
      "outputs": [
        {
          "output_type": "stream",
          "name": "stdout",
          "text": [
            "Al livello di produzione 80 la media dell'utile è stata 121.58044133909102\n",
            "Al livello di produzione 100 la media dell'utile è stata 138.67456890834248\n",
            "Al livello di produzione 120 la media dell'utile è stata 141.31522206266393\n",
            "Al livello di produzione 140 la media dell'utile è stata 135.3763257566985\n"
          ]
        }
      ]
    },
    {
      "cell_type": "code",
      "source": [
        "esempio_dizionario = {\n",
        "    \"nome\" : \"Mario\",\n",
        "    \"cognome\": \"Rossi\",\n",
        "    \"eta\": 25\n",
        "}\n",
        "print(esempio_dizionario)"
      ],
      "metadata": {
        "colab": {
          "base_uri": "https://localhost:8080/"
        },
        "id": "-DSS2oAd2UBz",
        "outputId": "e75ac231-226e-44c9-939c-c0c080db487c"
      },
      "execution_count": 40,
      "outputs": [
        {
          "output_type": "stream",
          "name": "stdout",
          "text": [
            "{'nome': 'Mario', 'cognome': 'Rossi', 'eta': 25}\n"
          ]
        }
      ]
    },
    {
      "cell_type": "code",
      "source": [
        "esempio_dizionario[\"nome\"]"
      ],
      "metadata": {
        "colab": {
          "base_uri": "https://localhost:8080/",
          "height": 35
        },
        "id": "MSWdcE_92sVj",
        "outputId": "04fadca6-feeb-4f09-c1a6-72b7a20aecc4"
      },
      "execution_count": 41,
      "outputs": [
        {
          "output_type": "execute_result",
          "data": {
            "text/plain": [
              "'Mario'"
            ],
            "application/vnd.google.colaboratory.intrinsic+json": {
              "type": "string"
            }
          },
          "metadata": {},
          "execution_count": 41
        }
      ]
    },
    {
      "cell_type": "code",
      "source": [],
      "metadata": {
        "id": "ctqatLyF2ej7"
      },
      "execution_count": null,
      "outputs": []
    }
  ]
}