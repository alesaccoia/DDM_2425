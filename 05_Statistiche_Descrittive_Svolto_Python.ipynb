{
 "cells": [
  {
   "cell_type": "markdown",
   "metadata": {},
   "source": [
    "[![Open In Colab](https://colab.research.google.com/assets/colab-badge.svg)](https://colab.research.google.com/github/alesaccoia/IULM_DDM2324_Notebooks/blob/main/EsercizioSvolto_Capitolo_02_Esercizio_3.ipynb)\n"
   ]
  },
  {
   "cell_type": "markdown",
   "metadata": {},
   "source": [
    "# Esercizio 2.4.3"
   ]
  },
  {
   "cell_type": "code",
   "execution_count": 2,
   "metadata": {},
   "outputs": [
    {
     "name": "stdout",
     "output_type": "stream",
     "text": [
      "Requirement already satisfied: pandas in /Users/alex/.pyenv/versions/3.11.8/lib/python3.11/site-packages (2.1.1)\n",
      "Collecting seaborn\n",
      "  Downloading seaborn-0.13.2-py3-none-any.whl.metadata (5.4 kB)\n",
      "Requirement already satisfied: matplotlib in /Users/alex/.pyenv/versions/3.11.8/lib/python3.11/site-packages (3.9.0)\n",
      "Requirement already satisfied: numpy>=1.23.2 in /Users/alex/.pyenv/versions/3.11.8/lib/python3.11/site-packages (from pandas) (1.24.3)\n",
      "Requirement already satisfied: python-dateutil>=2.8.2 in /Users/alex/.pyenv/versions/3.11.8/lib/python3.11/site-packages (from pandas) (2.9.0.post0)\n",
      "Requirement already satisfied: pytz>=2020.1 in /Users/alex/.pyenv/versions/3.11.8/lib/python3.11/site-packages (from pandas) (2022.7.1)\n",
      "Requirement already satisfied: tzdata>=2022.1 in /Users/alex/.pyenv/versions/3.11.8/lib/python3.11/site-packages (from pandas) (2024.1)\n",
      "Requirement already satisfied: contourpy>=1.0.1 in /Users/alex/.pyenv/versions/3.11.8/lib/python3.11/site-packages (from matplotlib) (1.2.1)\n",
      "Requirement already satisfied: cycler>=0.10 in /Users/alex/.pyenv/versions/3.11.8/lib/python3.11/site-packages (from matplotlib) (0.12.1)\n",
      "Requirement already satisfied: fonttools>=4.22.0 in /Users/alex/.pyenv/versions/3.11.8/lib/python3.11/site-packages (from matplotlib) (4.52.1)\n",
      "Requirement already satisfied: kiwisolver>=1.3.1 in /Users/alex/.pyenv/versions/3.11.8/lib/python3.11/site-packages (from matplotlib) (1.4.5)\n",
      "Requirement already satisfied: packaging>=20.0 in /Users/alex/.pyenv/versions/3.11.8/lib/python3.11/site-packages (from matplotlib) (23.2)\n",
      "Requirement already satisfied: pillow>=8 in /Users/alex/.pyenv/versions/3.11.8/lib/python3.11/site-packages (from matplotlib) (10.3.0)\n",
      "Requirement already satisfied: pyparsing>=2.3.1 in /Users/alex/.pyenv/versions/3.11.8/lib/python3.11/site-packages (from matplotlib) (3.1.2)\n",
      "Requirement already satisfied: six>=1.5 in /Users/alex/.pyenv/versions/3.11.8/lib/python3.11/site-packages (from python-dateutil>=2.8.2->pandas) (1.16.0)\n",
      "Downloading seaborn-0.13.2-py3-none-any.whl (294 kB)\n",
      "\u001b[2K   \u001b[90m━━━━━━━━━━━━━━━━━━━━━━━━━━━━━━━━━━━━━━━━\u001b[0m \u001b[32m294.9/294.9 kB\u001b[0m \u001b[31m6.5 MB/s\u001b[0m eta \u001b[36m0:00:00\u001b[0mta \u001b[36m0:00:01\u001b[0m\n",
      "\u001b[?25hInstalling collected packages: seaborn\n",
      "Successfully installed seaborn-0.13.2\n",
      "\n",
      "\u001b[1m[\u001b[0m\u001b[34;49mnotice\u001b[0m\u001b[1;39;49m]\u001b[0m\u001b[39;49m A new release of pip is available: \u001b[0m\u001b[31;49m24.0\u001b[0m\u001b[39;49m -> \u001b[0m\u001b[32;49m24.2\u001b[0m\n",
      "\u001b[1m[\u001b[0m\u001b[34;49mnotice\u001b[0m\u001b[1;39;49m]\u001b[0m\u001b[39;49m To update, run: \u001b[0m\u001b[32;49mpip install --upgrade pip\u001b[0m\n",
      "Note: you may need to restart the kernel to use updated packages.\n"
     ]
    }
   ],
   "source": [
    "!pip install pandas seaborn matplotlib"
   ]
  },
  {
   "cell_type": "code",
   "execution_count": 3,
   "metadata": {},
   "outputs": [],
   "source": [
    "import pandas as pd\n",
    "import matplotlib.pyplot as plt\n",
    "import seaborn as sns\n",
    "\n",
    "# Carica il file\n",
    "df = pd.read_excel(\"data/reddito_popolazione.xlsx\")\n"
   ]
  },
  {
   "cell_type": "markdown",
   "metadata": {},
   "source": [
    "1. Analisi di base"
   ]
  },
  {
   "cell_type": "code",
   "execution_count": 4,
   "metadata": {},
   "outputs": [
    {
     "data": {
      "text/plain": [
       "((940, 4),\n",
       " Eta            0\n",
       " Genere         0\n",
       " Reddito        0\n",
       " Provenienza    0\n",
       " dtype: int64)"
      ]
     },
     "execution_count": 4,
     "metadata": {},
     "output_type": "execute_result"
    }
   ],
   "source": [
    "# Numero di righe e colonne\n",
    "shape = df.shape\n",
    "\n",
    "# Controllo valori mancanti\n",
    "missing_values = df.isnull().sum()\n",
    "\n",
    "shape, missing_values\n"
   ]
  },
  {
   "cell_type": "markdown",
   "metadata": {},
   "source": [
    "2. Statistiche descrittive"
   ]
  },
  {
   "cell_type": "code",
   "execution_count": 5,
   "metadata": {},
   "outputs": [
    {
     "name": "stdout",
     "output_type": "stream",
     "text": [
      "Età media: 36.97021276595745\n",
      "Reddito mediano: 27.0\n",
      "Reddito minimo: 10\n",
      "Reddito massimo: 86\n"
     ]
    }
   ],
   "source": [
    "# Calcola l'età media, reddito mediano e reddito minimo e massimo\n",
    "average_age = df['Eta'].mean()\n",
    "median_income = df['Reddito'].median()\n",
    "min_income = df['Reddito'].min()\n",
    "max_income = df['Reddito'].max()\n",
    "\n",
    "print(f\"Età media: {average_age}\")\n",
    "print(f\"Reddito mediano: {median_income}\")\n",
    "print(f\"Reddito minimo: {min_income}\")\n",
    "print(f\"Reddito massimo: {max_income}\")"
   ]
  },
  {
   "cell_type": "markdown",
   "metadata": {},
   "source": [
    "3. Analisi per genere"
   ]
  },
  {
   "cell_type": "code",
   "execution_count": 6,
   "metadata": {},
   "outputs": [
    {
     "data": {
      "text/plain": [
       "(Genere\n",
       " m    750\n",
       " f    190\n",
       " Name: count, dtype: int64,\n",
       " Genere\n",
       " f    37.742105\n",
       " m    36.774667\n",
       " Name: Eta, dtype: float64,\n",
       " Genere\n",
       " f    27.357895\n",
       " m    28.338667\n",
       " Name: Reddito, dtype: float64)"
      ]
     },
     "execution_count": 6,
     "metadata": {},
     "output_type": "execute_result"
    }
   ],
   "source": [
    "# Numero di persone per genere\n",
    "gender_counts = df['Genere'].value_counts()\n",
    "\n",
    "# Età media per genere\n",
    "average_age_gender = df.groupby('Genere')['Eta'].mean()\n",
    "\n",
    "# Reddito medio per genere\n",
    "average_income_gender = df.groupby('Genere')['Reddito'].mean()\n",
    "\n",
    "gender_counts, average_age_gender, average_income_gender\n"
   ]
  },
  {
   "cell_type": "markdown",
   "metadata": {},
   "source": [
    "4. Analisi per provenienza"
   ]
  },
  {
   "cell_type": "code",
   "execution_count": 7,
   "metadata": {},
   "outputs": [
    {
     "data": {
      "text/plain": [
       "(Provenienza\n",
       " suburbano    437\n",
       " urbano       372\n",
       " rurale       131\n",
       " Name: count, dtype: int64,\n",
       " Provenienza\n",
       " rurale       37.709924\n",
       " suburbano    37.281465\n",
       " urbano       36.344086\n",
       " Name: Eta, dtype: float64,\n",
       " Provenienza\n",
       " rurale       28.053435\n",
       " suburbano    28.489703\n",
       " urbano       27.760753\n",
       " Name: Reddito, dtype: float64)"
      ]
     },
     "execution_count": 7,
     "metadata": {},
     "output_type": "execute_result"
    }
   ],
   "source": [
    "# Numero di persone per provenienza\n",
    "origin_counts = df['Provenienza'].value_counts()\n",
    "\n",
    "# Età media per provenienza\n",
    "average_age_origin = df.groupby('Provenienza')['Eta'].mean()\n",
    "\n",
    "# Reddito medio per provenienza\n",
    "average_income_origin = df.groupby('Provenienza')['Reddito'].mean()\n",
    "\n",
    "origin_counts, average_age_origin, average_income_origin\n"
   ]
  },
  {
   "cell_type": "markdown",
   "metadata": {},
   "source": [
    "Un'altro modo per fare più statistiche sugli stessi gruppi la si può fare utilizzando la funzione \"agg\""
   ]
  },
  {
   "cell_type": "code",
   "execution_count": 8,
   "metadata": {},
   "outputs": [
    {
     "data": {
      "text/plain": [
       "(Genere\n",
       " m    750\n",
       " f    190\n",
       " Name: count, dtype: int64,\n",
       "   Genere        Eta    Reddito\n",
       " 0      f  37.742105  27.357895\n",
       " 1      m  36.774667  28.338667)"
      ]
     },
     "execution_count": 8,
     "metadata": {},
     "output_type": "execute_result"
    }
   ],
   "source": [
    "# Calcola l'età media e il reddito medio per genere usando agg\n",
    "gender_analysis = df.groupby('Genere').agg({\n",
    "    'Eta': 'mean',\n",
    "    'Reddito': 'mean'\n",
    "}).reset_index()\n",
    "\n",
    "gender_counts, gender_analysis"
   ]
  },
  {
   "cell_type": "markdown",
   "metadata": {},
   "source": [
    "5. Combinazione genere e provenienza"
   ]
  },
  {
   "cell_type": "code",
   "execution_count": 9,
   "metadata": {},
   "outputs": [
    {
     "data": {
      "text/plain": [
       "(28.943661971830984, 38.35294117647059)"
      ]
     },
     "execution_count": 9,
     "metadata": {},
     "output_type": "execute_result"
    }
   ],
   "source": [
    "# Reddito medio delle donne provenienti da aree urbane\n",
    "urban_female_income = df[(df['Genere'] == 'f') & (df['Provenienza'] == 'urbano')]['Reddito'].mean()\n",
    "\n",
    "# Età media degli uomini provenienti da aree rurali\n",
    "rural_male_age = df[(df['Genere'] == 'm') & (df['Provenienza'] == 'rurale')]['Eta'].mean()\n",
    "\n",
    "urban_female_income, rural_male_age\n"
   ]
  },
  {
   "cell_type": "markdown",
   "metadata": {},
   "source": [
    "6. Filtri e ordinamento"
   ]
  },
  {
   "cell_type": "code",
   "execution_count": 10,
   "metadata": {},
   "outputs": [
    {
     "data": {
      "text/plain": [
       "(137,\n",
       "      Eta Genere  Reddito Provenienza\n",
       " 824   35      m       86   suburbano\n",
       " 564   25      f       80      urbano\n",
       " 883  113      m       68   suburbano\n",
       " 632   48      m       67   suburbano\n",
       " 431   42      m       67      rurale)"
      ]
     },
     "execution_count": 10,
     "metadata": {},
     "output_type": "execute_result"
    }
   ],
   "source": [
    "# Numero di persone con reddito > 20 e genere femminile\n",
    "high_income_females = df[(df['Reddito'] > 20) & (df['Genere'] == 'f')].shape[0] # oppure si può usare len()\n",
    "\n",
    "# Top 5 persone per reddito\n",
    "top5_income = df.sort_values(by='Reddito', ascending=False).head(5)\n",
    "\n",
    "high_income_females, top5_income\n"
   ]
  },
  {
   "cell_type": "markdown",
   "metadata": {},
   "source": [
    "7. Operazioni avanzate"
   ]
  },
  {
   "cell_type": "code",
   "execution_count": 11,
   "metadata": {},
   "outputs": [
    {
     "data": {
      "text/plain": [
       "(Categoria Età\n",
       " Adulto     421\n",
       " Giovane    385\n",
       " Anziano    134\n",
       " Name: count, dtype: int64,\n",
       " 27.934065934065934)"
      ]
     },
     "execution_count": 11,
     "metadata": {},
     "output_type": "execute_result"
    }
   ],
   "source": [
    "# Aggiungi una nuova colonna \"Categoria Età\"\n",
    "df['Categoria Età'] = pd.cut(df['Eta'], bins=[0, 30, 50, float('inf')], labels=['Giovane', 'Adulto', 'Anziano'])\n",
    "\n",
    "# Conta per categoria età\n",
    "age_category_counts = df['Categoria Età'].value_counts()\n",
    "\n",
    "# Reddito medio delle persone \"Giovane\" da aree suburbane\n",
    "young_suburban_income = df[(df['Categoria Età'] == 'Giovane') & (df['Provenienza'] == 'suburbano')]['Reddito'].mean()\n",
    "\n",
    "age_category_counts, young_suburban_income"
   ]
  },
  {
   "cell_type": "markdown",
   "metadata": {},
   "source": [
    "8. Visualizzazione dei dati"
   ]
  },
  {
   "cell_type": "code",
   "execution_count": 13,
   "metadata": {},
   "outputs": [
    {
     "data": {
      "image/png": "[encoded data removed]",
      "text/plain": [
       "<Figure size 640x480 with 1 Axes>"
      ]
     },
     "metadata": {},
     "output_type": "display_data"
    },
    {
     "data": {
      "image/png": "[encoded data removed]",
      "text/plain": [
       "<Figure size 640x480 with 1 Axes>"
      ]
     },
     "metadata": {},
     "output_type": "display_data"
    }
   ],
   "source": [
    "# Grafico a barre per provenienza\n",
    "sns.countplot(data=df, x='Provenienza')\n",
    "plt.show()\n",
    "\n",
    "# Boxplot per reddito per genere\n",
    "sns.boxplot(data=df, x='Categoria Età', y='Reddito')\n",
    "plt.show()\n"
   ]
  },
  {
   "cell_type": "code",
   "execution_count": null,
   "metadata": {},
   "outputs": [],
   "source": []
  }
 ],
 "metadata": {
  "kernelspec": {
   "display_name": "Python 3",
   "language": "python",
   "name": "python3"
  },
  "language_info": {
   "codemirror_mode": {
    "name": "ipython",
    "version": 3
   },
   "file_extension": ".py",
   "mimetype": "text/x-python",
   "name": "python",
   "nbconvert_exporter": "python",
   "pygments_lexer": "ipython3",
   "version": "3.11.8"
  },
  "orig_nbformat": 4
 },
 "nbformat": 4,
 "nbformat_minor": 2
}
