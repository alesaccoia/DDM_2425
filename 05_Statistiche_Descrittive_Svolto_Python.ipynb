{
 "cells": [
  {
   "cell_type": "markdown",
   "metadata": {},
   "source": [
    "[![Open In Colab](https://colab.research.google.com/assets/colab-badge.svg)](https://colab.research.google.com/github/alesaccoia/IULM_DDM2324_Notebooks/blob/main/EsercizioSvolto_Capitolo_02_Esercizio_3.ipynb)\n"
   ]
  },
  {
   "cell_type": "markdown",
   "metadata": {},
   "source": [
    "# Esercizio 2.4.3"
   ]
  },
  {
   "cell_type": "code",
   "execution_count": null,
   "metadata": {},
   "outputs": [],
   "source": [
    "import pandas as pd\n",
    "import matplotlib.pyplot as plt\n",
    "import seaborn as sns\n",
    "\n",
    "# Carica il file\n",
    "df = pd.read_excel(\"data/reddito_popolazione.xlsx\")\n"
   ]
  },
  {
   "cell_type": "markdown",
   "metadata": {},
   "source": [
    "1. Analisi di base"
   ]
  },
  {
   "cell_type": "code",
   "execution_count": null,
   "metadata": {},
   "outputs": [],
   "source": [
    "# Numero di righe e colonne\n",
    "shape = df.shape\n",
    "\n",
    "# Controllo valori mancanti\n",
    "missing_values = df.isnull().sum()\n",
    "\n",
    "shape, missing_values\n"
   ]
  },
  {
   "cell_type": "markdown",
   "metadata": {},
   "source": [
    "2. Statistiche descrittive"
   ]
  },
  {
   "cell_type": "code",
   "execution_count": null,
   "metadata": {},
   "outputs": [],
   "source": [
    "# Calcola l'età media, reddito mediano e reddito minimo e massimo\n",
    "average_age = df['Eta'].mean()\n",
    "median_income = df['Reddito'].median()\n",
    "min_income = df['Reddito'].min()\n",
    "max_income = df['Reddito'].max()\n",
    "\n",
    "print(f\"Età media: {average_age}\")\n",
    "print(f\"Reddito mediano: {median_income}\")\n",
    "print(f\"Reddito minimo: {min_income}\")\n",
    "print(f\"Reddito massimo: {max_income}\")"
   ]
  },
  {
   "cell_type": "markdown",
   "metadata": {},
   "source": [
    "3. Analisi per genere"
   ]
  },
  {
   "cell_type": "code",
   "execution_count": null,
   "metadata": {},
   "outputs": [],
   "source": [
    "# Numero di persone per genere\n",
    "gender_counts = df['Genere'].value_counts()\n",
    "\n",
    "# Età media per genere\n",
    "average_age_gender = df.groupby('Genere')['Eta'].mean()\n",
    "\n",
    "# Reddito medio per genere\n",
    "average_income_gender = df.groupby('Genere')['Reddito'].mean()\n",
    "\n",
    "gender_counts, average_age_gender, average_income_gender\n"
   ]
  },
  {
   "cell_type": "markdown",
   "metadata": {},
   "source": [
    "4. Analisi per provenienza"
   ]
  },
  {
   "cell_type": "code",
   "execution_count": null,
   "metadata": {},
   "outputs": [],
   "source": [
    "# Numero di persone per provenienza\n",
    "origin_counts = df['Provenienza'].value_counts()\n",
    "\n",
    "# Età media per provenienza\n",
    "average_age_origin = df.groupby('Provenienza')['Eta'].mean()\n",
    "\n",
    "# Reddito medio per provenienza\n",
    "average_income_origin = df.groupby('Provenienza')['Reddito'].mean()\n",
    "\n",
    "origin_counts, average_age_origin, average_income_origin\n"
   ]
  },
  {
   "cell_type": "markdown",
   "metadata": {},
   "source": [
    "Un'altro modo per fare più statistiche sugli stessi gruppi la si può fare utilizzando la funzione \"agg\""
   ]
  },
  {
   "cell_type": "code",
   "execution_count": null,
   "metadata": {},
   "outputs": [],
   "source": [
    "# Calcola l'età media e il reddito medio per genere usando agg\n",
    "gender_analysis = df.groupby('Genere').agg({\n",
    "    'Eta': 'mean',\n",
    "    'Reddito': 'mean'\n",
    "}).reset_index()\n",
    "\n",
    "gender_counts, gender_analysis"
   ]
  },
  {
   "cell_type": "markdown",
   "metadata": {},
   "source": [
    "5. Combinazione genere e provenienza"
   ]
  },
  {
   "cell_type": "code",
   "execution_count": null,
   "metadata": {},
   "outputs": [],
   "source": [
    "# Reddito medio delle donne provenienti da aree urbane\n",
    "urban_female_income = df[(df['Genere'] == 'f') & (df['Provenienza'] == 'urbano')]['Reddito'].mean()\n",
    "\n",
    "# Età media degli uomini provenienti da aree rurali\n",
    "rural_male_age = df[(df['Genere'] == 'm') & (df['Provenienza'] == 'rurale')]['Eta'].mean()\n",
    "\n",
    "urban_female_income, rural_male_age\n"
   ]
  },
  {
   "cell_type": "markdown",
   "metadata": {},
   "source": [
    "6. Filtri e ordinamento"
   ]
  },
  {
   "cell_type": "code",
   "execution_count": null,
   "metadata": {},
   "outputs": [],
   "source": [
    "# Numero di persone con reddito > 20 e genere femminile\n",
    "high_income_females = df[(df['Reddito'] > 20) & (df['Genere'] == 'f')].shape[0] # oppure si può usare len()\n",
    "\n",
    "# Top 5 persone per reddito\n",
    "top5_income = df.sort_values(by='Reddito', ascending=False).head(5)\n",
    "\n",
    "high_income_females, top5_income\n"
   ]
  },
  {
   "cell_type": "markdown",
   "metadata": {},
   "source": [
    "7. Operazioni avanzate"
   ]
  },
  {
   "cell_type": "code",
   "execution_count": null,
   "metadata": {},
   "outputs": [],
   "source": [
    "# Aggiungi una nuova colonna \"Categoria Età\"\n",
    "df['Categoria Età'] = pd.cut(df['Eta'], bins=[0, 30, 50, float('inf')], labels=['Giovane', 'Adulto', 'Anziano'])\n",
    "\n",
    "# Conta per categoria età\n",
    "age_category_counts = df['Categoria Età'].value_counts()\n",
    "\n",
    "# Reddito medio delle persone \"Giovane\" da aree suburbane\n",
    "young_suburban_income = df[(df['Categoria Età'] == 'Giovane') & (df['Provenienza'] == 'suburbano')]['Reddito'].mean()\n",
    "\n",
    "age_category_counts, young_suburban_income"
   ]
  },
  {
   "cell_type": "markdown",
   "metadata": {},
   "source": [
    "8. Visualizzazione dei dati"
   ]
  },
  {
   "cell_type": "code",
   "execution_count": null,
   "metadata": {},
   "outputs": [],
   "source": [
    "# Grafico a barre per provenienza\n",
    "sns.countplot(data=df, x='Provenienza')\n",
    "plt.show()\n",
    "\n",
    "# Boxplot per reddito per genere\n",
    "sns.boxplot(data=df, x='Genere', y='Reddito')\n",
    "plt.show()\n"
   ]
  }
 ],
 "metadata": {
  "kernelspec": {
   "display_name": "Python 3",
   "language": "python",
   "name": "python3"
  },
  "language_info": {
   "codemirror_mode": {
    "name": "ipython",
    "version": 3
   },
   "file_extension": ".py",
   "mimetype": "text/x-python",
   "name": "python",
   "nbconvert_exporter": "python",
   "pygments_lexer": "ipython3",
   "version": "3.9.17"
  },
  "orig_nbformat": 4
 },
 "nbformat": 4,
 "nbformat_minor": 2
}
