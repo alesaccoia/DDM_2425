{
  "nbformat": 4,
  "nbformat_minor": 0,
  "metadata": {
    "colab": {
      "provenance": [],
      "authorship_tag": "ABX9TyP9oQYILZHf9W4tM2XiiNxs",
      "include_colab_link": true
    },
    "kernelspec": {
      "name": "python3",
      "display_name": "Python 3"
    },
    "language_info": {
      "name": "python"
    }
  },
  "cells": [
    {
      "cell_type": "markdown",
      "metadata": {
        "id": "view-in-github",
        "colab_type": "text"
      },
      "source": [
        "<a href=\"https://colab.research.google.com/github/alesaccoia/DDM_2425/blob/main/AI_003_RAG_Gemini_API.ipynb\" target=\"_parent\"><img src=\"https://colab.research.google.com/assets/colab-badge.svg\" alt=\"Open In Colab\"/></a>"
      ]
    },
    {
      "cell_type": "markdown",
      "source": [
        "# Esempio di RAG e di generazione del testo con Gemini Flash"
      ],
      "metadata": {
        "id": "531uzERXqmIO"
      }
    },
    {
      "cell_type": "code",
      "execution_count": 1,
      "metadata": {
        "colab": {
          "base_uri": "https://localhost:8080/"
        },
        "id": "YC0zXkVOmIEs",
        "outputId": "433502c8-546f-4853-f4d1-6e7c39fc688d"
      },
      "outputs": [
        {
          "output_type": "stream",
          "name": "stderr",
          "text": [
            "/usr/local/lib/python3.10/dist-packages/sentence_transformers/cross_encoder/CrossEncoder.py:13: TqdmExperimentalWarning: Using `tqdm.autonotebook.tqdm` in notebook mode. Use `tqdm.tqdm` instead to force console mode (e.g. in jupyter console)\n",
            "  from tqdm.autonotebook import tqdm, trange\n"
          ]
        }
      ],
      "source": [
        "import numpy as np\n",
        "from sentence_transformers import SentenceTransformer\n",
        "from sklearn.metrics.pairwise import cosine_similarity\n",
        "import google.generativeai as genai\n",
        "import os\n",
        "\n",
        "# Knowledge base con frasi strutturate che menzionano sempre la regione\n",
        "knowledge_base = [\n",
        "    # Toscana\n",
        "    \"La bistecca alla fiorentina è un piatto tipico della regione Toscana\",\n",
        "    \"La ribollita è una zuppa tradizionale della regione Toscana\",\n",
        "    \"Il cacciucco è una zuppa di pesce originaria della città di Livorno, in Toscana\",\n",
        "    \"I cantucci sono biscotti alle mandorle tradizionali della regione Toscana\",\n",
        "    \"Il pecorino di Pienza è un formaggio DOP prodotto in Toscana\",\n",
        "    \"Il Brunello è un vino prodotto a Montalcino, in Toscana\",\n",
        "\n",
        "    # Sicilia\n",
        "    \"Gli arancini sono palle di riso ripiene tipiche della regione Sicilia\",\n",
        "    \"La pasta alla Norma è un piatto tradizionale della città di Catania, in Sicilia\",\n",
        "    \"I cannoli ripieni di ricotta sono dolci tipici della regione Sicilia\",\n",
        "    \"La caponata di melanzane è un contorno tradizionale della regione Sicilia\",\n",
        "    \"Il pistacchio di Bronte è coltivato in Sicilia ed è un prodotto DOP\",\n",
        "    \"La cassata è un dolce tradizionale della regione Sicilia\",\n",
        "\n",
        "    # Emilia-Romagna\n",
        "    \"I tortellini in brodo sono il piatto simbolo della città di Bologna, in Emilia-Romagna\",\n",
        "    \"Il Parmigiano Reggiano DOP è prodotto in Emilia-Romagna\",\n",
        "    \"La mortadella IGP è un salume tipico della città di Bologna, in Emilia-Romagna\",\n",
        "    \"I cappellacci di zucca sono un primo piatto tipico di Ferrara, in Emilia-Romagna\",\n",
        "    \"L'aceto balsamico tradizionale DOP è prodotto a Modena, in Emilia-Romagna\",\n",
        "    \"La piadina è una focaccia tipica della Romagna, in Emilia-Romagna\",\n",
        "\n",
        "    # Campania\n",
        "    \"La pizza Margherita è stata inventata a Napoli, in Campania\",\n",
        "    \"La mozzarella di bufala DOP è prodotta in Campania\",\n",
        "    \"Il babà al rum è un dolce tipico di Napoli, in Campania\",\n",
        "    \"La sfogliatella riccia è un dolce tradizionale di Napoli, in Campania\",\n",
        "    \"La pasta alla Genovese è un piatto tipico di Napoli, in Campania\",\n",
        "    \"Il limoncello è un liquore prodotto nella costiera amalfitana, in Campania\",\n",
        "\n",
        "    # Veneto\n",
        "    \"Il baccalà alla vicentina è un piatto tipico di Vicenza, in Veneto\",\n",
        "    \"Il risotto all'Amarone è un piatto della Valpolicella, in Veneto\",\n",
        "    \"Il tiramisù è un dolce originario della città di Treviso, in Veneto\",\n",
        "    \"I bigoli in salsa sono una pasta tipica di Venezia, in Veneto\",\n",
        "    \"Il fegato alla veneziana è un piatto tradizionale di Venezia, in Veneto\",\n",
        "    \"Il prosecco DOC è un vino prodotto in Veneto\",\n",
        "\n",
        "    # Piemonte\n",
        "    \"Il tartufo bianco d'Alba è un prodotto tipico del Piemonte\",\n",
        "    \"I tajarin sono tagliolini all'uovo tipici del Piemonte\",\n",
        "    \"Il brasato al Barolo è un secondo piatto tradizionale del Piemonte\",\n",
        "    \"Il gianduiotto è un cioccolatino nato a Torino, in Piemonte\",\n",
        "    \"La bagna càuda è una salsa tipica della tradizione piemontese\",\n",
        "    \"Il Barolo è un vino DOCG prodotto in Piemonte\"\n",
        "]\n",
        "\n",
        "class RAGSystem:\n",
        "    def __init__(self, api_key):\n",
        "        print(\"Inizializzazione del sistema RAG...\")\n",
        "        # Configurazione retrieval\n",
        "        self.model = SentenceTransformer('all-MiniLM-L6-v2')\n",
        "        self.sentences = knowledge_base\n",
        "        self.embeddings = self.model.encode(self.sentences)\n",
        "\n",
        "        # Configurazione Gemini\n",
        "        genai.configure(api_key=api_key)\n",
        "\n",
        "        # Configurazioni di generazione\n",
        "        generation_config = {\n",
        "            \"temperature\": 0.7,\n",
        "            \"max_output_tokens\": 2048,\n",
        "        }\n",
        "\n",
        "        # Configurazioni di sicurezza\n",
        "        safety_settings = [\n",
        "            {\"category\": \"HARM_CATEGORY_HARASSMENT\", \"threshold\": \"BLOCK_MEDIUM_AND_ABOVE\"},\n",
        "            {\"category\": \"HARM_CATEGORY_HATE_SPEECH\", \"threshold\": \"BLOCK_MEDIUM_AND_ABOVE\"},\n",
        "            {\"category\": \"HARM_CATEGORY_SEXUALLY_EXPLICIT\", \"threshold\": \"BLOCK_MEDIUM_AND_ABOVE\"},\n",
        "            {\"category\": \"HARM_CATEGORY_DANGEROUS_CONTENT\", \"threshold\": \"BLOCK_MEDIUM_AND_ABOVE\"},\n",
        "        ]\n",
        "\n",
        "        # Inizializzazione modello Gemini\n",
        "        self.llm = genai.GenerativeModel(\n",
        "            model_name=\"gemini-1.5-flash\",\n",
        "            generation_config=generation_config,\n",
        "            safety_settings=safety_settings\n",
        "        )\n",
        "\n",
        "        print(\"Sistema RAG inizializzato con successo!\")\n",
        "\n",
        "    def retrieve(self, query, k=3):\n",
        "        \"\"\"Recupera i k documenti più rilevanti\"\"\"\n",
        "        query_embedding = self.model.encode([query])\n",
        "        similarities = cosine_similarity(query_embedding, self.embeddings)[0]\n",
        "        top_k_indices = similarities.argsort()[-k:][::-1]\n",
        "\n",
        "        results = []\n",
        "        for idx in top_k_indices:\n",
        "            results.append({\n",
        "                'text': self.sentences[idx],\n",
        "                'similarity': similarities[idx]\n",
        "            })\n",
        "        return results\n",
        "\n",
        "    def generate(self, query, retrieved_docs):\n",
        "        \"\"\"Genera una risposta usando Gemini\"\"\"\n",
        "        # Costruisce il prompt con il contesto recuperato\n",
        "        context = \"\\n\".join([doc['text'] for doc in retrieved_docs])\n",
        "\n",
        "        prompt = f\"\"\"\n",
        "CONTESTO:\n",
        "{context}\n",
        "\n",
        "QUERY DELL'UTENTE:\n",
        "{query}\n",
        "\n",
        "ISTRUZIONI:\n",
        "Genera una risposta alla domanda dell'utente utilizzando ESCLUSIVAMENTE le informazioni fornite nel contesto sopra.\n",
        "Se alcune informazioni non sono presenti nel contesto, non inventarle.\n",
        "Fornisci una risposta chiara e ben strutturata.\n",
        "\"\"\"\n",
        "\n",
        "        # Genera la risposta\n",
        "        response = self.llm.generate_content(prompt)\n",
        "        return response.text\n",
        "\n",
        "    def query(self, user_query, k=3):\n",
        "        \"\"\"Processo RAG completo: retrieval + generation\"\"\"\n",
        "        print(\"1. Recupero documenti rilevanti...\")\n",
        "        retrieved_docs = self.retrieve(user_query, k)\n",
        "\n",
        "        print(\"2. Generazione risposta...\")\n",
        "        response = self.generate(user_query, retrieved_docs)\n",
        "\n",
        "        return {\n",
        "            'response': response,\n",
        "            'retrieved_docs': retrieved_docs\n",
        "        }\n",
        "\n",
        "def print_full_results(results):\n",
        "    \"\"\"Stampa i risultati completi del sistema RAG\"\"\"\n",
        "    print(\"\\nDocumenti recuperati:\")\n",
        "    print(\"-\" * 80)\n",
        "    for i, doc in enumerate(results['retrieved_docs'], 1):\n",
        "        print(f\"{i}. [Score: {doc['similarity']:.3f}] {doc['text']}\")\n",
        "\n",
        "    print(\"\\nRisposta generata:\")\n",
        "    print(\"-\" * 80)\n",
        "    print(results['response'])\n",
        "\n"
      ]
    },
    {
      "cell_type": "code",
      "source": [
        "\n",
        "# Assicurati di avere la tua API key in una variabile d'ambiente, la trovi su aistudio.google.com\n",
        "api_key = \"PASTEHEREYOURAPIKEY\"\n",
        "if not api_key:\n",
        "    raise ValueError(\"Please set GOOGLE_API_KEY environment variable\")\n",
        "\n",
        "# Inizializza il sistema\n",
        "rag = RAGSystem(api_key)\n",
        "\n"
      ],
      "metadata": {
        "colab": {
          "base_uri": "https://localhost:8080/"
        },
        "id": "F4hY80cio26a",
        "outputId": "7009da8c-9933-4715-c957-149f1fc17d58"
      },
      "execution_count": 2,
      "outputs": [
        {
          "output_type": "stream",
          "name": "stdout",
          "text": [
            "Inizializzazione del sistema RAG...\n"
          ]
        },
        {
          "output_type": "stream",
          "name": "stderr",
          "text": [
            "/usr/local/lib/python3.10/dist-packages/huggingface_hub/utils/_auth.py:94: UserWarning: \n",
            "The secret `HF_TOKEN` does not exist in your Colab secrets.\n",
            "To authenticate with the Hugging Face Hub, create a token in your settings tab (https://huggingface.co/settings/tokens), set it as secret in your Google Colab and restart your session.\n",
            "You will be able to reuse this secret in all of your notebooks.\n",
            "Please note that authentication is recommended but still optional to access public models or datasets.\n",
            "  warnings.warn(\n"
          ]
        },
        {
          "output_type": "stream",
          "name": "stdout",
          "text": [
            "Sistema RAG inizializzato con successo!\n"
          ]
        }
      ]
    },
    {
      "cell_type": "code",
      "source": [
        "# Esempi di query\n",
        "test_queries = [\n",
        "    \"Quali sono i piatti tipici di Napoli?\",\n",
        "    \"Dimmi dei prodotti DOP del Piemonte\",\n",
        "    \"Che dolci famosi ci sono in Sicilia?\",\n",
        "    \"Quali sono i piatti a base di pesce più famosi?\"\n",
        "]\n",
        "\n",
        "# Testa il sistema\n",
        "for query in test_queries:\n",
        "    print(f\"\\nQuery: '{query}'\")\n",
        "    print(\"-\" * 60)\n",
        "    results = rag.query(query)\n",
        "    print_full_results(results)"
      ],
      "metadata": {
        "colab": {
          "base_uri": "https://localhost:8080/",
          "height": 1000
        },
        "id": "rrgOLQHWph-_",
        "outputId": "b0bfb8e2-4e5c-42ac-9a82-904a97395ebb"
      },
      "execution_count": 3,
      "outputs": [
        {
          "output_type": "stream",
          "name": "stdout",
          "text": [
            "\n",
            "Query: 'Quali sono i piatti tipici di Napoli?'\n",
            "------------------------------------------------------------\n",
            "1. Recupero documenti rilevanti...\n",
            "2. Generazione risposta...\n",
            "\n",
            "Documenti recuperati:\n",
            "--------------------------------------------------------------------------------\n",
            "1. [Score: 0.794] La pasta alla Genovese è un piatto tipico di Napoli, in Campania\n",
            "2. [Score: 0.709] I cappellacci di zucca sono un primo piatto tipico di Ferrara, in Emilia-Romagna\n",
            "3. [Score: 0.708] Il babà al rum è un dolce tipico di Napoli, in Campania\n",
            "\n",
            "Risposta generata:\n",
            "--------------------------------------------------------------------------------\n",
            "A Napoli, in Campania, sono tipici la pasta alla Genovese e il babà al rum.\n",
            "\n",
            "\n",
            "Query: 'Dimmi dei prodotti DOP del Piemonte'\n",
            "------------------------------------------------------------\n",
            "1. Recupero documenti rilevanti...\n",
            "2. Generazione risposta...\n",
            "\n",
            "Documenti recuperati:\n",
            "--------------------------------------------------------------------------------\n",
            "1. [Score: 0.748] Il tartufo bianco d'Alba è un prodotto tipico del Piemonte\n",
            "2. [Score: 0.719] Il Barolo è un vino DOCG prodotto in Piemonte\n",
            "3. [Score: 0.685] Il pecorino di Pienza è un formaggio DOP prodotto in Toscana\n",
            "\n",
            "Risposta generata:\n",
            "--------------------------------------------------------------------------------\n",
            "Dal contesto fornito, sappiamo che il Barolo è un prodotto DOP (DOCG è una sottocategoria di DOP) del Piemonte.\n",
            "\n",
            "\n",
            "Query: 'Che dolci famosi ci sono in Sicilia?'\n",
            "------------------------------------------------------------\n",
            "1. Recupero documenti rilevanti...\n",
            "2. Generazione risposta...\n",
            "\n",
            "Documenti recuperati:\n",
            "--------------------------------------------------------------------------------\n",
            "1. [Score: 0.688] I cannoli ripieni di ricotta sono dolci tipici della regione Sicilia\n",
            "2. [Score: 0.627] La cassata è un dolce tradizionale della regione Sicilia\n",
            "3. [Score: 0.624] I cantucci sono biscotti alle mandorle tradizionali della regione Toscana\n",
            "\n",
            "Risposta generata:\n",
            "--------------------------------------------------------------------------------\n",
            "In Sicilia sono famosi i cannoli ripieni di ricotta e la cassata.\n",
            "\n",
            "\n",
            "Query: 'Quali sono i piatti a base di pesce più famosi?'\n",
            "------------------------------------------------------------\n",
            "1. Recupero documenti rilevanti...\n",
            "2. Generazione risposta...\n",
            "\n",
            "Documenti recuperati:\n",
            "--------------------------------------------------------------------------------\n",
            "1. [Score: 0.579] Il pecorino di Pienza è un formaggio DOP prodotto in Toscana\n",
            "2. [Score: 0.574] Il pistacchio di Bronte è coltivato in Sicilia ed è un prodotto DOP\n",
            "3. [Score: 0.529] La pasta alla Genovese è un piatto tipico di Napoli, in Campania\n",
            "\n",
            "Risposta generata:\n",
            "--------------------------------------------------------------------------------\n",
            "Il contesto fornito non contiene informazioni sui piatti a base di pesce più famosi.\n",
            "\n"
          ]
        }
      ]
    },
    {
      "cell_type": "markdown",
      "source": [
        "Proviamo anche una query \"out of context\""
      ],
      "metadata": {
        "id": "IgtrBDaPpYsQ"
      }
    },
    {
      "cell_type": "code",
      "source": [
        "result = rag.query(\"Come si chiamava il padre di Giuseppe Garibaldi?\")\n",
        "print(result['response'])"
      ],
      "metadata": {
        "colab": {
          "base_uri": "https://localhost:8080/",
          "height": 86
        },
        "id": "iqC8dW1WpV-m",
        "outputId": "47e1287b-8be8-4981-d407-eab888128223"
      },
      "execution_count": 7,
      "outputs": [
        {
          "output_type": "stream",
          "name": "stdout",
          "text": [
            "1. Recupero documenti rilevanti...\n",
            "2. Generazione risposta...\n",
            "Il contesto fornito non contiene informazioni sul padre di Giuseppe Garibaldi.\n",
            "\n"
          ]
        }
      ]
    },
    {
      "cell_type": "code",
      "source": [],
      "metadata": {
        "id": "TuLnRcB5qWlp"
      },
      "execution_count": null,
      "outputs": []
    }
  ]
}
