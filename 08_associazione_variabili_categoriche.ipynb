{
  "cells": [
    {
      "cell_type": "markdown",
      "metadata": {
        "id": "R5Nbe1_9BhNw"
      },
      "source": [
        "[![Open In Colab](https://colab.research.google.com/assets/colab-badge.svg)](https://colab.research.google.com/github/alesaccoia/DDM_2425/blob/main/08_associazione_variabili_categoriche.ipynb)"
      ]
    },
    {
      "cell_type": "markdown",
      "metadata": {
        "id": "eIHHppmYBhNz"
      },
      "source": [
        "# Misurare l'associazione fra variabili categoriche"
      ]
    },
    {
      "cell_type": "code",
      "execution_count": 1,
      "metadata": {
        "colab": {
          "base_uri": "https://localhost:8080/"
        },
        "id": "g5-l_FkHBhN0",
        "outputId": "29e318e1-c8b0-4ae8-ae5d-5c516b741e50"
      },
      "outputs": [],
      "source": [
        "import pandas as pd\n",
        "import numpy as np\n",
        "from scipy.stats import chi2_contingency\n",
        "from scipy.stats.contingency import margins\n",
        "\n",
        "# Carico i dati dal file Excel, specificando quale worksheet\n",
        "df = pd.read_excel(\"https://github.com/alesaccoia/DDM_2425/raw/main/data/chisquare_preferenza_genere_prodotto.xlsx\", sheet_name=\"Data\")\n"
      ]
    },
    {
      "cell_type": "markdown",
      "metadata": {
        "id": "_KWT2kQkBhN1"
      },
      "source": [
        "## Tabella di contingenza"
      ]
    },
    {
      "cell_type": "code",
      "execution_count": 2,
      "metadata": {
        "colab": {
          "base_uri": "https://localhost:8080/"
        },
        "id": "1kLlSYBDBhN1",
        "outputId": "4f02c338-e4eb-49c7-a54b-2b2890a05a6a"
      },
      "outputs": [
        {
          "name": "stdout",
          "output_type": "stream",
          "text": [
            "productid    1     2    3  Totale\n",
            "gender                           \n",
            "1          495   590  272    1357\n",
            "2          330   498  265    1093\n",
            "Totale     825  1088  537    2450\n"
          ]
        }
      ],
      "source": [
        "# Tabelle di contingenza:\n",
        "contingency_table = pd.crosstab(df['gender'], df['productid'], margins=True, margins_name=\"Totale\")\n",
        "print(contingency_table)"
      ]
    },
    {
      "cell_type": "markdown",
      "metadata": {
        "id": "rAMKckLJBhN2"
      },
      "source": [
        "## Probabilità Marginale\n",
        "È la probabilità di un singolo evento senza considerare l'effetto di un altro evento. Si tratta essenzialmente della probabilità \"a margine\" di un evento particolare, quindi senza condizionarlo su un altro.\n",
        "Ad esempio, considera una tabella di contingenza tra Genere (Maschio/Femmina) e Prodotto (1/2/3). La probabilità marginale che una persona scelta a caso sia un maschio (indipendentemente dal fatto che fumi o meno) si calcola sommando tutte le osservazioni dei maschi e dividendo per il totale delle osservazioni."
      ]
    },
    {
      "cell_type": "code",
      "execution_count": 3,
      "metadata": {
        "colab": {
          "base_uri": "https://localhost:8080/"
        },
        "id": "oqyQBcRvBhN2",
        "outputId": "e19f6860-6537-41e7-ee56-b673993f7c43"
      },
      "outputs": [
        {
          "name": "stdout",
          "output_type": "stream",
          "text": [
            "\n",
            "Probabilità marginale di genere:\n",
            " gender\n",
            "1    0.553878\n",
            "2    0.446122\n",
            "Name: count, dtype: float64\n",
            "\n",
            "Probabilità marginale di prodotto scelto:\n",
            " productid\n",
            "2    0.444082\n",
            "1    0.336735\n",
            "3    0.219184\n",
            "Name: count, dtype: float64\n"
          ]
        }
      ],
      "source": [
        "# Probabilità marginale:\n",
        "prob_gender = df['gender'].value_counts() / len(df)\n",
        "prob_productid = df['productid'].value_counts() / len(df)\n",
        "print(\"\\nProbabilità marginale di genere:\\n\", prob_gender)\n",
        "print(\"\\nProbabilità marginale di prodotto scelto:\\n\", prob_productid)"
      ]
    },
    {
      "cell_type": "markdown",
      "metadata": {
        "id": "nQOogKf_BhN3"
      },
      "source": [
        "# Test del chi-quadrato"
      ]
    },
    {
      "cell_type": "code",
      "execution_count": 5,
      "metadata": {
        "id": "p3T9IjVoBhN3"
      },
      "outputs": [
        {
          "data": {
            "text/html": [
              "<div>\n",
              "<style scoped>\n",
              "    .dataframe tbody tr th:only-of-type {\n",
              "        vertical-align: middle;\n",
              "    }\n",
              "\n",
              "    .dataframe tbody tr th {\n",
              "        vertical-align: top;\n",
              "    }\n",
              "\n",
              "    .dataframe thead th {\n",
              "        text-align: right;\n",
              "    }\n",
              "</style>\n",
              "<table border=\"1\" class=\"dataframe\">\n",
              "  <thead>\n",
              "    <tr style=\"text-align: right;\">\n",
              "      <th>productid</th>\n",
              "      <th>1</th>\n",
              "      <th>2</th>\n",
              "      <th>3</th>\n",
              "    </tr>\n",
              "    <tr>\n",
              "      <th>gender</th>\n",
              "      <th></th>\n",
              "      <th></th>\n",
              "      <th></th>\n",
              "    </tr>\n",
              "  </thead>\n",
              "  <tbody>\n",
              "    <tr>\n",
              "      <th>1</th>\n",
              "      <td>495</td>\n",
              "      <td>590</td>\n",
              "      <td>272</td>\n",
              "    </tr>\n",
              "    <tr>\n",
              "      <th>2</th>\n",
              "      <td>330</td>\n",
              "      <td>498</td>\n",
              "      <td>265</td>\n",
              "    </tr>\n",
              "  </tbody>\n",
              "</table>\n",
              "</div>"
            ],
            "text/plain": [
              "productid    1    2    3\n",
              "gender                  \n",
              "1          495  590  272\n",
              "2          330  498  265"
            ]
          },
          "execution_count": 5,
          "metadata": {},
          "output_type": "execute_result"
        }
      ],
      "source": [
        "# Ricalcolo la tabelle di contingenza SENZA MARGINI\n",
        "contingency_table = pd.crosstab(df['gender'], df['productid'])\n",
        "contingency_table"
      ]
    },
    {
      "cell_type": "code",
      "execution_count": 6,
      "metadata": {
        "colab": {
          "base_uri": "https://localhost:8080/"
        },
        "id": "b9uyALSrBhN3",
        "outputId": "d640f373-e818-462c-90da-a2d7ccdb06dc"
      },
      "outputs": [
        {
          "name": "stdout",
          "output_type": "stream",
          "text": [
            "\n",
            "Valore chi2: 12.569256167968339\n",
            "P-value: 0.0018647503713553623\n",
            "\n",
            "Tabella delle frequenze attese:\n",
            " productid          1           2           3\n",
            "gender                                      \n",
            "1          456.94898  602.618776  297.432245\n",
            "2          368.05102  485.381224  239.567755\n"
          ]
        }
      ],
      "source": [
        "# Test chi square: utilizzo i -1 per non prendere l'ultima riga e l'ultima colonna\n",
        "chi2, p, _, expected = chi2_contingency(contingency_table)\n",
        "\n",
        "print(\"\\nValore chi2:\", chi2)\n",
        "print(\"P-value:\", p)\n",
        "print(\"\\nTabella delle frequenze attese:\\n\", pd.DataFrame(expected, columns=contingency_table.columns, index=contingency_table.index))\n"
      ]
    },
    {
      "cell_type": "markdown",
      "metadata": {
        "id": "iVL0kvQ-BhN3"
      },
      "source": [
        "## Lo Scostamento Percentuale\n",
        "\n",
        "Calcoliamo quindi Lo Scostamento Percentuale tra Frequenza Osservata e Attesa"
      ]
    },
    {
      "cell_type": "code",
      "execution_count": 7,
      "metadata": {
        "colab": {
          "base_uri": "https://localhost:8080/"
        },
        "id": "0U2vKocfBhN3",
        "outputId": "1a09c665-7e70-42a5-82de-cb0403b912c8"
      },
      "outputs": [
        {
          "name": "stdout",
          "output_type": "stream",
          "text": [
            "[[  8.32719234  -2.09398977  -8.55060113]\n",
            " [-10.33851784   2.59976589  10.61588814]]\n"
          ]
        }
      ],
      "source": [
        "print(100.0 * (contingency_table.values - expected) / expected)"
      ]
    },
    {
      "cell_type": "code",
      "execution_count": null,
      "metadata": {},
      "outputs": [],
      "source": []
    }
  ],
  "metadata": {
    "colab": {
      "provenance": []
    },
    "kernelspec": {
      "display_name": "Python 3",
      "language": "python",
      "name": "python3"
    },
    "language_info": {
      "codemirror_mode": {
        "name": "ipython",
        "version": 3
      },
      "file_extension": ".py",
      "mimetype": "text/x-python",
      "name": "python",
      "nbconvert_exporter": "python",
      "pygments_lexer": "ipython3",
      "version": "3.11.8"
    },
    "orig_nbformat": 4
  },
  "nbformat": 4,
  "nbformat_minor": 0
}
