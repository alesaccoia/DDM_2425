{
  "nbformat": 4,
  "nbformat_minor": 0,
  "metadata": {
    "colab": {
      "provenance": [],
      "authorship_tag": "ABX9TyM9hsyCnMsz4KXvy2QMtjMZ",
      "include_colab_link": true
    },
    "kernelspec": {
      "name": "python3",
      "display_name": "Python 3"
    },
    "language_info": {
      "name": "python"
    }
  },
  "cells": [
    {
      "cell_type": "markdown",
      "metadata": {
        "id": "view-in-github",
        "colab_type": "text"
      },
      "source": [
        "<a href=\"https://colab.research.google.com/github/alesaccoia/DDM_2425/blob/main/AI_003_Retrieval_ed_Embeddings%2C.ipynb\" target=\"_parent\"><img src=\"https://colab.research.google.com/assets/colab-badge.svg\" alt=\"Open In Colab\"/></a>"
      ]
    },
    {
      "cell_type": "markdown",
      "source": [
        "# Retrieval ed Embeddings"
      ],
      "metadata": {
        "id": "hXXMOyT0itqP"
      }
    },
    {
      "cell_type": "code",
      "execution_count": 1,
      "metadata": {
        "colab": {
          "base_uri": "https://localhost:8080/"
        },
        "id": "rl-IR7rLhm7T",
        "outputId": "9c122a1d-7662-4e7d-82a4-2976d68bfddb"
      },
      "outputs": [
        {
          "output_type": "stream",
          "name": "stderr",
          "text": [
            "/usr/local/lib/python3.10/dist-packages/sentence_transformers/cross_encoder/CrossEncoder.py:13: TqdmExperimentalWarning: Using `tqdm.autonotebook.tqdm` in notebook mode. Use `tqdm.tqdm` instead to force console mode (e.g. in jupyter console)\n",
            "  from tqdm.autonotebook import tqdm, trange\n"
          ]
        }
      ],
      "source": [
        "import numpy as np\n",
        "from sentence_transformers import SentenceTransformer\n",
        "from sklearn.metrics.pairwise import cosine_similarity\n",
        "\n",
        "# Knowledge base con frasi strutturate che menzionano sempre la regione\n",
        "knowledge_base = [\n",
        "    # Toscana\n",
        "    \"La bistecca alla fiorentina è un piatto tipico della regione Toscana\",\n",
        "    \"La ribollita è una zuppa tradizionale della regione Toscana\",\n",
        "    \"Il cacciucco è una zuppa di pesce originaria della città di Livorno, in Toscana\",\n",
        "    \"I cantucci sono biscotti alle mandorle tradizionali della regione Toscana\",\n",
        "    \"Il pecorino di Pienza è un formaggio DOP prodotto in Toscana\",\n",
        "    \"Il Brunello è un vino prodotto a Montalcino, in Toscana\",\n",
        "\n",
        "    # Sicilia\n",
        "    \"Gli arancini sono palle di riso ripiene tipiche della regione Sicilia\",\n",
        "    \"La pasta alla Norma è un piatto tradizionale della città di Catania, in Sicilia\",\n",
        "    \"I cannoli ripieni di ricotta sono dolci tipici della regione Sicilia\",\n",
        "    \"La caponata di melanzane è un contorno tradizionale della regione Sicilia\",\n",
        "    \"Il pistacchio di Bronte è coltivato in Sicilia ed è un prodotto DOP\",\n",
        "    \"La cassata è un dolce tradizionale della regione Sicilia\",\n",
        "\n",
        "    # Emilia-Romagna\n",
        "    \"I tortellini in brodo sono il piatto simbolo della città di Bologna, in Emilia-Romagna\",\n",
        "    \"Il Parmigiano Reggiano DOP è prodotto in Emilia-Romagna\",\n",
        "    \"La mortadella IGP è un salume tipico della città di Bologna, in Emilia-Romagna\",\n",
        "    \"I cappellacci di zucca sono un primo piatto tipico di Ferrara, in Emilia-Romagna\",\n",
        "    \"L'aceto balsamico tradizionale DOP è prodotto a Modena, in Emilia-Romagna\",\n",
        "    \"La piadina è una focaccia tipica della Romagna, in Emilia-Romagna\",\n",
        "\n",
        "    # Campania\n",
        "    \"La pizza Margherita è stata inventata a Napoli, in Campania\",\n",
        "    \"La mozzarella di bufala DOP è prodotta in Campania\",\n",
        "    \"Il babà al rum è un dolce tipico di Napoli, in Campania\",\n",
        "    \"La sfogliatella riccia è un dolce tradizionale di Napoli, in Campania\",\n",
        "    \"La pasta alla Genovese è un piatto tipico di Napoli, in Campania\",\n",
        "    \"Il limoncello è un liquore prodotto nella costiera amalfitana, in Campania\",\n",
        "\n",
        "    # Veneto\n",
        "    \"Il baccalà alla vicentina è un piatto tipico di Vicenza, in Veneto\",\n",
        "    \"Il risotto all'Amarone è un piatto della Valpolicella, in Veneto\",\n",
        "    \"Il tiramisù è un dolce originario della città di Treviso, in Veneto\",\n",
        "    \"I bigoli in salsa sono una pasta tipica di Venezia, in Veneto\",\n",
        "    \"Il fegato alla veneziana è un piatto tradizionale di Venezia, in Veneto\",\n",
        "    \"Il prosecco DOC è un vino prodotto in Veneto\",\n",
        "\n",
        "    # Piemonte\n",
        "    \"Il tartufo bianco d'Alba è un prodotto tipico del Piemonte\",\n",
        "    \"I tajarin sono tagliolini all'uovo tipici del Piemonte\",\n",
        "    \"Il brasato al Barolo è un secondo piatto tradizionale del Piemonte\",\n",
        "    \"Il gianduiotto è un cioccolatino nato a Torino, in Piemonte\",\n",
        "    \"La bagna càuda è una salsa tipica della tradizione piemontese\",\n",
        "    \"Il Barolo è un vino DOCG prodotto in Piemonte\"\n",
        "]\n",
        "\n"
      ]
    },
    {
      "cell_type": "code",
      "source": [
        "\n",
        "class DenseRetrieval:\n",
        "    def __init__(self, sentences):\n",
        "        print(\"Inizializzazione del sistema di retrieval...\")\n",
        "        self.sentences = sentences\n",
        "        self.model = SentenceTransformer('all-MiniLM-L6-v2')\n",
        "        # Pre-calcola gli embedding per tutte le frasi\n",
        "        self.embeddings = self.model.encode(sentences)\n",
        "        print(f\"Sistema inizializzato con {len(sentences)} frasi nella knowledge base\")\n",
        "\n",
        "    def search(self, query, k=3):\n",
        "        \"\"\"\n",
        "        Cerca le k frasi più rilevanti per la query\n",
        "        \"\"\"\n",
        "        # Calcola l'embedding della query\n",
        "        query_embedding = self.model.encode([query])\n",
        "\n",
        "        # Calcola similarità del coseno\n",
        "        similarities = cosine_similarity(query_embedding, self.embeddings)[0]\n",
        "\n",
        "        # Trova i k risultati migliori\n",
        "        top_k_indices = similarities.argsort()[-k:][::-1]\n",
        "\n",
        "        results = []\n",
        "        for idx in top_k_indices:\n",
        "            results.append({\n",
        "                'text': self.sentences[idx],\n",
        "                'similarity': similarities[idx]\n",
        "            })\n",
        "\n",
        "        return results\n"
      ],
      "metadata": {
        "id": "n0GXd4hPhn-l"
      },
      "execution_count": 2,
      "outputs": []
    },
    {
      "cell_type": "code",
      "source": [
        "def demo_ricerca(retriever, query, k=3):\n",
        "    \"\"\"Funzione dimostrativa per testare il retrieval\"\"\"\n",
        "    print(f\"\\nQuery: '{query}'\")\n",
        "    print(\"-\" * 60)\n",
        "\n",
        "    results = retriever.search(query, k=k)\n",
        "\n",
        "    for i, result in enumerate(results, 1):\n",
        "        print(f\"{i}. [Score: {result['similarity']:.3f}] {result['text']}\")\n",
        "\n"
      ],
      "metadata": {
        "id": "Jh7HpDt-hsoc"
      },
      "execution_count": 4,
      "outputs": []
    },
    {
      "cell_type": "code",
      "source": [
        "retriever = DenseRetrieval(knowledge_base)\n",
        "\n",
        "# Esempi di query per testare il sistema\n",
        "queries = [\n",
        "    \"Cosa si mangia a Napoli?\",\n",
        "    \"Quali sono i prodotti tipici del Piemonte?\",\n",
        "    \"Dimmi dei piatti con il pesce\",\n",
        "    \"Quali sono i dolci più famosi?\",\n",
        "    \"Cosa producono a Modena?\"\n",
        "]\n",
        "\n",
        "# Testa ogni query\n",
        "for query in queries:\n",
        "    demo_ricerca(retriever, query, k=3)"
      ],
      "metadata": {
        "colab": {
          "base_uri": "https://localhost:8080/"
        },
        "id": "LioQt_Nvhxot",
        "outputId": "9cada0e8-0ce1-4026-e879-30c6fd342739"
      },
      "execution_count": 5,
      "outputs": [
        {
          "output_type": "stream",
          "name": "stdout",
          "text": [
            "Inizializzazione del sistema di retrieval...\n",
            "Sistema inizializzato con 36 frasi nella knowledge base\n",
            "\n",
            "Query: 'Cosa si mangia a Napoli?'\n",
            "------------------------------------------------------------\n",
            "1. [Score: 0.691] La pasta alla Genovese è un piatto tipico di Napoli, in Campania\n",
            "2. [Score: 0.687] La sfogliatella riccia è un dolce tradizionale di Napoli, in Campania\n",
            "3. [Score: 0.664] La pizza Margherita è stata inventata a Napoli, in Campania\n",
            "\n",
            "Query: 'Quali sono i prodotti tipici del Piemonte?'\n",
            "------------------------------------------------------------\n",
            "1. [Score: 0.788] Il tartufo bianco d'Alba è un prodotto tipico del Piemonte\n",
            "2. [Score: 0.745] I tajarin sono tagliolini all'uovo tipici del Piemonte\n",
            "3. [Score: 0.691] Il Barolo è un vino DOCG prodotto in Piemonte\n",
            "\n",
            "Query: 'Dimmi dei piatti con il pesce'\n",
            "------------------------------------------------------------\n",
            "1. [Score: 0.624] Il pecorino di Pienza è un formaggio DOP prodotto in Toscana\n",
            "2. [Score: 0.623] La pasta alla Genovese è un piatto tipico di Napoli, in Campania\n",
            "3. [Score: 0.617] Il Barolo è un vino DOCG prodotto in Piemonte\n",
            "\n",
            "Query: 'Quali sono i dolci più famosi?'\n",
            "------------------------------------------------------------\n",
            "1. [Score: 0.564] I bigoli in salsa sono una pasta tipica di Venezia, in Veneto\n",
            "2. [Score: 0.532] I tajarin sono tagliolini all'uovo tipici del Piemonte\n",
            "3. [Score: 0.530] Il pistacchio di Bronte è coltivato in Sicilia ed è un prodotto DOP\n",
            "\n",
            "Query: 'Cosa producono a Modena?'\n",
            "------------------------------------------------------------\n",
            "1. [Score: 0.510] L'aceto balsamico tradizionale DOP è prodotto a Modena, in Emilia-Romagna\n",
            "2. [Score: 0.408] La mozzarella di bufala DOP è prodotta in Campania\n",
            "3. [Score: 0.372] Il prosecco DOC è un vino prodotto in Veneto\n"
          ]
        }
      ]
    },
    {
      "cell_type": "markdown",
      "source": [
        "Analizziamo i risultati:\n",
        "\n",
        "Le query con riferimenti geografici espliciti funzionano molto bene:\n",
        "\n",
        "* \"Cosa si mangia a Napoli?\" → trova correttamente tre piatti napoletani\n",
        "* \"Quali sono i prodotti tipici del Piemonte?\" → trova correttamente tre specialità piemontesi\n",
        "\n",
        "Questo succede perché il modello di embedding è molto bravo a catturare le relazioni tra nomi di luoghi e il loro contesto: l'associazione \"Napoli-Campania\" o \"Piemonte-Alba\" è fortemente presente nei dati di training.\n",
        "\n",
        "Le query generiche o con concetti semantici più astratti funzionano male:\n",
        "* \"Dimmi dei piatti con il pesce\" → non trova il cacciucco (che è una zuppa di pesce!) ma trova erroneamente pecorino, pasta alla genovese e vino\n",
        "* \"Quali sono i dolci più famosi?\" → non trova né cannoli, né babà, né tiramisù, ma trova erroneamente paste e pistacchio\n",
        "* \"Cosa producono a Modena?\" → trova correttamente l'aceto balsamico ma poi suggerisce prodotti di altre regioni\n",
        "\n",
        "Questo accade per diverse ragioni:\n",
        "\n",
        "* Il modello non ha una vera comprensione delle categorie (non \"sa\" davvero cosa è un dolce o cosa contiene pesce)\n",
        "* Non è in grado di fare inferenze logiche (non \"capisce\" che una zuppa di pesce è un piatto di pesce)\n",
        "* Si basa principalmente sulla similarità delle parole e del contesto in cui appaiono nei dati di training\n",
        "\n",
        "Per migliorare questi risultati potremmo:\n",
        "\n",
        "* Strutturare meglio le frasi includendo categorie esplicite: \"Il cacciucco è un piatto a base di pesce tipico...\"\n",
        "* Usare un approccio ibrido con keyword matching per termini specifici come \"dolce\", \"pesce\", etc.\n",
        "Aggiungere metadati o tag alle frasi per permettere filtri più precisi"
      ],
      "metadata": {
        "id": "kau2Vq1siaZH"
      }
    },
    {
      "cell_type": "code",
      "source": [],
      "metadata": {
        "id": "C47w4i8Bhyk4"
      },
      "execution_count": null,
      "outputs": []
    }
  ]
}