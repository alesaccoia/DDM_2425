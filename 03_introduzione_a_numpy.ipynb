{
  "cells": [
    {
      "cell_type": "markdown",
      "metadata": {
        "id": "TGWzX7clNR_t"
      },
      "source": [
        "[![Open In Colab](https://colab.research.google.com/assets/colab-badge.svg)](https://colab.research.google.com/github/LeoLin72/IULM_DDM2324_Notebooks/blob/main/03_introduzione_a_numpy.ipynb)"
      ]
    },
    {
      "cell_type": "markdown",
      "metadata": {
        "id": "SKKW1n-uNR_v"
      },
      "source": [
        "# Introduzione a Numpy\n",
        "numpy è una delle librerie più fondamentali per la computazione scientifica in Python. Offre supporto per array (inclusi array multidimensionali), oltre a una vasta gamma di funzioni matematiche per operare su questi array. Con numpy, diventa facile e veloce effettuare operazioni come addizioni, moltiplicazioni e trasformazioni su grandi quantità di dati.\n",
        "\n",
        "##Installazione e Importazione\n",
        "Prima di utilizzare numpy, è necessario installarlo:"
      ]
    },
    {
      "cell_type": "code",
      "execution_count": 1,
      "metadata": {
        "colab": {
          "base_uri": "https://localhost:8080/"
        },
        "id": "clWBZem0NR_v",
        "outputId": "0cdcbdc6-9440-466d-bd7b-ed3d175a5825"
      },
      "outputs": [
        {
          "output_type": "stream",
          "name": "stdout",
          "text": [
            "Requirement already satisfied: numpy in /usr/local/lib/python3.10/dist-packages (1.25.2)\n"
          ]
        }
      ],
      "source": [
        "!pip install numpy"
      ]
    },
    {
      "cell_type": "markdown",
      "metadata": {
        "id": "4RLjbQXHNR_w"
      },
      "source": [
        "Una volta installato, puoi importarlo nel tuo script o notebook:"
      ]
    },
    {
      "cell_type": "code",
      "execution_count": 2,
      "metadata": {
        "id": "iX6UBEXpNR_w"
      },
      "outputs": [],
      "source": [
        "import numpy as np"
      ]
    },
    {
      "cell_type": "markdown",
      "metadata": {
        "id": "6pWY6noDNR_x"
      },
      "source": [
        "Qui, np è un alias comune utilizzato per numpy.\n",
        "\n",
        "## Creazione di Array\n",
        "Un array è una collezione di elementi, tutti dello stesso tipo, indicizzati da una tupla di interi non negativi. Ecco come puoi creare array usando numpy:"
      ]
    },
    {
      "cell_type": "code",
      "execution_count": 3,
      "metadata": {
        "colab": {
          "base_uri": "https://localhost:8080/"
        },
        "id": "3rAXEgPaNR_x",
        "outputId": "73e07a3e-3174-4ccc-cba9-23b94cbbd309"
      },
      "outputs": [
        {
          "output_type": "stream",
          "name": "stdout",
          "text": [
            "[1 2 3 4]\n",
            "[[1 2]\n",
            " [3 4]\n",
            " [5 6]]\n"
          ]
        }
      ],
      "source": [
        "# Array monodimensionale\n",
        "array_1d = np.array([1, 2, 3, 4])\n",
        "print(array_1d)\n",
        "\n",
        "# Array bidimensionale (matrice)\n",
        "array_2d = np.array([[1, 2], [3, 4], [5, 6]])\n",
        "print(array_2d)"
      ]
    },
    {
      "cell_type": "markdown",
      "metadata": {
        "id": "_5u7PQVsNR_x"
      },
      "source": [
        "## Operazioni Matematiche\n",
        "Con numpy, puoi eseguire operazioni elemento per elemento sugli array, come addizione, sottrazione, moltiplicazione e divisione:"
      ]
    },
    {
      "cell_type": "code",
      "execution_count": 4,
      "metadata": {
        "colab": {
          "base_uri": "https://localhost:8080/"
        },
        "id": "ecbcJvvuNR_x",
        "outputId": "13e0bfbd-3abf-4402-c7a5-b7fbc4d094a7"
      },
      "outputs": [
        {
          "output_type": "stream",
          "name": "stdout",
          "text": [
            "Somma: [5 7 9]\n",
            "Prodotto: [ 4 10 18]\n"
          ]
        }
      ],
      "source": [
        "a = np.array([1, 2, 3])\n",
        "b = np.array([4, 5, 6])\n",
        "\n",
        "somma = a + b\n",
        "print(\"Somma:\", somma)\n",
        "\n",
        "prodotto = a * b\n",
        "print(\"Prodotto:\", prodotto)\n"
      ]
    },
    {
      "cell_type": "markdown",
      "metadata": {
        "id": "_gEWGZNlNR_x"
      },
      "source": [
        "## Funzioni Utili\n",
        "numpy offre molte funzioni utili per operazioni matematiche, statistiche e di trasformazione. Alcuni esempi:"
      ]
    },
    {
      "cell_type": "code",
      "execution_count": 5,
      "metadata": {
        "colab": {
          "base_uri": "https://localhost:8080/"
        },
        "id": "GpJ_vrgcNR_y",
        "outputId": "9e20ecc7-0cbc-4658-e55a-9bd7c0c2a668"
      },
      "outputs": [
        {
          "output_type": "stream",
          "name": "stdout",
          "text": [
            "Media: 3.0\n",
            "Mediana: 3.0\n",
            "Matrice riformattata:\n",
            " [[1]\n",
            " [2]\n",
            " [3]\n",
            " [4]\n",
            " [5]]\n"
          ]
        }
      ],
      "source": [
        "array = np.array([1, 2, 3, 4, 5])\n",
        "\n",
        "# Media\n",
        "print(\"Media:\", np.mean(array))\n",
        "\n",
        "# Mediana\n",
        "print(\"Mediana:\", np.median(array))\n",
        "\n",
        "# Riformattazione\n",
        "matrice = array.reshape(5, 1)\n",
        "print(\"Matrice riformattata:\\n\", matrice)\n"
      ]
    },
    {
      "cell_type": "markdown",
      "metadata": {
        "id": "A0_tvo-VNR_y"
      },
      "source": [
        "## Tipi di Dato in Numpy\n"
      ]
    },
    {
      "cell_type": "code",
      "execution_count": 6,
      "metadata": {
        "colab": {
          "base_uri": "https://localhost:8080/"
        },
        "id": "-p3ywuxqNR_y",
        "outputId": "7d35d7f5-94d0-4ebb-d82d-e64a1fa8162d"
      },
      "outputs": [
        {
          "output_type": "stream",
          "name": "stdout",
          "text": [
            "[1 2 3]\n",
            "[1.5 2.5 3.5]\n",
            "[ True False  True]\n"
          ]
        }
      ],
      "source": [
        "# Creazione di un array di interi\n",
        "a = np.array([1, 2, 3], dtype='int32')\n",
        "print(a)\n",
        "\n",
        "# Creazione di un array di float\n",
        "b = np.array([1.5, 2.5, 3.5], dtype='float64')\n",
        "print(b)\n",
        "\n",
        "# Creazione di un array di booleani\n",
        "c = np.array([True, False, True], dtype='bool')\n",
        "print(c)"
      ]
    },
    {
      "cell_type": "markdown",
      "metadata": {
        "id": "RbYTWqWzNR_y"
      },
      "source": [
        "È importante notare che, mentre in Python standard la dimensione dei tipi int e float può variare a seconda della piattaforma, in numpy la dimensione dei tipi è sempre fissa, indipendentemente dalla piattaforma. Questo garantisce che i dati siano rappresentati in modo uniforme attraverso diverse piattaforme, rendendo numpy ideale per la computazione scientifica e la manipolazione di dati."
      ]
    },
    {
      "cell_type": "markdown",
      "metadata": {
        "id": "i_tRkwFmNR_y"
      },
      "source": [
        "## Accesso ai Dati e Relazione tra Numpy e Liste Python\n",
        "In numpy, l'accesso ai dati negli array avviene tramite indici, proprio come nelle liste Python. Tuttavia, gli array di numpy forniscono molta più flessibilità rispetto alle liste native, in particolare quando si tratta di array multidimensionali.\n",
        "\n",
        "### Accesso ai Dati tramite Indici in Numpy:\n",
        "\n",
        "Un array unidimensionale si comporta in modo molto simile a una lista standard:"
      ]
    },
    {
      "cell_type": "code",
      "execution_count": 7,
      "metadata": {
        "colab": {
          "base_uri": "https://localhost:8080/"
        },
        "id": "jZDjzOOYNR_y",
        "outputId": "869a26fb-95dd-4bb7-bffb-28fa4adcf309"
      },
      "outputs": [
        {
          "output_type": "stream",
          "name": "stdout",
          "text": [
            "1\n",
            "5\n"
          ]
        }
      ],
      "source": [
        "arr = np.array([1, 2, 3, 4, 5])\n",
        "print(arr[0])   # Stampa \"1\"\n",
        "print(arr[-1])  # Stampa \"5\", gli indici negativi partono dall'ultimo elemento a ritroso"
      ]
    },
    {
      "cell_type": "markdown",
      "metadata": {
        "id": "KYWb6aJpNR_y"
      },
      "source": [
        "Ma la vera potenza di numpy emerge quando si lavora con array multidimensionali:"
      ]
    },
    {
      "cell_type": "code",
      "execution_count": 8,
      "metadata": {
        "colab": {
          "base_uri": "https://localhost:8080/"
        },
        "id": "edMiO7d8NR_y",
        "outputId": "05020e51-ef31-41ee-a0a2-e63997e5a47b"
      },
      "outputs": [
        {
          "output_type": "stream",
          "name": "stdout",
          "text": [
            "6\n"
          ]
        }
      ],
      "source": [
        "matrix = np.array([[1, 2, 3], [4, 5, 6], [7, 8, 9]])\n",
        "print(matrix[1, 2])  # Stampa \"6\" (seconda riga, terza colonna)\n"
      ]
    },
    {
      "cell_type": "markdown",
      "metadata": {
        "id": "MSKK1TU1NR_y"
      },
      "source": [
        "Inoltre, numpy offre potenti funzionalità di slicing che permettono di accedere a sottosezioni dell'array:"
      ]
    },
    {
      "cell_type": "code",
      "execution_count": 9,
      "metadata": {
        "colab": {
          "base_uri": "https://localhost:8080/"
        },
        "id": "9g88aFT2NR_y",
        "outputId": "e477c588-79f6-4724-bd59-289b9572b005"
      },
      "outputs": [
        {
          "output_type": "stream",
          "name": "stdout",
          "text": [
            "[4 5 6]\n"
          ]
        }
      ],
      "source": [
        "print(matrix[1, :])  # Stampa \"[4 5 6]\", ovvero la seconda riga completa\n"
      ]
    },
    {
      "cell_type": "markdown",
      "metadata": {
        "id": "1gWZPu2bNR_y"
      },
      "source": [
        "## Numpy vs Liste Python\n",
        "\n",
        "Sebbene gli array di numpy possano sembrare simili alle liste Python in superficie, ci sono alcune differenze chiave:\n",
        "\n",
        "- **Omotipia**: Mentre una lista Python può contenere oggetti di tipo misto, un array numpy è omogeneo; tutti gli elementi devono essere dello stesso tipo.\n",
        "- **Efficienza**: Gli array di numpy sono più efficienti dal punto di vista della memoria e offrono prestazioni migliori per operazioni numeriche rispetto alle liste Python.\n",
        "- **Funzionalità**: numpy fornisce una vasta gamma di funzioni matematiche e statistiche che possono essere eseguite direttamente sugli array.\n",
        "- **Dimensionalità**: Mentre una lista Python è essenzialmente un array unidimensionale, numpy può gestire array multidimensionali. Questo lo rende particolarmente utile per operazioni come la manipolazione di matrici.\n",
        "\n",
        "In sintesi, mentre le liste Python sono utili per una vasta gamma di compiti generali, gli array di numpy sono ottimizzati per operazioni numeriche e matriciali ad alte prestazioni."
      ]
    },
    {
      "cell_type": "markdown",
      "metadata": {
        "id": "pqpIZm0dNR_z"
      },
      "source": [
        "## Accesso alla Forma dell'Array con shape\n",
        "La proprietà 'shape' di un array numpy fornisce una tupla che rappresenta la dimensione di ciascun asse dell'array. È uno degli attributi più utili perché permette di comprendere immediatamente la \"forma\" dell'array, cioè quante righe, colonne o altre dimensioni contiene.\n",
        "\n",
        "### Esempio con un Array Unidimensionale"
      ]
    },
    {
      "cell_type": "code",
      "execution_count": 10,
      "metadata": {
        "colab": {
          "base_uri": "https://localhost:8080/"
        },
        "id": "wFAtlck3NR_z",
        "outputId": "16d88ccb-dd32-4553-d59c-220ce70701ed"
      },
      "outputs": [
        {
          "output_type": "stream",
          "name": "stdout",
          "text": [
            "(5,)\n"
          ]
        }
      ],
      "source": [
        "arr = np.array([1, 2, 3, 4, 5])\n",
        "print(arr.shape)  # Stampa \"(5,)\", indicando che l'array ha 5 elementi lungo il suo unico asse."
      ]
    },
    {
      "cell_type": "markdown",
      "metadata": {
        "id": "ZGweh8aPNR_z"
      },
      "source": [
        "### Esempio con un Array Bidimensionale (Matrice)"
      ]
    },
    {
      "cell_type": "code",
      "execution_count": 14,
      "metadata": {
        "colab": {
          "base_uri": "https://localhost:8080/"
        },
        "id": "7ZR_z3znNR_z",
        "outputId": "32a5bdc9-9ddf-47fd-8516-1da3d9d21dfd"
      },
      "outputs": [
        {
          "output_type": "stream",
          "name": "stdout",
          "text": [
            "(3, 3)\n"
          ]
        }
      ],
      "source": [
        "matrix = np.array([[1, 2, 3], [4, 5, 6], [7, 8, 9]])\n",
        "print(matrix.shape)  # Stampa \"(3, 3)\", indicando che la matrice ha 3 righe e 3 colonne.\n"
      ]
    },
    {
      "cell_type": "markdown",
      "metadata": {
        "id": "BqXROufzNR_z"
      },
      "source": [
        "La proprietà shape è particolarmente utile quando si lavora con dataset di grandi dimensioni o con array di forme complesse, poiché fornisce una chiara indicazione di come sono strutturati i dati."
      ]
    }
  ],
  "metadata": {
    "kernelspec": {
      "display_name": "Python 3",
      "language": "python",
      "name": "python3"
    },
    "language_info": {
      "codemirror_mode": {
        "name": "ipython",
        "version": 3
      },
      "file_extension": ".py",
      "mimetype": "text/x-python",
      "name": "python",
      "nbconvert_exporter": "python",
      "pygments_lexer": "ipython3",
      "version": "3.9.17"
    },
    "orig_nbformat": 4,
    "colab": {
      "provenance": []
    }
  },
  "nbformat": 4,
  "nbformat_minor": 0
}