{
  "cells": [
    {
      "cell_type": "markdown",
      "metadata": {
        "id": "R-VgLVBIUTZW"
      },
      "source": [
        "[![Open In Colab](https://colab.research.google.com/assets/colab-badge.svg)](https://colab.research.google.com/github/alesaccoia/IULM_DDM2324_Notebooks/blob/main/13_italy_population.ipynb)"
      ]
    },
    {
      "cell_type": "markdown",
      "source": [
        "##Esercizio sulla popolazione italiana"
      ],
      "metadata": {
        "id": "VjAqC2qcY3ix"
      }
    },
    {
      "cell_type": "code",
      "execution_count": 1,
      "metadata": {
        "colab": {
          "base_uri": "https://localhost:8080/",
          "height": 498
        },
        "id": "uFNz2rA2UTZY",
        "outputId": "02da95d9-6853-4666-f980-630b15b509b1"
      },
      "outputs": [
        {
          "output_type": "stream",
          "name": "stdout",
          "text": [
            "--2024-04-09 14:45:37--  https://github.com/LeoLin72/IULM_DDM2324_Notebooks/raw/main/data/italy_population_administrative_layers.xlsx\n",
            "Resolving github.com (github.com)... 140.82.114.3\n",
            "Connecting to github.com (github.com)|140.82.114.3|:443... connected.\n",
            "HTTP request sent, awaiting response... 302 Found\n",
            "Location: https://raw.githubusercontent.com/LeoLin72/IULM_DDM2324_Notebooks/main/data/italy_population_administrative_layers.xlsx [following]\n",
            "--2024-04-09 14:45:37--  https://raw.githubusercontent.com/LeoLin72/IULM_DDM2324_Notebooks/main/data/italy_population_administrative_layers.xlsx\n",
            "Resolving raw.githubusercontent.com (raw.githubusercontent.com)... 185.199.108.133, 185.199.110.133, 185.199.109.133, ...\n",
            "Connecting to raw.githubusercontent.com (raw.githubusercontent.com)|185.199.108.133|:443... connected.\n",
            "HTTP request sent, awaiting response... 200 OK\n",
            "Length: 45407919 (43M) [application/octet-stream]\n",
            "Saving to: ‘italy_population_administrative_layers.xlsx’\n",
            "\n",
            "italy_population_ad 100%[===================>]  43.30M   145MB/s    in 0.3s    \n",
            "\n",
            "2024-04-09 14:45:38 (145 MB/s) - ‘italy_population_administrative_layers.xlsx’ saved [45407919/45407919]\n",
            "\n"
          ]
        },
        {
          "output_type": "execute_result",
          "data": {
            "text/plain": [
              "  COUNTRY  A_ID_0 A_LBL_0  A_ID_1   A_LBL_1  A_ID_2   A_LBL_2  A_ID_3  \\\n",
              "0     ITA       0  Italia      20  Sardegna      92  Cagliari   92009   \n",
              "1     ITA       0  Italia      20  Sardegna      92  Cagliari   92009   \n",
              "2     ITA       0  Italia      20  Sardegna      92  Cagliari   92009   \n",
              "3     ITA       0  Italia      20  Sardegna      92  Cagliari   92009   \n",
              "4     ITA       0  Italia      20  Sardegna      92  Cagliari   92009   \n",
              "\n",
              "    A_LBL_3  NIELSEN_A_ID  Eta  Totale Maschi  Totale Femmine  Totale  \n",
              "0  Cagliari             3    0            313             327     640  \n",
              "1  Cagliari             3    1            348             367     715  \n",
              "2  Cagliari             3    2            395             403     798  \n",
              "3  Cagliari             3    3            451             388     839  \n",
              "4  Cagliari             3    4            468             422     890  "
            ],
            "text/html": [
              "\n",
              "  <div id=\"df-cfbbcba3-4b5e-4fbd-a6a9-99cebb76b656\" class=\"colab-df-container\">\n",
              "    <div>\n",
              "<style scoped>\n",
              "    .dataframe tbody tr th:only-of-type {\n",
              "        vertical-align: middle;\n",
              "    }\n",
              "\n",
              "    .dataframe tbody tr th {\n",
              "        vertical-align: top;\n",
              "    }\n",
              "\n",
              "    .dataframe thead th {\n",
              "        text-align: right;\n",
              "    }\n",
              "</style>\n",
              "<table border=\"1\" class=\"dataframe\">\n",
              "  <thead>\n",
              "    <tr style=\"text-align: right;\">\n",
              "      <th></th>\n",
              "      <th>COUNTRY</th>\n",
              "      <th>A_ID_0</th>\n",
              "      <th>A_LBL_0</th>\n",
              "      <th>A_ID_1</th>\n",
              "      <th>A_LBL_1</th>\n",
              "      <th>A_ID_2</th>\n",
              "      <th>A_LBL_2</th>\n",
              "      <th>A_ID_3</th>\n",
              "      <th>A_LBL_3</th>\n",
              "      <th>NIELSEN_A_ID</th>\n",
              "      <th>Eta</th>\n",
              "      <th>Totale Maschi</th>\n",
              "      <th>Totale Femmine</th>\n",
              "      <th>Totale</th>\n",
              "    </tr>\n",
              "  </thead>\n",
              "  <tbody>\n",
              "    <tr>\n",
              "      <th>0</th>\n",
              "      <td>ITA</td>\n",
              "      <td>0</td>\n",
              "      <td>Italia</td>\n",
              "      <td>20</td>\n",
              "      <td>Sardegna</td>\n",
              "      <td>92</td>\n",
              "      <td>Cagliari</td>\n",
              "      <td>92009</td>\n",
              "      <td>Cagliari</td>\n",
              "      <td>3</td>\n",
              "      <td>0</td>\n",
              "      <td>313</td>\n",
              "      <td>327</td>\n",
              "      <td>640</td>\n",
              "    </tr>\n",
              "    <tr>\n",
              "      <th>1</th>\n",
              "      <td>ITA</td>\n",
              "      <td>0</td>\n",
              "      <td>Italia</td>\n",
              "      <td>20</td>\n",
              "      <td>Sardegna</td>\n",
              "      <td>92</td>\n",
              "      <td>Cagliari</td>\n",
              "      <td>92009</td>\n",
              "      <td>Cagliari</td>\n",
              "      <td>3</td>\n",
              "      <td>1</td>\n",
              "      <td>348</td>\n",
              "      <td>367</td>\n",
              "      <td>715</td>\n",
              "    </tr>\n",
              "    <tr>\n",
              "      <th>2</th>\n",
              "      <td>ITA</td>\n",
              "      <td>0</td>\n",
              "      <td>Italia</td>\n",
              "      <td>20</td>\n",
              "      <td>Sardegna</td>\n",
              "      <td>92</td>\n",
              "      <td>Cagliari</td>\n",
              "      <td>92009</td>\n",
              "      <td>Cagliari</td>\n",
              "      <td>3</td>\n",
              "      <td>2</td>\n",
              "      <td>395</td>\n",
              "      <td>403</td>\n",
              "      <td>798</td>\n",
              "    </tr>\n",
              "    <tr>\n",
              "      <th>3</th>\n",
              "      <td>ITA</td>\n",
              "      <td>0</td>\n",
              "      <td>Italia</td>\n",
              "      <td>20</td>\n",
              "      <td>Sardegna</td>\n",
              "      <td>92</td>\n",
              "      <td>Cagliari</td>\n",
              "      <td>92009</td>\n",
              "      <td>Cagliari</td>\n",
              "      <td>3</td>\n",
              "      <td>3</td>\n",
              "      <td>451</td>\n",
              "      <td>388</td>\n",
              "      <td>839</td>\n",
              "    </tr>\n",
              "    <tr>\n",
              "      <th>4</th>\n",
              "      <td>ITA</td>\n",
              "      <td>0</td>\n",
              "      <td>Italia</td>\n",
              "      <td>20</td>\n",
              "      <td>Sardegna</td>\n",
              "      <td>92</td>\n",
              "      <td>Cagliari</td>\n",
              "      <td>92009</td>\n",
              "      <td>Cagliari</td>\n",
              "      <td>3</td>\n",
              "      <td>4</td>\n",
              "      <td>468</td>\n",
              "      <td>422</td>\n",
              "      <td>890</td>\n",
              "    </tr>\n",
              "  </tbody>\n",
              "</table>\n",
              "</div>\n",
              "    <div class=\"colab-df-buttons\">\n",
              "\n",
              "  <div class=\"colab-df-container\">\n",
              "    <button class=\"colab-df-convert\" onclick=\"convertToInteractive('df-cfbbcba3-4b5e-4fbd-a6a9-99cebb76b656')\"\n",
              "            title=\"Convert this dataframe to an interactive table.\"\n",
              "            style=\"display:none;\">\n",
              "\n",
              "  <svg xmlns=\"http://www.w3.org/2000/svg\" height=\"24px\" viewBox=\"0 -960 960 960\">\n",
              "    <path d=\"M120-120v-720h720v720H120Zm60-500h600v-160H180v160Zm220 220h160v-160H400v160Zm0 220h160v-160H400v160ZM180-400h160v-160H180v160Zm440 0h160v-160H620v160ZM180-180h160v-160H180v160Zm440 0h160v-160H620v160Z\"/>\n",
              "  </svg>\n",
              "    </button>\n",
              "\n",
              "  <style>\n",
              "    .colab-df-container {\n",
              "      display:flex;\n",
              "      gap: 12px;\n",
              "    }\n",
              "\n",
              "    .colab-df-convert {\n",
              "      background-color: #E8F0FE;\n",
              "      border: none;\n",
              "      border-radius: 50%;\n",
              "      cursor: pointer;\n",
              "      display: none;\n",
              "      fill: #1967D2;\n",
              "      height: 32px;\n",
              "      padding: 0 0 0 0;\n",
              "      width: 32px;\n",
              "    }\n",
              "\n",
              "    .colab-df-convert:hover {\n",
              "      background-color: #E2EBFA;\n",
              "      box-shadow: 0px 1px 2px rgba(60, 64, 67, 0.3), 0px 1px 3px 1px rgba(60, 64, 67, 0.15);\n",
              "      fill: #174EA6;\n",
              "    }\n",
              "\n",
              "    .colab-df-buttons div {\n",
              "      margin-bottom: 4px;\n",
              "    }\n",
              "\n",
              "    [theme=dark] .colab-df-convert {\n",
              "      background-color: #3B4455;\n",
              "      fill: #D2E3FC;\n",
              "    }\n",
              "\n",
              "    [theme=dark] .colab-df-convert:hover {\n",
              "      background-color: #434B5C;\n",
              "      box-shadow: 0px 1px 3px 1px rgba(0, 0, 0, 0.15);\n",
              "      filter: drop-shadow(0px 1px 2px rgba(0, 0, 0, 0.3));\n",
              "      fill: #FFFFFF;\n",
              "    }\n",
              "  </style>\n",
              "\n",
              "    <script>\n",
              "      const buttonEl =\n",
              "        document.querySelector('#df-cfbbcba3-4b5e-4fbd-a6a9-99cebb76b656 button.colab-df-convert');\n",
              "      buttonEl.style.display =\n",
              "        google.colab.kernel.accessAllowed ? 'block' : 'none';\n",
              "\n",
              "      async function convertToInteractive(key) {\n",
              "        const element = document.querySelector('#df-cfbbcba3-4b5e-4fbd-a6a9-99cebb76b656');\n",
              "        const dataTable =\n",
              "          await google.colab.kernel.invokeFunction('convertToInteractive',\n",
              "                                                    [key], {});\n",
              "        if (!dataTable) return;\n",
              "\n",
              "        const docLinkHtml = 'Like what you see? Visit the ' +\n",
              "          '<a target=\"_blank\" href=https://colab.research.google.com/notebooks/data_table.ipynb>data table notebook</a>'\n",
              "          + ' to learn more about interactive tables.';\n",
              "        element.innerHTML = '';\n",
              "        dataTable['output_type'] = 'display_data';\n",
              "        await google.colab.output.renderOutput(dataTable, element);\n",
              "        const docLink = document.createElement('div');\n",
              "        docLink.innerHTML = docLinkHtml;\n",
              "        element.appendChild(docLink);\n",
              "      }\n",
              "    </script>\n",
              "  </div>\n",
              "\n",
              "\n",
              "<div id=\"df-8ba48690-227b-4152-bda9-91817c14275a\">\n",
              "  <button class=\"colab-df-quickchart\" onclick=\"quickchart('df-8ba48690-227b-4152-bda9-91817c14275a')\"\n",
              "            title=\"Suggest charts\"\n",
              "            style=\"display:none;\">\n",
              "\n",
              "<svg xmlns=\"http://www.w3.org/2000/svg\" height=\"24px\"viewBox=\"0 0 24 24\"\n",
              "     width=\"24px\">\n",
              "    <g>\n",
              "        <path d=\"M19 3H5c-1.1 0-2 .9-2 2v14c0 1.1.9 2 2 2h14c1.1 0 2-.9 2-2V5c0-1.1-.9-2-2-2zM9 17H7v-7h2v7zm4 0h-2V7h2v10zm4 0h-2v-4h2v4z\"/>\n",
              "    </g>\n",
              "</svg>\n",
              "  </button>\n",
              "\n",
              "<style>\n",
              "  .colab-df-quickchart {\n",
              "      --bg-color: #E8F0FE;\n",
              "      --fill-color: #1967D2;\n",
              "      --hover-bg-color: #E2EBFA;\n",
              "      --hover-fill-color: #174EA6;\n",
              "      --disabled-fill-color: #AAA;\n",
              "      --disabled-bg-color: #DDD;\n",
              "  }\n",
              "\n",
              "  [theme=dark] .colab-df-quickchart {\n",
              "      --bg-color: #3B4455;\n",
              "      --fill-color: #D2E3FC;\n",
              "      --hover-bg-color: #434B5C;\n",
              "      --hover-fill-color: #FFFFFF;\n",
              "      --disabled-bg-color: #3B4455;\n",
              "      --disabled-fill-color: #666;\n",
              "  }\n",
              "\n",
              "  .colab-df-quickchart {\n",
              "    background-color: var(--bg-color);\n",
              "    border: none;\n",
              "    border-radius: 50%;\n",
              "    cursor: pointer;\n",
              "    display: none;\n",
              "    fill: var(--fill-color);\n",
              "    height: 32px;\n",
              "    padding: 0;\n",
              "    width: 32px;\n",
              "  }\n",
              "\n",
              "  .colab-df-quickchart:hover {\n",
              "    background-color: var(--hover-bg-color);\n",
              "    box-shadow: 0 1px 2px rgba(60, 64, 67, 0.3), 0 1px 3px 1px rgba(60, 64, 67, 0.15);\n",
              "    fill: var(--button-hover-fill-color);\n",
              "  }\n",
              "\n",
              "  .colab-df-quickchart-complete:disabled,\n",
              "  .colab-df-quickchart-complete:disabled:hover {\n",
              "    background-color: var(--disabled-bg-color);\n",
              "    fill: var(--disabled-fill-color);\n",
              "    box-shadow: none;\n",
              "  }\n",
              "\n",
              "  .colab-df-spinner {\n",
              "    border: 2px solid var(--fill-color);\n",
              "    border-color: transparent;\n",
              "    border-bottom-color: var(--fill-color);\n",
              "    animation:\n",
              "      spin 1s steps(1) infinite;\n",
              "  }\n",
              "\n",
              "  @keyframes spin {\n",
              "    0% {\n",
              "      border-color: transparent;\n",
              "      border-bottom-color: var(--fill-color);\n",
              "      border-left-color: var(--fill-color);\n",
              "    }\n",
              "    20% {\n",
              "      border-color: transparent;\n",
              "      border-left-color: var(--fill-color);\n",
              "      border-top-color: var(--fill-color);\n",
              "    }\n",
              "    30% {\n",
              "      border-color: transparent;\n",
              "      border-left-color: var(--fill-color);\n",
              "      border-top-color: var(--fill-color);\n",
              "      border-right-color: var(--fill-color);\n",
              "    }\n",
              "    40% {\n",
              "      border-color: transparent;\n",
              "      border-right-color: var(--fill-color);\n",
              "      border-top-color: var(--fill-color);\n",
              "    }\n",
              "    60% {\n",
              "      border-color: transparent;\n",
              "      border-right-color: var(--fill-color);\n",
              "    }\n",
              "    80% {\n",
              "      border-color: transparent;\n",
              "      border-right-color: var(--fill-color);\n",
              "      border-bottom-color: var(--fill-color);\n",
              "    }\n",
              "    90% {\n",
              "      border-color: transparent;\n",
              "      border-bottom-color: var(--fill-color);\n",
              "    }\n",
              "  }\n",
              "</style>\n",
              "\n",
              "  <script>\n",
              "    async function quickchart(key) {\n",
              "      const quickchartButtonEl =\n",
              "        document.querySelector('#' + key + ' button');\n",
              "      quickchartButtonEl.disabled = true;  // To prevent multiple clicks.\n",
              "      quickchartButtonEl.classList.add('colab-df-spinner');\n",
              "      try {\n",
              "        const charts = await google.colab.kernel.invokeFunction(\n",
              "            'suggestCharts', [key], {});\n",
              "      } catch (error) {\n",
              "        console.error('Error during call to suggestCharts:', error);\n",
              "      }\n",
              "      quickchartButtonEl.classList.remove('colab-df-spinner');\n",
              "      quickchartButtonEl.classList.add('colab-df-quickchart-complete');\n",
              "    }\n",
              "    (() => {\n",
              "      let quickchartButtonEl =\n",
              "        document.querySelector('#df-8ba48690-227b-4152-bda9-91817c14275a button');\n",
              "      quickchartButtonEl.style.display =\n",
              "        google.colab.kernel.accessAllowed ? 'block' : 'none';\n",
              "    })();\n",
              "  </script>\n",
              "</div>\n",
              "    </div>\n",
              "  </div>\n"
            ],
            "application/vnd.google.colaboratory.intrinsic+json": {
              "type": "dataframe",
              "variable_name": "df"
            }
          },
          "metadata": {},
          "execution_count": 1
        }
      ],
      "source": [
        "import pandas as pd\n",
        "\n",
        "!wget \"https://github.com/LeoLin72/IULM_DDM2324_Notebooks/raw/main/data/italy_population_administrative_layers.xlsx\"\n",
        "# a.1\n",
        "# Carica il foglio \"Raw Data\" dal file fornito\n",
        "df = pd.read_excel(\"italy_population_administrative_layers.xlsx\", sheet_name=\"Raw Data\")\n",
        "\n",
        "# Mostra le prime righe del dataset per comprendere la struttura dei dati\n",
        "# a.2\n",
        "df.head()\n"
      ]
    },
    {
      "cell_type": "code",
      "execution_count": 3,
      "metadata": {
        "id": "ktblvwcvUTZa"
      },
      "outputs": [],
      "source": [
        "#a.3\n",
        "df = df[df['Eta'] != 999]\n"
      ]
    },
    {
      "cell_type": "code",
      "execution_count": 4,
      "metadata": {
        "colab": {
          "base_uri": "https://localhost:8080/"
        },
        "id": "VYGLPt-MUTZa",
        "outputId": "3c395895-b5ca-4171-cd7f-257eddc1aafe"
      },
      "outputs": [
        {
          "output_type": "stream",
          "name": "stdout",
          "text": [
            "Sono presenti 7912 codici comune unici\n",
            "Il numero totale di maschi in Italia é 29041830\n",
            "Il numero totale di femmine in Italia é 30582625\n"
          ]
        }
      ],
      "source": [
        "# b.1\n",
        "num_comuni = df['A_ID_3'].nunique()\n",
        "print(f\"Sono presenti {num_comuni} codici comune unici\")\n",
        "\n",
        "# b.2\n",
        "total_males = df['Totale Maschi'].sum()\n",
        "total_females = df['Totale Femmine'].sum()\n",
        "print(f\"Il numero totale di maschi in Italia é {total_males}\")\n",
        "print(f\"Il numero totale di femmine in Italia é {total_females}\")\n"
      ]
    },
    {
      "cell_type": "code",
      "execution_count": 5,
      "metadata": {
        "colab": {
          "base_uri": "https://localhost:8080/"
        },
        "id": "H8vgq57HUTZb",
        "outputId": "263073a2-161a-4a68-a68f-a0535b79e852"
      },
      "outputs": [
        {
          "output_type": "stream",
          "name": "stdout",
          "text": [
            "Il comune più popoloso in Italia è (58, 'Roma', 58091, 'Roma') con una popolazione di 2808293\n",
            "Il comune meno popoloso in Italia è (97, 'Lecco', 97055, 'Morterone') con una popolazione di 30\n"
          ]
        }
      ],
      "source": [
        "# b.3\n",
        "grouped = df.groupby(['A_ID_2', 'A_LBL_2', 'A_ID_3', 'A_LBL_3'])['Totale'].sum()\n",
        "highest_population_comune = grouped.idxmax()\n",
        "lowest_population_comune = grouped.idxmin()\n",
        "\n",
        "\n",
        "highest_population_value = grouped[highest_population_comune]\n",
        "lowest_population_value = grouped[lowest_population_comune]\n",
        "\n",
        "print(f\"Il comune più popoloso in Italia è {highest_population_comune} con una popolazione di {highest_population_value}\")\n",
        "print(f\"Il comune meno popoloso in Italia è {lowest_population_comune} con una popolazione di {lowest_population_value}\")\n",
        "\n"
      ]
    },
    {
      "cell_type": "code",
      "execution_count": 6,
      "metadata": {
        "colab": {
          "base_uri": "https://localhost:8080/",
          "height": 607
        },
        "id": "gLUeA8W8UTZb",
        "outputId": "70a8bd65-a53c-4574-ace2-c866adde0f34"
      },
      "outputs": [
        {
          "output_type": "display_data",
          "data": {
            "text/plain": [
              "<Figure size 1200x600 with 1 Axes>"
            ],
            "image/png": "[encoded data removed]"
          },
          "metadata": {}
        }
      ],
      "source": [
        "# c.2\n",
        "import matplotlib.pyplot as plt\n",
        "\n",
        "# Raggruppiamo per 'Eta' e sommiamo i valori per 'Totale Maschi' e 'Totale Femmine'\n",
        "grouped_by_age = df.groupby('Eta').agg({'Totale Maschi': 'sum', 'Totale Femmine': 'sum'}).reset_index()\n",
        "\n",
        "# Creiamo il grafico a linee\n",
        "plt.figure(figsize=(12, 6))\n",
        "plt.plot(grouped_by_age['Eta'], grouped_by_age['Totale Maschi'], label='Maschi', color='blue')\n",
        "plt.plot(grouped_by_age['Eta'], grouped_by_age['Totale Femmine'], label='Femmine', color='red')\n",
        "plt.xlabel('Età')\n",
        "plt.ylabel('Popolazione')\n",
        "plt.title('Popolazione maschile e femminile per età in Italia')\n",
        "plt.legend()\n",
        "plt.grid(True)\n",
        "plt.tight_layout()\n",
        "plt.show()"
      ]
    },
    {
      "cell_type": "code",
      "execution_count": null,
      "metadata": {
        "id": "cs4XIvdZUTZc"
      },
      "outputs": [],
      "source": [
        "# c.3\n",
        "max_males_age = grouped_by_age['Totale Maschi'].idxmax()\n",
        "max_females_age = grouped_by_age['Totale Femmine'].idxmax()\n",
        "\n",
        "max_males_age, max_females_age\n"
      ]
    },
    {
      "cell_type": "code",
      "execution_count": 7,
      "metadata": {
        "colab": {
          "base_uri": "https://localhost:8080/"
        },
        "id": "YywomPQDUTZc",
        "outputId": "b8bb1536-757c-4988-bbbe-1818b89eca27"
      },
      "outputs": [
        {
          "output_type": "execute_result",
          "data": {
            "text/plain": [
              "A_LBL_1\n",
              "Liguria                  0.274369\n",
              "Friuli Venezia Giulia    0.252694\n",
              "Umbria                   0.246992\n",
              "Piemonte                 0.246165\n",
              "Toscana                  0.244920\n",
              "Marche                   0.239530\n",
              "Molise                   0.238686\n",
              "Sardegna                 0.230304\n",
              "Emilia-Romagna           0.229966\n",
              "Abruzzo                  0.229912\n",
              "Valle d'Aosta            0.229674\n",
              "Basilicata               0.221607\n",
              "Veneto                   0.220693\n",
              "Lombardia                0.217394\n",
              "Puglia                   0.213222\n",
              "Lazio                    0.209779\n",
              "Calabria                 0.208752\n",
              "Sicilia                  0.204117\n",
              "Trentino-Alto Adige      0.200361\n",
              "Campania                 0.180579\n",
              "Name: Totale, dtype: float64"
            ]
          },
          "metadata": {},
          "execution_count": 7
        }
      ],
      "source": [
        "# Supponendo l'esistenza del DataFrame df\n",
        "\n",
        "# Calcola la popolazione totale per ogni regione\n",
        "total_population_by_region = df.groupby('A_LBL_1')['Totale'].sum()\n",
        "\n",
        "# Calcola la popolazione degli anziani (età > 65) per ogni regione\n",
        "elderly_population_by_region = df[df['Eta'] > 65].groupby('A_LBL_1')['Totale'].sum()\n",
        "\n",
        "# Calcola la proporzione del numero di anziani rispetto al totale della popolazione per ogni regione\n",
        "proportion_elderly_by_region = elderly_population_by_region / total_population_by_region\n",
        "\n",
        "proportion_elderly_by_region.sort_values(ascending=False)\n"
      ]
    },
    {
      "cell_type": "markdown",
      "metadata": {
        "id": "Q9x09wW8UTZd"
      },
      "source": [
        "# Calcola l'età media pesata per ciascuna regione (esercizio 3 capitolo 4)"
      ]
    },
    {
      "cell_type": "code",
      "execution_count": 8,
      "metadata": {
        "colab": {
          "base_uri": "https://localhost:8080/"
        },
        "id": "JeWNS1yJUTZd",
        "outputId": "d673176f-2077-4a46-c5d9-7fe58e2c978c"
      },
      "outputs": [
        {
          "output_type": "execute_result",
          "data": {
            "text/plain": [
              "A_LBL_1\n",
              "Liguria                  48.719653\n",
              "Friuli Venezia Giulia    47.306784\n",
              "Piemonte                 46.829720\n",
              "Toscana                  46.817073\n",
              "Umbria                   46.805737\n",
              "Sardegna                 46.779786\n",
              "Molise                   46.698432\n",
              "Marche                   46.427492\n",
              "Abruzzo                  46.013706\n",
              "Valle d'Aosta            45.971216\n",
              "Emilia-Romagna           45.931917\n",
              "Basilicata               45.662961\n",
              "Veneto                   45.442861\n",
              "Lombardia                45.020239\n",
              "Lazio                    44.964875\n",
              "Puglia                   44.610702\n",
              "Calabria                 44.363277\n",
              "Sicilia                  43.874251\n",
              "Trentino-Alto Adige      43.482566\n",
              "Campania                 42.492762\n",
              "dtype: float64"
            ]
          },
          "metadata": {},
          "execution_count": 8
        }
      ],
      "source": [
        "# Moltiplica l'età per la popolazione totale per ottenere il peso totale per ogni età\n",
        "df['weighted_age'] = df['Eta'] * df['Totale']\n",
        "\n",
        "# Calcola la somma dei pesi e la popolazione totale per ciascuna regione\n",
        "sum_weights = df.groupby('A_LBL_1')['weighted_age'].sum()\n",
        "sum_population = df.groupby('A_LBL_1')['Totale'].sum()\n",
        "\n",
        "# Calcola l'età media pesata dividendo la somma dei pesi per la popolazione totale\n",
        "average_weighted_age = sum_weights / sum_population\n",
        "average_weighted_age.sort_values(ascending=False)\n"
      ]
    },
    {
      "cell_type": "markdown",
      "source": [
        "##Calcolo del P-value e F value"
      ],
      "metadata": {
        "id": "AWnvq3sWZfyy"
      }
    },
    {
      "cell_type": "code",
      "execution_count": 9,
      "metadata": {
        "colab": {
          "base_uri": "https://localhost:8080/"
        },
        "id": "8QQQs3diUTZd",
        "outputId": "2e87ec49-4047-4469-dc95-dd513157763e"
      },
      "outputs": [
        {
          "output_type": "stream",
          "name": "stdout",
          "text": [
            "F statistic: 231.53431897915394\n",
            "P-value: 0.0\n"
          ]
        }
      ],
      "source": [
        "import scipy.stats as stats\n",
        "\n",
        "# Crea una lista di età per ciascuna regione\n",
        "ages_by_region = [df['weighted_age'][df['A_LBL_1'] == region] for region in df['A_LBL_1'].unique()]\n",
        "\n",
        "# Esegui il test ANOVA\n",
        "f_statistic, p_value = stats.f_oneway(*ages_by_region)\n",
        "\n",
        "print(f\"F statistic: {f_statistic}\")\n",
        "print(f\"P-value: {p_value}\")\n"
      ]
    }
  ],
  "metadata": {
    "kernelspec": {
      "display_name": "Python 3",
      "language": "python",
      "name": "python3"
    },
    "language_info": {
      "codemirror_mode": {
        "name": "ipython",
        "version": 3
      },
      "file_extension": ".py",
      "mimetype": "text/x-python",
      "name": "python",
      "nbconvert_exporter": "python",
      "pygments_lexer": "ipython3",
      "version": "3.9.17"
    },
    "colab": {
      "provenance": []
    }
  },
  "nbformat": 4,
  "nbformat_minor": 0
}